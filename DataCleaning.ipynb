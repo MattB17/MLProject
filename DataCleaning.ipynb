{
 "cells": [
  {
   "cell_type": "markdown",
   "metadata": {},
   "source": [
    "# Goodreads Data Cleaning\n",
    "\n",
    "Performing data cleaning tasks to ensure data is ready for modelling\n",
    "\n",
    "### Imports"
   ]
  },
  {
   "cell_type": "code",
   "execution_count": 1,
   "metadata": {},
   "outputs": [],
   "source": [
    "import json\n",
    "import os\n",
    "import numpy as np\n",
    "import pandas as pd\n",
    "import seaborn as sns\n",
    "import matplotlib.pyplot as plt\n",
    "\n",
    "sns.set_style('whitegrid')\n",
    "plt.style.use('seaborn-darkgrid')\n",
    "%matplotlib inline"
   ]
  },
  {
   "cell_type": "markdown",
   "metadata": {},
   "source": [
    "### Directories\n",
    "\n",
    "Ensuring the output data directory is created"
   ]
  },
  {
   "cell_type": "code",
   "execution_count": 3,
   "metadata": {},
   "outputs": [],
   "source": [
    "OUTPUT_DATA_DIR = \"./output_data/\"\n",
    "\n",
    "if not os.path.exists(OUTPUT_DATA_DIR):\n",
    "    os.makedirs(OUTPUT_DATA_DIR)"
   ]
  },
  {
   "cell_type": "code",
   "execution_count": 4,
   "metadata": {},
   "outputs": [],
   "source": [
    "def construct_data_path(dataset_name):\n",
    "    \"\"\"Constructs the path to `dataset_name`.\n",
    "    \n",
    "    Parameters\n",
    "    ----------\n",
    "    dataset_name: str\n",
    "        The name of the dataset.\n",
    "    \n",
    "    Returns\n",
    "    -------\n",
    "    str\n",
    "        A path to the dataset.\n",
    "    \n",
    "    \"\"\"\n",
    "    return os.path.join('data', '{}.json'.format(dataset_name))"
   ]
  },
  {
   "cell_type": "code",
   "execution_count": 5,
   "metadata": {},
   "outputs": [],
   "source": [
    "def load_and_sample_dataset(data_path, sample_percentage):\n",
    "    \"\"\"Used to load `sample_percentage`% of the data at `data_path`.\n",
    "    \n",
    "    Parameters\n",
    "    ----------\n",
    "    data_path: str\n",
    "        A string representing the path to the data\n",
    "    sample_percentage: float\n",
    "        A number between 0 and 100 representing the fraction\n",
    "        of the data to sample.\n",
    "    \n",
    "    Returns\n",
    "    -------\n",
    "    pd.DataFrame\n",
    "        A pandas dataframe object loaded from `data_path` after\n",
    "        loading `sample_percentage`% of the data.\n",
    "    \n",
    "    \"\"\"\n",
    "    data = []\n",
    "    idx = 0\n",
    "    modulus = 100 // sample_percentage\n",
    "    with open(data_path, 'r') as data_file:\n",
    "        for row in data_file:\n",
    "            if idx % modulus == 0:\n",
    "                data.append(json.loads(row))\n",
    "            idx += 1\n",
    "    return pd.DataFrame(data)"
   ]
  },
  {
   "cell_type": "code",
   "execution_count": 6,
   "metadata": {},
   "outputs": [],
   "source": [
    "interactions_df = load_and_sample_dataset(construct_data_path('goodreads_interactions_poetry'), 10)"
   ]
  },
  {
   "cell_type": "code",
   "execution_count": 7,
   "metadata": {},
   "outputs": [],
   "source": [
    "books_df = load_and_sample_dataset(construct_data_path('goodreads_books_poetry'), 100)"
   ]
  },
  {
   "cell_type": "code",
   "execution_count": 8,
   "metadata": {},
   "outputs": [],
   "source": [
    "reviews_df = load_and_sample_dataset(construct_data_path('goodreads_reviews_poetry'), 100)"
   ]
  },
  {
   "cell_type": "code",
   "execution_count": 85,
   "metadata": {},
   "outputs": [],
   "source": [
    "all_interactions_df = pd.merge(interactions_df, books_df, how='left', left_on=\"book_id\", right_on=\"book_id\")"
   ]
  },
  {
   "cell_type": "code",
   "execution_count": 10,
   "metadata": {},
   "outputs": [],
   "source": [
    "pd.set_option('display.max_columns', None)"
   ]
  },
  {
   "cell_type": "markdown",
   "metadata": {},
   "source": [
    "### Pre-Processing Data\n",
    "\n",
    "We clean the data with the following steps:\n",
    "*  removing incorrect records\n",
    "*  constructing the monotonic chain `shelve->read->rate->recommend`\n",
    "  * recommend corresponds to a rating that is greater than 3\n",
    "* add formatted date columns in the form 'yyyy-mm'\n",
    "* add a flag to indicate if the book was translated\n",
    "* add a column indicating the primary author's id\n",
    "* add a column indicating if the book is part of a series\n",
    "* add a column with how many books are in the series (1 indicates a solo publication - not part of a series)\n",
    "* add a column that combines the book title and description for easier text processing later"
   ]
  },
  {
   "cell_type": "code",
   "execution_count": 14,
   "metadata": {},
   "outputs": [],
   "source": [
    "def remove_incorrect_records(data_df):\n",
    "    \"\"\"Removes records that do not properly follow the chain.\n",
    "    \n",
    "    Removing data where `is_read = False` but it has been \n",
    "    rated `rating > 0`.\n",
    "    \n",
    "    Parameters\n",
    "    ----------\n",
    "    data_df: pd.DataFrame\n",
    "        The DataFrame from which incorrect records will be removed.\n",
    "    \n",
    "    Returns\n",
    "    -------\n",
    "    pd.DataFrame\n",
    "        The DataFrame obtained from `data_df` after removing\n",
    "        incorrect records.\n",
    "    \n",
    "    \"\"\"\n",
    "    corrupt_files = data_df[(data_df['is_read'] == False) & (all_interactions_df['rating'] > 0)].index\n",
    "    return data_df[~data_df.index.isin(corrupt_files)]"
   ]
  },
  {
   "cell_type": "code",
   "execution_count": 28,
   "metadata": {},
   "outputs": [],
   "source": [
    "def create_chain(data_df):\n",
    "    \"\"\"Creates variables for the chain in `data_df`.\n",
    "    \n",
    "    4 new indicator variables for the actions shelved, read,\n",
    "    rated, recommended.\n",
    "    \n",
    "    Parameters\n",
    "    ----------\n",
    "    data_df: pd.DataFrame\n",
    "        The DataFrame augmented with the chain variables.\n",
    "    \n",
    "    \"\"\"\n",
    "    data_df['shelved'] = 1\n",
    "    data_df['read'] = data_df['is_read'].apply(lambda x: 1 if x == True else 0)\n",
    "    data_df['rated'] = data_df['rating'].apply(lambda x: 1 if x > 0 else 0)\n",
    "    data_df['recommended'] = data_df['rating'].apply(lambda x: 1 if x > 3 else 0)\n",
    "    return data_df"
   ]
  },
  {
   "cell_type": "code",
   "execution_count": 31,
   "metadata": {},
   "outputs": [],
   "source": [
    "month_map = {'Jan': '01', 'Feb': '02', 'Mar': '03', 'Apr': '04', 'May': '05', 'Jun': '06',\n",
    "             'Jul': '07', 'Aug': '08', 'Sep': '09', 'Oct': '10', 'Nov': '11', 'Dec': '12'}\n",
    "\n",
    "def reformat_date_cols(data_df, date_cols):\n",
    "    \"\"\"Reformats date columns in `data_df` for easier analysis.\n",
    "    \n",
    "    The columns in `date_cols` are formatted in a way that is\n",
    "    easier to visualize. The reformatted date columns have the\n",
    "    format 'yyyy-mm'\n",
    "    \n",
    "    Parameters\n",
    "    ----------\n",
    "    data_df: pd.DataFrame\n",
    "        A pandas DataFrame to which date columns will be added.\n",
    "    date_cols: collection\n",
    "        A collection of date columns to be reformatted\n",
    "    \n",
    "    Returns\n",
    "    -------\n",
    "    pd.DataFrame\n",
    "        A pandas DataFrame obtained from `data_df` by augmenting it with\n",
    "        reformatted date columns for the columns in `date_cols`.\n",
    "    \n",
    "    \"\"\"\n",
    "    for date_col in date_cols:\n",
    "        col_name = date_col.split(\"_\")[1]\n",
    "        month_name = \"month_{}\".format(col_name)\n",
    "        year_name = \"year_{}\".format(col_name)\n",
    "        data_df[month_name] = data_df[date_col].apply(lambda x: month_map[x.split()[1]])\n",
    "        data_df[year_name] = data_df[date_col].apply(lambda x: x.split()[-1])\n",
    "        data_df['year_month_{}'.format(col_name)] = data_df[year_name] + \"-\" + data_df[month_name]\n",
    "        data_df = data_df.drop(columns=[month_name, year_name])\n",
    "    return data_df"
   ]
  },
  {
   "cell_type": "code",
   "execution_count": 32,
   "metadata": {},
   "outputs": [],
   "source": [
    "def format_publication_date(data_df):\n",
    "    \"\"\"Formats the publication date in `data_df`.\n",
    "    \n",
    "    The formatted publication date has the form 'yyyy-mm'.\n",
    "    \n",
    "    Parameters\n",
    "    ----------\n",
    "    data_df: pd.DataFrame\n",
    "        The pandas DataFrame for which the publication date will be formatted.\n",
    "    \n",
    "    Returns\n",
    "    -------\n",
    "    pd.DataFrame\n",
    "        The pandas DataFrame obtained from `data_df` after adding a column\n",
    "        for the formatted publication date.\n",
    "    \n",
    "    \"\"\"\n",
    "    data_df['formatted_pub_month'] = data_df['publication_month'].apply(lambda x: str(x).zfill(2))\n",
    "    data_df['formatted_pub_year'] = data_df['publication_year'].apply(lambda x: str(x))\n",
    "    data_df['pub_date'] = data_df['formatted_pub_year'] + \"-\" + data_df['formatted_pub_month']\n",
    "    data_df = data_df.drop(columns=['formatted_pub_year', 'formatted_pub_month'])\n",
    "    return data_df"
   ]
  },
  {
   "cell_type": "code",
   "execution_count": 33,
   "metadata": {},
   "outputs": [],
   "source": [
    "def format_date_cols(data_df):\n",
    "    \"\"\"Formats the date columns of `data_df`.\n",
    "    \n",
    "    Parameters\n",
    "    ----------\n",
    "    data_df: pd.DataFrame\n",
    "        The pandas DataFrame to be formatted.\n",
    "    \n",
    "    Returns\n",
    "    -------\n",
    "    pd.DataFrame\n",
    "        The DataFrame obtained from `data_df` after\n",
    "        formatting its columns.\n",
    "    \n",
    "    \"\"\"\n",
    "    data_df = reformat_date_cols(data_df, ['date_added', 'date_updated'])\n",
    "    return format_publication_date(data_df)"
   ]
  },
  {
   "cell_type": "code",
   "execution_count": 58,
   "metadata": {},
   "outputs": [],
   "source": [
    "def is_translated(authors_lst):\n",
    "    \"\"\"Indicates if the book was translated based on `authors_lst`.\n",
    "    \n",
    "    Parameters\n",
    "    ----------\n",
    "    authors_lst: list\n",
    "        A list of dictionaries indicating the authors.\n",
    "    \n",
    "    Returns\n",
    "    -------\n",
    "    bool\n",
    "        True if `authors_lst` contains a translator. Otherwise, False.\n",
    "    \n",
    "    \"\"\"\n",
    "    for author_dict in authors_lst:\n",
    "        if author_dict['role'] == 'Translation':\n",
    "            return True\n",
    "    return False"
   ]
  },
  {
   "cell_type": "code",
   "execution_count": 59,
   "metadata": {},
   "outputs": [],
   "source": [
    "def get_author_id(authors_lst):\n",
    "    \"\"\"Retrieves the id of the main author.\n",
    "    \n",
    "    Parameters\n",
    "    ----------\n",
    "    authors_lst: list\n",
    "        A list of dictionaries indicating the authors.\n",
    "    \n",
    "    Returns\n",
    "    -------\n",
    "    str\n",
    "        A string representing the id of the main author.\n",
    "    \n",
    "    \"\"\"\n",
    "    for author_dict in authors_lst:\n",
    "        if author_dict['role'] == '':\n",
    "            return author_dict['author_id']\n",
    "    return ''"
   ]
  },
  {
   "cell_type": "code",
   "execution_count": 63,
   "metadata": {},
   "outputs": [],
   "source": [
    "def add_author_info(data_df):\n",
    "    \"\"\"Adds author info to the data in `data_df`.\n",
    "    \n",
    "    Parameters\n",
    "    ----------\n",
    "    data_df: pd.DataFrame\n",
    "        The DataFrame to which author information\n",
    "        will be added.\n",
    "    \n",
    "    Returns\n",
    "    -------\n",
    "    pd.DataFrame\n",
    "        The DataFrame obtained from `data_df` after adding\n",
    "        columns to record author information.\n",
    "    \n",
    "    \"\"\"\n",
    "    data_df['is_translated'] = data_df['authors'].apply(lambda x: 1 if is_translated(x) else 0)\n",
    "    data_df['main_author'] = data_df['authors'].apply(lambda x: get_author_id(x))\n",
    "    return data_df"
   ]
  },
  {
   "cell_type": "code",
   "execution_count": 78,
   "metadata": {},
   "outputs": [],
   "source": [
    "def add_series_info(data_df):\n",
    "    \"\"\"Adds info about each book's place in a series.\n",
    "    \n",
    "    Parameters\n",
    "    ----------\n",
    "    data_df: pd.DataFrame\n",
    "        The DataFrame to which series info is added.\n",
    "    \n",
    "    Returns\n",
    "    -------\n",
    "    pd.DataFrame\n",
    "        The DataFrame obtained from `data_df` after adding\n",
    "        columns to record series info.\n",
    "    \n",
    "    \"\"\"\n",
    "    data_df['is_in_series'] = data_df['series'].apply(lambda x: 1 if len(x) > 0 else 0)\n",
    "    data_df['series_length'] = data_df['series'].apply(lambda x: len(x) + 1)\n",
    "    return data_df"
   ]
  },
  {
   "cell_type": "code",
   "execution_count": 81,
   "metadata": {},
   "outputs": [],
   "source": [
    "def fix_text_col(data_df, text_col):\n",
    "    \"\"\"Replaces null values of `text_col` with the empty string.\n",
    "    \n",
    "    Parameters\n",
    "    ----------\n",
    "    data_df: pd.DataFrame\n",
    "        The DataFrame for which the text column will be fixed.\n",
    "    text_col: str\n",
    "        The name of the column in `data_df` to be fixed.\n",
    "    \n",
    "    Returns\n",
    "    -------\n",
    "    np.array\n",
    "        The array obtained from `text_col` in `data_df` after the\n",
    "        fix has been applied.\n",
    "    \n",
    "    \"\"\"\n",
    "    return np.where(pd.isnull(data_df[text_col]), \"\", data_df[text_col])"
   ]
  },
  {
   "cell_type": "code",
   "execution_count": 82,
   "metadata": {},
   "outputs": [],
   "source": [
    "def combine_title_description(data_df):\n",
    "    \"\"\"Combines the title and description columns in `data_df`.\n",
    "    \n",
    "    A new column is added containing the book title followed by\n",
    "    its description so that both can be used in a language model.\n",
    "    \n",
    "    Parameters\n",
    "    ----------\n",
    "    data_df: pd.DataFrame\n",
    "        The DataFrame to which the operation is applied.\n",
    "    \n",
    "    Returns\n",
    "    -------\n",
    "    pd.DataFrame\n",
    "        The DataFrame obtained from `data_df` after adding an extra\n",
    "        column with the book title followed by the description.\n",
    "    \n",
    "    \"\"\"\n",
    "    data_df['fixedTitle'] = fix_text_col(data_df, 'title')\n",
    "    data_df['fixedDescription'] = fix_text_col(data_df, 'description')\n",
    "    data_df['title_description'] = data_df['fixedTitle'] + \" \" + data_df['fixedDescription']\n",
    "    data_df = data_df.drop(columns=['fixedTitle', 'fixedDescription'])\n",
    "    return data_df"
   ]
  },
  {
   "cell_type": "code",
   "execution_count": 87,
   "metadata": {},
   "outputs": [],
   "source": [
    "def pre_process_data(data_df, processing_funcs):\n",
    "    \"\"\"Applies the preprocessing pipeline to `data_df`.\n",
    "    \n",
    "    Parameters\n",
    "    ----------\n",
    "    data_df: pd.DataFrame\n",
    "        The DataFrame to which the pipeline is applied.\n",
    "    processing_funcs: list\n",
    "        A list of preprocessing functions to be applied\n",
    "        to `data_df`.\n",
    "    \n",
    "    Returns\n",
    "    -------\n",
    "    pd.DataFrame\n",
    "        The DataFrame obtained from `data_df` after applying\n",
    "        the preprocessing pipeline.\n",
    "    \n",
    "    \"\"\"\n",
    "    for func in processing_funcs:\n",
    "        data_df = func(data_df)\n",
    "    return data_df"
   ]
  },
  {
   "cell_type": "code",
   "execution_count": 90,
   "metadata": {},
   "outputs": [],
   "source": [
    "pre_processing_funcs = [remove_incorrect_records, create_chain, format_date_cols, \n",
    "                        add_author_info, add_series_info, combine_title_description]\n",
    "all_interactions_df = pre_process_data(all_interactions_df, pre_processing_funcs)"
   ]
  }
 ],
 "metadata": {
  "kernelspec": {
   "display_name": "csc2515-env-3.8",
   "language": "python",
   "name": "csc2515-env-3.8"
  },
  "language_info": {
   "codemirror_mode": {
    "name": "ipython",
    "version": 3
   },
   "file_extension": ".py",
   "mimetype": "text/x-python",
   "name": "python",
   "nbconvert_exporter": "python",
   "pygments_lexer": "ipython3",
   "version": "3.8.0"
  }
 },
 "nbformat": 4,
 "nbformat_minor": 4
}
