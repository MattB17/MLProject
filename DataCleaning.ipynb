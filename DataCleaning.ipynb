{
 "cells": [
  {
   "cell_type": "markdown",
   "metadata": {},
   "source": [
    "# Goodreads Data Cleaning\n",
    "\n",
    "Performing data cleaning tasks to ensure data is ready for modelling\n",
    "\n",
    "### Imports"
   ]
  },
  {
   "cell_type": "code",
   "execution_count": 1,
   "metadata": {},
   "outputs": [],
   "source": [
    "import json\n",
    "import os\n",
    "import random\n",
    "import numpy as np\n",
    "import pandas as pd\n",
    "from sklearn.utils import shuffle\n",
    "\n",
    "random.seed(42)\n",
    "np.random.seed(42)"
   ]
  },
  {
   "cell_type": "markdown",
   "metadata": {},
   "source": [
    "### Directories\n",
    "\n",
    "Ensuring the output data directory is created"
   ]
  },
  {
   "cell_type": "code",
   "execution_count": 2,
   "metadata": {},
   "outputs": [],
   "source": [
    "OUTPUT_DATA_DIR = \"./output_data/\"\n",
    "\n",
    "if not os.path.exists(OUTPUT_DATA_DIR):\n",
    "    os.makedirs(OUTPUT_DATA_DIR)"
   ]
  },
  {
   "cell_type": "code",
   "execution_count": 3,
   "metadata": {},
   "outputs": [],
   "source": [
    "def construct_data_path(dataset_name):\n",
    "    \"\"\"Constructs the path to `dataset_name`.\n",
    "    \n",
    "    Parameters\n",
    "    ----------\n",
    "    dataset_name: str\n",
    "        The name of the dataset.\n",
    "    \n",
    "    Returns\n",
    "    -------\n",
    "    str\n",
    "        A path to the dataset.\n",
    "    \n",
    "    \"\"\"\n",
    "    return os.path.join('data', '{}.json'.format(dataset_name))"
   ]
  },
  {
   "cell_type": "code",
   "execution_count": 4,
   "metadata": {},
   "outputs": [],
   "source": [
    "def load_and_sample_dataset(data_path, sample_percentage):\n",
    "    \"\"\"Used to load `sample_percentage`% of the data at `data_path`.\n",
    "    \n",
    "    Parameters\n",
    "    ----------\n",
    "    data_path: str\n",
    "        A string representing the path to the data\n",
    "    sample_percentage: float\n",
    "        A number between 0 and 100 representing the fraction\n",
    "        of the data to sample.\n",
    "    \n",
    "    Returns\n",
    "    -------\n",
    "    pd.DataFrame\n",
    "        A pandas dataframe object loaded from `data_path` after\n",
    "        loading `sample_percentage`% of the data.\n",
    "    \n",
    "    \"\"\"\n",
    "    data = []\n",
    "    idx = 0\n",
    "    modulus = 100 // sample_percentage\n",
    "    with open(data_path, 'r') as data_file:\n",
    "        for row in data_file:\n",
    "            if idx % modulus == 0:\n",
    "                data.append(json.loads(row))\n",
    "            idx += 1\n",
    "    return pd.DataFrame(data)"
   ]
  },
  {
   "cell_type": "code",
   "execution_count": 5,
   "metadata": {},
   "outputs": [],
   "source": [
    "interactions_df = load_and_sample_dataset(construct_data_path('goodreads_interactions_poetry'), 30)"
   ]
  },
  {
   "cell_type": "code",
   "execution_count": 6,
   "metadata": {},
   "outputs": [],
   "source": [
    "books_df = load_and_sample_dataset(construct_data_path('goodreads_books_poetry'), 100)"
   ]
  },
  {
   "cell_type": "code",
   "execution_count": 7,
   "metadata": {},
   "outputs": [],
   "source": [
    "def filter_for_english(data_df, english_codes=['eng', 'en-US']):\n",
    "    \"\"\"Filters `data_df` for english records according to `english_codes`.\n",
    "    \n",
    "    Parameters\n",
    "    ----------\n",
    "    data_df: pd.DataFrame\n",
    "        The DataFrame to be filtered.\n",
    "    enlgish_codes: list\n",
    "        A list of codes corresponding to english. Used to\n",
    "        filter `data_df`.\n",
    "    \n",
    "    Returns\n",
    "    -------\n",
    "    pd.DataFrame\n",
    "        The DataFrame obtained from `data_df` after filtering for\n",
    "        english records.\n",
    "    \n",
    "    \"\"\"\n",
    "    return data_df[data_df['language_code'].isin(english_codes)]"
   ]
  },
  {
   "cell_type": "code",
   "execution_count": 8,
   "metadata": {},
   "outputs": [],
   "source": [
    "books_df_english = filter_for_english(books_df)"
   ]
  },
  {
   "cell_type": "code",
   "execution_count": 9,
   "metadata": {},
   "outputs": [],
   "source": [
    "all_interactions_df = pd.merge(interactions_df, books_df_english, how='inner', left_on=\"book_id\", right_on=\"book_id\")"
   ]
  },
  {
   "cell_type": "code",
   "execution_count": 10,
   "metadata": {},
   "outputs": [],
   "source": [
    "pd.set_option('display.max_columns', None)"
   ]
  },
  {
   "cell_type": "markdown",
   "metadata": {},
   "source": [
    "### Pre-Processing Data\n",
    "\n",
    "We clean the data with the following steps:\n",
    "*  removing incorrect records\n",
    "*  constructing the monotonic chain `shelve->read->rate->recommend`\n",
    "  * recommend corresponds to a rating that is greater than 3\n",
    "* add formatted date columns in the form 'yyyy-mm'\n",
    "* add a flag to indicate if the book was translated\n",
    "* add a column indicating the primary author's id\n",
    "* add a column indicating if the book is part of a series\n",
    "* add a column with how many books are in the series (1 indicates a solo publication - not part of a series)\n",
    "* add a column that combines the book title and description for easier text processing later"
   ]
  },
  {
   "cell_type": "code",
   "execution_count": 11,
   "metadata": {},
   "outputs": [],
   "source": [
    "def remove_incorrect_records(data_df):\n",
    "    \"\"\"Removes records that do not properly follow the chain.\n",
    "    \n",
    "    Removing data where `is_read = False` but it has been \n",
    "    rated `rating > 0`.\n",
    "    \n",
    "    Parameters\n",
    "    ----------\n",
    "    data_df: pd.DataFrame\n",
    "        The DataFrame from which incorrect records will be removed.\n",
    "    \n",
    "    Returns\n",
    "    -------\n",
    "    pd.DataFrame\n",
    "        The DataFrame obtained from `data_df` after removing\n",
    "        incorrect records.\n",
    "    \n",
    "    \"\"\"\n",
    "    corrupt_files = data_df[(data_df['is_read'] == False) & (all_interactions_df['rating'] > 0)].index\n",
    "    return data_df[~data_df.index.isin(corrupt_files)]"
   ]
  },
  {
   "cell_type": "code",
   "execution_count": 12,
   "metadata": {},
   "outputs": [],
   "source": [
    "def create_chain(data_df):\n",
    "    \"\"\"Creates variables for the chain in `data_df`.\n",
    "    \n",
    "    4 new indicator variables for the actions shelved, read,\n",
    "    rated, recommended.\n",
    "    \n",
    "    Parameters\n",
    "    ----------\n",
    "    data_df: pd.DataFrame\n",
    "        The DataFrame augmented with the chain variables.\n",
    "    \n",
    "    \"\"\"\n",
    "    data_df['shelved'] = 1\n",
    "    data_df['read'] = data_df['is_read'].apply(lambda x: 1 if x == True else 0)\n",
    "    data_df['rated'] = data_df['rating'].apply(lambda x: 1 if x > 0 else 0)\n",
    "    data_df['recommended'] = data_df['rating'].apply(lambda x: 1 if x > 3 else 0)\n",
    "    return data_df"
   ]
  },
  {
   "cell_type": "code",
   "execution_count": 13,
   "metadata": {},
   "outputs": [],
   "source": [
    "month_map = {'Jan': '01', 'Feb': '02', 'Mar': '03', 'Apr': '04', 'May': '05', 'Jun': '06',\n",
    "             'Jul': '07', 'Aug': '08', 'Sep': '09', 'Oct': '10', 'Nov': '11', 'Dec': '12'}\n",
    "\n",
    "def reformat_date_cols(data_df, date_cols):\n",
    "    \"\"\"Reformats date columns in `data_df` for easier analysis.\n",
    "    \n",
    "    The columns in `date_cols` are formatted in a way that is\n",
    "    easier to visualize. The reformatted date columns have the\n",
    "    format 'yyyy-mm'\n",
    "    \n",
    "    Parameters\n",
    "    ----------\n",
    "    data_df: pd.DataFrame\n",
    "        A pandas DataFrame to which date columns will be added.\n",
    "    date_cols: collection\n",
    "        A collection of date columns to be reformatted\n",
    "    \n",
    "    Returns\n",
    "    -------\n",
    "    pd.DataFrame\n",
    "        A pandas DataFrame obtained from `data_df` by augmenting it with\n",
    "        reformatted date columns for the columns in `date_cols`.\n",
    "    \n",
    "    \"\"\"\n",
    "    for date_col in date_cols:\n",
    "        col_name = date_col.split(\"_\")[1]\n",
    "        month_name = \"month_{}\".format(col_name)\n",
    "        year_name = \"year_{}\".format(col_name)\n",
    "        data_df[month_name] = data_df[date_col].apply(lambda x: month_map[x.split()[1]])\n",
    "        data_df[year_name] = data_df[date_col].apply(lambda x: x.split()[-1])\n",
    "        data_df['year_month_{}'.format(col_name)] = data_df[year_name] + \"-\" + data_df[month_name]\n",
    "        data_df = data_df.drop(columns=[month_name, year_name])\n",
    "    return data_df"
   ]
  },
  {
   "cell_type": "code",
   "execution_count": 14,
   "metadata": {},
   "outputs": [],
   "source": [
    "def format_publication_date(data_df):\n",
    "    \"\"\"Formats the publication date in `data_df`.\n",
    "    \n",
    "    The formatted publication date has the form 'yyyy-mm'.\n",
    "    \n",
    "    Parameters\n",
    "    ----------\n",
    "    data_df: pd.DataFrame\n",
    "        The pandas DataFrame for which the publication date will be formatted.\n",
    "    \n",
    "    Returns\n",
    "    -------\n",
    "    pd.DataFrame\n",
    "        The pandas DataFrame obtained from `data_df` after adding a column\n",
    "        for the formatted publication date.\n",
    "    \n",
    "    \"\"\"\n",
    "    data_df['formatted_pub_month'] = data_df['publication_month'].apply(lambda x: str(x).zfill(2))\n",
    "    data_df['formatted_pub_year'] = data_df['publication_year'].apply(lambda x: str(x))\n",
    "    data_df['pub_date'] = data_df['formatted_pub_year'] + \"-\" + data_df['formatted_pub_month']\n",
    "    data_df = data_df.drop(columns=['formatted_pub_year', 'formatted_pub_month'])\n",
    "    return data_df"
   ]
  },
  {
   "cell_type": "code",
   "execution_count": 15,
   "metadata": {},
   "outputs": [],
   "source": [
    "def format_date_cols(data_df):\n",
    "    \"\"\"Formats the date columns of `data_df`.\n",
    "    \n",
    "    Parameters\n",
    "    ----------\n",
    "    data_df: pd.DataFrame\n",
    "        The pandas DataFrame to be formatted.\n",
    "    \n",
    "    Returns\n",
    "    -------\n",
    "    pd.DataFrame\n",
    "        The DataFrame obtained from `data_df` after\n",
    "        formatting its columns.\n",
    "    \n",
    "    \"\"\"\n",
    "    data_df = reformat_date_cols(data_df, ['date_added', 'date_updated'])\n",
    "    return format_publication_date(data_df)"
   ]
  },
  {
   "cell_type": "code",
   "execution_count": 16,
   "metadata": {},
   "outputs": [],
   "source": [
    "def is_translated(authors_lst):\n",
    "    \"\"\"Indicates if the book was translated based on `authors_lst`.\n",
    "    \n",
    "    Parameters\n",
    "    ----------\n",
    "    authors_lst: list\n",
    "        A list of dictionaries indicating the authors.\n",
    "    \n",
    "    Returns\n",
    "    -------\n",
    "    bool\n",
    "        True if `authors_lst` contains a translator. Otherwise, False.\n",
    "    \n",
    "    \"\"\"\n",
    "    for author_dict in authors_lst:\n",
    "        if author_dict['role'] == 'Translation':\n",
    "            return True\n",
    "    return False"
   ]
  },
  {
   "cell_type": "code",
   "execution_count": 17,
   "metadata": {},
   "outputs": [],
   "source": [
    "def get_author_id(authors_lst):\n",
    "    \"\"\"Retrieves the id of the main author.\n",
    "    \n",
    "    Parameters\n",
    "    ----------\n",
    "    authors_lst: list\n",
    "        A list of dictionaries indicating the authors.\n",
    "    \n",
    "    Returns\n",
    "    -------\n",
    "    str\n",
    "        A string representing the id of the main author.\n",
    "    \n",
    "    \"\"\"\n",
    "    for author_dict in authors_lst:\n",
    "        if author_dict['role'] == '':\n",
    "            return author_dict['author_id']\n",
    "    return ''"
   ]
  },
  {
   "cell_type": "code",
   "execution_count": 18,
   "metadata": {},
   "outputs": [],
   "source": [
    "def add_author_info(data_df):\n",
    "    \"\"\"Adds author info to the data in `data_df`.\n",
    "    \n",
    "    Parameters\n",
    "    ----------\n",
    "    data_df: pd.DataFrame\n",
    "        The DataFrame to which author information\n",
    "        will be added.\n",
    "    \n",
    "    Returns\n",
    "    -------\n",
    "    pd.DataFrame\n",
    "        The DataFrame obtained from `data_df` after adding\n",
    "        columns to record author information.\n",
    "    \n",
    "    \"\"\"\n",
    "    data_df['is_translated'] = data_df['authors'].apply(lambda x: 1 if is_translated(x) else 0)\n",
    "    data_df['main_author'] = data_df['authors'].apply(lambda x: get_author_id(x))\n",
    "    return data_df"
   ]
  },
  {
   "cell_type": "code",
   "execution_count": 19,
   "metadata": {},
   "outputs": [],
   "source": [
    "def add_series_info(data_df):\n",
    "    \"\"\"Adds info about each book's place in a series.\n",
    "    \n",
    "    Parameters\n",
    "    ----------\n",
    "    data_df: pd.DataFrame\n",
    "        The DataFrame to which series info is added.\n",
    "    \n",
    "    Returns\n",
    "    -------\n",
    "    pd.DataFrame\n",
    "        The DataFrame obtained from `data_df` after adding\n",
    "        columns to record series info.\n",
    "    \n",
    "    \"\"\"\n",
    "    data_df['is_in_series'] = data_df['series'].apply(lambda x: 1 if len(x) > 0 else 0)\n",
    "    data_df['series_length'] = data_df['series'].apply(lambda x: len(x) + 1)\n",
    "    return data_df"
   ]
  },
  {
   "cell_type": "code",
   "execution_count": 20,
   "metadata": {},
   "outputs": [],
   "source": [
    "def fix_text_col(data_df, text_col):\n",
    "    \"\"\"Replaces null values of `text_col` with the empty string.\n",
    "    \n",
    "    Parameters\n",
    "    ----------\n",
    "    data_df: pd.DataFrame\n",
    "        The DataFrame for which the text column will be fixed.\n",
    "    text_col: str\n",
    "        The name of the column in `data_df` to be fixed.\n",
    "    \n",
    "    Returns\n",
    "    -------\n",
    "    np.array\n",
    "        The array obtained from `text_col` in `data_df` after the\n",
    "        fix has been applied.\n",
    "    \n",
    "    \"\"\"\n",
    "    return np.where(pd.isnull(data_df[text_col]), \"\", data_df[text_col])"
   ]
  },
  {
   "cell_type": "code",
   "execution_count": 21,
   "metadata": {},
   "outputs": [],
   "source": [
    "def combine_title_description(data_df):\n",
    "    \"\"\"Combines the title and description columns in `data_df`.\n",
    "    \n",
    "    A new column is added containing the book title followed by\n",
    "    its description so that both can be used in a language model.\n",
    "    \n",
    "    Parameters\n",
    "    ----------\n",
    "    data_df: pd.DataFrame\n",
    "        The DataFrame to which the operation is applied.\n",
    "    \n",
    "    Returns\n",
    "    -------\n",
    "    pd.DataFrame\n",
    "        The DataFrame obtained from `data_df` after adding an extra\n",
    "        column with the book title followed by the description.\n",
    "    \n",
    "    \"\"\"\n",
    "    data_df['fixedTitle'] = fix_text_col(data_df, 'title')\n",
    "    data_df['fixedDescription'] = fix_text_col(data_df, 'description')\n",
    "    data_df['title_description'] = data_df['fixedTitle'] + \" \" + data_df['fixedDescription']\n",
    "    data_df = data_df.drop(columns=['fixedTitle', 'fixedDescription'])\n",
    "    return data_df"
   ]
  },
  {
   "cell_type": "code",
   "execution_count": 22,
   "metadata": {},
   "outputs": [],
   "source": [
    "def pre_process_data(data_df, processing_funcs):\n",
    "    \"\"\"Applies the preprocessing pipeline to `data_df`.\n",
    "    \n",
    "    Parameters\n",
    "    ----------\n",
    "    data_df: pd.DataFrame\n",
    "        The DataFrame to which the pipeline is applied.\n",
    "    processing_funcs: list\n",
    "        A list of preprocessing functions to be applied\n",
    "        to `data_df`.\n",
    "    \n",
    "    Returns\n",
    "    -------\n",
    "    pd.DataFrame\n",
    "        The DataFrame obtained from `data_df` after applying\n",
    "        the preprocessing pipeline.\n",
    "    \n",
    "    \"\"\"\n",
    "    for func in processing_funcs:\n",
    "        data_df = func(data_df)\n",
    "    return data_df"
   ]
  },
  {
   "cell_type": "code",
   "execution_count": 23,
   "metadata": {},
   "outputs": [],
   "source": [
    "pre_processing_funcs = [remove_incorrect_records, create_chain, format_date_cols, \n",
    "                        add_author_info, add_series_info, combine_title_description]\n",
    "all_interactions_df = pre_process_data(all_interactions_df, pre_processing_funcs)"
   ]
  },
  {
   "cell_type": "markdown",
   "metadata": {},
   "source": [
    "### Filtering Data\n",
    "\n",
    "In this section we filter the interactions dataset based on 2 criteria\n",
    "* All records for a user are removed if the user has never recommended a book\n",
    "* All records for unpopular books are removed - a book is deemed unpopular if the interactions dataset has fewer than 3 interactions for that book"
   ]
  },
  {
   "cell_type": "code",
   "execution_count": 24,
   "metadata": {},
   "outputs": [],
   "source": [
    "def get_unpopular_items(items_df, id_field, threshold):\n",
    "    \"\"\"Retrieves the unpopular items from `items_df` based on `threshold`.\n",
    "    \n",
    "    Parameters\n",
    "    ----------\n",
    "    items_df: pd.DataFrame\n",
    "        The DataFrame of items from which the unpopular items\n",
    "        are retrieved.\n",
    "    id_field: str\n",
    "        A string representing the item id field.\n",
    "    threshold: int\n",
    "        The threshold used for unpopular items. Items that\n",
    "        appear less than `threshold` times are deemed unpopular.\n",
    "    \n",
    "    Returns\n",
    "    -------\n",
    "    np.array\n",
    "        An array of strings representing the ids of unpopular items.\n",
    "    \n",
    "    \"\"\"\n",
    "    item_counts = items_df.groupby(items_df[id_field])[id_field].count()\n",
    "    return item_counts[item_counts < threshold].index"
   ]
  },
  {
   "cell_type": "code",
   "execution_count": 25,
   "metadata": {},
   "outputs": [],
   "source": [
    "def get_non_recommending_users(users_df, recommend_col, id_field):\n",
    "    \"\"\"Retrieves the users that never recommend from `users_df`.\n",
    "    \n",
    "    A user never recommends if there is no row in `users_df` where\n",
    "    the particular user has an entry 1 in the `recommend_col` column.\n",
    "    \n",
    "    Parameters\n",
    "    ----------\n",
    "    users_df: pd.DataFrame\n",
    "        The DataFrame of users from which the non-recommending\n",
    "        users are retrieved.\n",
    "    recommed_col: str\n",
    "        A string representing the name of the recommend field\n",
    "        used to determine whether a user recommends.\n",
    "    id_field: str\n",
    "        A string representing the user id field.\n",
    "    \n",
    "    Returns\n",
    "    -------\n",
    "    np.array\n",
    "        An array of strings representing the ids of users that have\n",
    "        never recommended an item.\n",
    "    \n",
    "    \"\"\"\n",
    "    grouped_users = users_df.groupby(users_df[id_field])[recommend_col].max()\n",
    "    return grouped_users[grouped_users < 1].index"
   ]
  },
  {
   "cell_type": "code",
   "execution_count": 26,
   "metadata": {},
   "outputs": [],
   "source": [
    "def filter_interaction_data(interact_df, item_threshold):\n",
    "    \"\"\"Filters the records in `interact_df`.\n",
    "    \n",
    "    Records in `interact_df` are removed if they correspond to a\n",
    "    user who has never recommended an item or if the record\n",
    "    corresponds to an item with fewer than `item_threshold`\n",
    "    interactions in `interact_df`.\n",
    "    \n",
    "    Parameters\n",
    "    ----------\n",
    "    interact_df: pd.DataFrame\n",
    "        The DataFrame of interactions being filtered.\n",
    "    item_threshold: int\n",
    "        An integer representing the threshold used to remove\n",
    "        items that have too few interactions.\n",
    "    \n",
    "    Returns\n",
    "    -------\n",
    "    pd.DataFrame\n",
    "        The DataFrame obtained from `interact_df` after filtering.\n",
    "    \n",
    "    \"\"\"\n",
    "    unpopular_items = get_unpopular_items(interact_df, 'book_id', item_threshold)\n",
    "    non_recommending_users = get_non_recommending_users(interact_df, 'recommended', 'user_id')\n",
    "    return interact_df[(~interact_df['book_id'].isin(unpopular_items)) &\n",
    "                       (~interact_df['user_id'].isin(non_recommending_users))]"
   ]
  },
  {
   "cell_type": "code",
   "execution_count": 27,
   "metadata": {},
   "outputs": [],
   "source": [
    "filtered_interactions = filter_interaction_data(all_interactions_df, 3)"
   ]
  },
  {
   "cell_type": "code",
   "execution_count": 28,
   "metadata": {},
   "outputs": [
    {
     "name": "stdout",
     "output_type": "stream",
     "text": [
      "326905\n"
     ]
    }
   ],
   "source": [
    "print(len(filtered_interactions))"
   ]
  },
  {
   "cell_type": "markdown",
   "metadata": {},
   "source": [
    "### Train-Test-Validation Split\n",
    "\n",
    "The filtered interactions data is split into 3 datasets:\n",
    "1. Training data - representing 70% of the filtered interactions\n",
    "2. Testing data - representing 15% of the filtered interactions\n",
    "3. Validation data - representing 15% of the filtered interactions"
   ]
  },
  {
   "cell_type": "code",
   "execution_count": 29,
   "metadata": {},
   "outputs": [],
   "source": [
    "def perform_train_test_validation_split(data_df, test_percent, val_percent):\n",
    "    \"\"\"Splits `data_df` into training, testing, and validation sets.\n",
    "    \n",
    "    Parameters\n",
    "    ----------\n",
    "    data_df: pd.DataFrame\n",
    "        The DataFrame to which the split is applied.\n",
    "    test_percent: int\n",
    "        An integer between 0 and 100 representing the percent of \n",
    "        data from `data_df` to include in the testing set.\n",
    "    val_percent: int\n",
    "        An integer between 0 and 100 representing the percent of\n",
    "        data from `data_df` to include in the validation set.\n",
    "    \n",
    "    Returns\n",
    "    -------\n",
    "    pd.DataFrame, pd.DataFrame, pd.DataFrame\n",
    "        3 DataFrames representing the training, testing, and\n",
    "        validation sets, respectively.\n",
    "    \n",
    "    \"\"\"\n",
    "    n = len(data_df)\n",
    "    test_cut = int(np.ceil((test_percent / 100.0) * n))\n",
    "    val_cut = int(np.ceil((val_percent / 100.0) * n))\n",
    "    train_df = data_df[test_cut:-val_cut]\n",
    "    test_df = data_df[:test_cut]\n",
    "    val_df = data_df[-val_cut:]\n",
    "    return train_df, test_df, val_df"
   ]
  },
  {
   "cell_type": "code",
   "execution_count": 30,
   "metadata": {},
   "outputs": [],
   "source": [
    "train_df, test_df, val_df = perform_train_test_validation_split(filtered_interactions, 15, 15)"
   ]
  },
  {
   "cell_type": "markdown",
   "metadata": {},
   "source": [
    "### Saving Data\n",
    "\n",
    "Saving the data files to csv so that they can be used in modelling without needing to repeatedly apply the same pre-processing / filtering pipeline."
   ]
  },
  {
   "cell_type": "code",
   "execution_count": 31,
   "metadata": {},
   "outputs": [],
   "source": [
    "def save_interaction_data_to_csv(interaction_df, suffix):\n",
    "    \"\"\"Saves the data in `interaction_df` to csv.\n",
    "    \n",
    "    Parameters\n",
    "    ----------\n",
    "    interaction_df: pd.DataFrame\n",
    "        The DataFrame being saved to csv.\n",
    "    suffix: str\n",
    "        A suffix added to the saved file to identify the\n",
    "        particular interactions data.\n",
    "    \n",
    "    Returns\n",
    "    -------\n",
    "    None\n",
    "    \n",
    "    \"\"\"\n",
    "    file_path = \"{0}interactions_{1}.csv\".format(OUTPUT_DATA_DIR, suffix)\n",
    "    interaction_df.to_csv(file_path, index=False)"
   ]
  },
  {
   "cell_type": "code",
   "execution_count": 32,
   "metadata": {},
   "outputs": [],
   "source": [
    "save_interaction_data_to_csv(train_df, \"training\")\n",
    "save_interaction_data_to_csv(test_df, \"testing\")\n",
    "save_interaction_data_to_csv(val_df, \"validation\")"
   ]
  }
 ],
 "metadata": {
  "kernelspec": {
   "display_name": "csc2515-env-3.8",
   "language": "python",
   "name": "csc2515-env-3.8"
  },
  "language_info": {
   "codemirror_mode": {
    "name": "ipython",
    "version": 3
   },
   "file_extension": ".py",
   "mimetype": "text/x-python",
   "name": "python",
   "nbconvert_exporter": "python",
   "pygments_lexer": "ipython3",
   "version": "3.8.0"
  }
 },
 "nbformat": 4,
 "nbformat_minor": 4
}
