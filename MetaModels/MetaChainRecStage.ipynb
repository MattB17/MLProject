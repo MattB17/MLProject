{
 "cells": [
  {
   "cell_type": "markdown",
   "metadata": {},
   "source": [
    "# Meta Models - Stagewise\n",
    "\n",
    "In this notebook we prototype a set of Meta Models. In particular, we use the s-values trained using the chainRec algorithm with stagewise sampling. We then use these as input features to our model. These are combined with book level features in the hopes to enhance the predictive accuracy of the model."
   ]
  },
  {
   "cell_type": "code",
   "execution_count": 1,
   "metadata": {},
   "outputs": [],
   "source": [
    "import json\n",
    "import os\n",
    "import random\n",
    "import numpy as np\n",
    "import pandas as pd\n",
    "from gensim.models import Word2Vec\n",
    "import scipy.sparse as sp\n",
    "\n",
    "random.seed(42)\n",
    "np.random.seed(42)"
   ]
  },
  {
   "cell_type": "markdown",
   "metadata": {},
   "source": [
    "### Loading S-Values\n",
    "\n",
    "We load the S-Values from the ChainRec model."
   ]
  },
  {
   "cell_type": "code",
   "execution_count": 2,
   "metadata": {},
   "outputs": [],
   "source": [
    "MAPPING_DIR = '../mappings/'\n",
    "\n",
    "s_values_df = pd.read_csv(MAPPING_DIR+\"goodreads_s_values_stage.csv\")"
   ]
  },
  {
   "cell_type": "code",
   "execution_count": 3,
   "metadata": {},
   "outputs": [],
   "source": [
    "cols_to_keep = ['user_number', 'item_number', 's1', 's2', 's3', 's4']\n",
    "\n",
    "s_values_df = s_values_df[cols_to_keep]"
   ]
  },
  {
   "cell_type": "code",
   "execution_count": 4,
   "metadata": {},
   "outputs": [],
   "source": [
    "s_values_df['user_number'] = s_values_df['user_number'].apply(lambda x: str(x))\n",
    "s_values_df['item_number'] = s_values_df['item_number'].apply(lambda x: str(x))\n",
    "s_values_df['user_item_id'] = s_values_df['user_number'] + \"-\" + s_values_df['item_number']"
   ]
  },
  {
   "cell_type": "markdown",
   "metadata": {},
   "source": [
    "### Load Data"
   ]
  },
  {
   "cell_type": "code",
   "execution_count": 5,
   "metadata": {},
   "outputs": [
    {
     "name": "stderr",
     "output_type": "stream",
     "text": [
      "/Library/Frameworks/Python.framework/Versions/3.8/lib/python3.8/site-packages/IPython/core/interactiveshell.py:3146: DtypeWarning: Columns (28) have mixed types.Specify dtype option on import or set low_memory=False.\n",
      "  has_raised = await self.run_ast_nodes(code_ast.body, cell_name,\n"
     ]
    }
   ],
   "source": [
    "OUTPUT_DATA_DIR = \"../output_data/\"\n",
    "\n",
    "train_df_processed = pd.read_csv(OUTPUT_DATA_DIR+\"text_processed_training.csv\")\n",
    "val_df_processed = pd.read_csv(OUTPUT_DATA_DIR+\"text_processed_validation.csv\")\n",
    "test_df_processed = pd.read_csv(OUTPUT_DATA_DIR+\"text_processed_testing.csv\")"
   ]
  },
  {
   "cell_type": "markdown",
   "metadata": {},
   "source": [
    "### Combining Features\n",
    "\n",
    "We now combine the features engineered on the raw data with the trained s values.\n",
    "\n",
    "Both datasets have interactions for combinations of user ids and book ids. However, the chainRec model expects the ids to be numberic. So we apply this same mapping to the raw data and then join the two datasets together to get our augmented set of features."
   ]
  },
  {
   "cell_type": "code",
   "execution_count": 9,
   "metadata": {},
   "outputs": [],
   "source": [
    "def load_mapping(mapping_file):\n",
    "    \"\"\"Loads the mapping from `mapping_file`.\n",
    "    \n",
    "    Parameters\n",
    "    ----------\n",
    "    mapping_file: str\n",
    "        The name of the mapping file to import.\n",
    "    \n",
    "    Returns\n",
    "    -------\n",
    "    pd.DataFrame\n",
    "        The DataFrame created from the mapping.\n",
    "    \n",
    "    \"\"\"\n",
    "    return pd.read_csv(os.path.join(\"../mappings\", \"{}.csv\".format(mapping_file)))"
   ]
  },
  {
   "cell_type": "code",
   "execution_count": 10,
   "metadata": {},
   "outputs": [],
   "source": [
    "user_map = load_mapping(\"user_map\")\n",
    "book_map = load_mapping(\"book_map\")"
   ]
  },
  {
   "cell_type": "code",
   "execution_count": 11,
   "metadata": {},
   "outputs": [],
   "source": [
    "book_map['book_id'] = book_map['book_id'].apply(lambda x: str(x))"
   ]
  },
  {
   "cell_type": "code",
   "execution_count": 12,
   "metadata": {},
   "outputs": [],
   "source": [
    "def create_user_item_id(data_df, u_map, i_map):\n",
    "    data_df['book_id'] = data_df['book_id'].apply(lambda x: str(x))\n",
    "    data_df = pd.merge(data_df, u_map, how=\"left\", on=[\"user_id\"])\n",
    "    data_df = pd.merge(data_df, i_map, how=\"left\", on=[\"book_id\"])\n",
    "    data_df['user_number'] = data_df['user_number'].apply(lambda x: str(x))\n",
    "    data_df['book_number'] = data_df['book_number'].apply(lambda x: str(x))\n",
    "    data_df['user_item_id'] = data_df['user_number'] + \"-\" + data_df['book_number']\n",
    "    return data_df.drop(columns=['user_number', 'book_number'])"
   ]
  },
  {
   "cell_type": "code",
   "execution_count": 13,
   "metadata": {},
   "outputs": [],
   "source": [
    "train_df = create_user_item_id(train_df_processed, user_map, book_map)\n",
    "val_df = create_user_item_id(val_df_processed, user_map, book_map)\n",
    "test_df = create_user_item_id(test_df_processed, user_map, book_map)"
   ]
  },
  {
   "cell_type": "code",
   "execution_count": 14,
   "metadata": {},
   "outputs": [],
   "source": [
    "s_values_df.drop(columns=['user_number', 'item_number'], inplace=True)"
   ]
  },
  {
   "cell_type": "code",
   "execution_count": 15,
   "metadata": {},
   "outputs": [],
   "source": [
    "train_df_s = pd.merge(train_df, s_values_df, how='left', on=['user_item_id'])\n",
    "val_df_s = pd.merge(val_df, s_values_df, how='left', on=['user_item_id'])\n",
    "test_df_s = pd.merge(test_df, s_values_df, how='left', on=['user_item_id'])"
   ]
  },
  {
   "cell_type": "code",
   "execution_count": 16,
   "metadata": {},
   "outputs": [],
   "source": [
    "train_df_s.drop(columns=['user_item_id'], inplace=True)\n",
    "val_df_s.drop(columns=['user_item_id'], inplace=True)\n",
    "test_df_s.drop(columns=['user_item_id'], inplace=True)"
   ]
  },
  {
   "cell_type": "markdown",
   "metadata": {},
   "source": [
    "### Saving Augmented Data\n",
    "\n",
    "We save the augmented train, test, and validation datasets for easier access on future models"
   ]
  },
  {
   "cell_type": "code",
   "execution_count": null,
   "metadata": {},
   "outputs": [],
   "source": [
    "train_df_s.to_csv(OUTPUT_DATA_DIR+\"training_s_vals_stage.csv\", index=False)\n",
    "val_df_s.to_csv(OUTPUT_DATA_DIR+\"validation_s_vals_stage.csv\", index=False)\n",
    "test_df_s.to_csv(OUTPUT_DATA_DIR+\"testing_s_vals_stage.csv\", index=False)"
   ]
  },
  {
   "cell_type": "code",
   "execution_count": 17,
   "metadata": {},
   "outputs": [],
   "source": [
    "pd.set_option('display.max_columns', None)"
   ]
  },
  {
   "cell_type": "markdown",
   "metadata": {},
   "source": [
    "### Non Language Features\n",
    "\n",
    "We select the set of non language features which will be combined with the vectorized language features to get a full set of model features.\n",
    "\n",
    "We also scale the count features. As counts tend to grow exponentially we use a log transform to make the counts linear."
   ]
  },
  {
   "cell_type": "code",
   "execution_count": 18,
   "metadata": {},
   "outputs": [],
   "source": [
    "columns_to_keep = ['text_reviews_count', 'is_ebook', 'average_rating', 'num_pages',\n",
    "                   'ratings_count', 'is_translated', 'is_in_series', 'series_length', \n",
    "                   'is_paperback', 'is_hardcover', 'is_audio', 'from_penguin', \n",
    "                   'from_harpercollins', 'from_university_press', 'from_vintage',\n",
    "                   'from_createspace', 'author_a', 'author_b', 'author_c',\n",
    "                   'author_d', 'author_e', 'author_f', 's1', 's2', 's3', 's4',\n",
    "                   'shelved_count', 'read_count', 'rated_count', 'recommended_count']\n",
    "X_train_reg = train_df_s[columns_to_keep]\n",
    "X_val_reg = val_df_s[columns_to_keep]\n",
    "X_test_reg = test_df_s[columns_to_keep]"
   ]
  },
  {
   "cell_type": "code",
   "execution_count": 19,
   "metadata": {},
   "outputs": [],
   "source": [
    "def log_transform_columns(data_df, cols):\n",
    "    \"\"\"Applies a log transform to `cols` in `data_df`.\n",
    "\n",
    "    Parameters\n",
    "    ----------\n",
    "    data_df: pd.DataFrame\n",
    "        The DataFrame in which the columns will be transformed.\n",
    "    cols: collection\n",
    "        The columns in `data_df` to be log scaled.\n",
    "\n",
    "    Returns\n",
    "    -------\n",
    "    pd.DataFrame\n",
    "        The DataFrame obtained from `data_df` after log scaling\n",
    "        the columns `cols`.\n",
    "\n",
    "    \"\"\"\n",
    "    for col in cols:\n",
    "        data_df[col] = data_df[col].apply(lambda x: np.log(x) if x > 0 else 0)\n",
    "    return data_df"
   ]
  },
  {
   "cell_type": "code",
   "execution_count": 20,
   "metadata": {},
   "outputs": [
    {
     "name": "stderr",
     "output_type": "stream",
     "text": [
      "<ipython-input-19-49ee2668773d>:19: SettingWithCopyWarning: \n",
      "A value is trying to be set on a copy of a slice from a DataFrame.\n",
      "Try using .loc[row_indexer,col_indexer] = value instead\n",
      "\n",
      "See the caveats in the documentation: https://pandas.pydata.org/pandas-docs/stable/user_guide/indexing.html#returning-a-view-versus-a-copy\n",
      "  data_df[col] = data_df[col].apply(lambda x: np.log(x) if x > 0 else 0)\n"
     ]
    }
   ],
   "source": [
    "log_transform_cols = ['text_reviews_count', 'ratings_count', 'shelved_count', 'read_count', 'rated_count', 'recommended_count']\n",
    "X_train_reg = log_transform_columns(X_train_reg, log_transform_cols)\n",
    "X_val_reg = log_transform_columns(X_val_reg, log_transform_cols)\n",
    "X_test_reg = log_transform_columns(X_test_reg, log_transform_cols)"
   ]
  },
  {
   "cell_type": "markdown",
   "metadata": {},
   "source": [
    "### Non-Language Models\n",
    "\n",
    "We try some models that do not use any text based features first. Just by augmenting with the s values.\n",
    "\n",
    "##### Unscaled S Values\n",
    "\n",
    "First we use the raw s values"
   ]
  },
  {
   "cell_type": "code",
   "execution_count": 21,
   "metadata": {},
   "outputs": [],
   "source": [
    "from sklearn.preprocessing import MinMaxScaler\n",
    "\n",
    "min_max_scaler = MinMaxScaler()\n",
    "\n",
    "X_train_reg1 = min_max_scaler.fit_transform(X_train_reg)\n",
    "X_val_reg1 = min_max_scaler.transform(X_val_reg)\n",
    "X_test_reg1 = min_max_scaler.transform(X_test_reg)"
   ]
  },
  {
   "cell_type": "code",
   "execution_count": 22,
   "metadata": {},
   "outputs": [
    {
     "name": "stdout",
     "output_type": "stream",
     "text": [
      "Training AUC: 0.7555134796990775\n",
      "Validation AUC: 0.6239107606851506\n"
     ]
    },
    {
     "name": "stderr",
     "output_type": "stream",
     "text": [
      "/Library/Frameworks/Python.framework/Versions/3.8/lib/python3.8/site-packages/sklearn/linear_model/_logistic.py:762: ConvergenceWarning: lbfgs failed to converge (status=1):\n",
      "STOP: TOTAL NO. of ITERATIONS REACHED LIMIT.\n",
      "\n",
      "Increase the number of iterations (max_iter) or scale the data as shown in:\n",
      "    https://scikit-learn.org/stable/modules/preprocessing.html\n",
      "Please also refer to the documentation for alternative solver options:\n",
      "    https://scikit-learn.org/stable/modules/linear_model.html#logistic-regression\n",
      "  n_iter_i = _check_optimize_result(\n"
     ]
    }
   ],
   "source": [
    "from sklearn.linear_model import LogisticRegression\n",
    "from sklearn.metrics import roc_auc_score\n",
    "\n",
    "reg_model = LogisticRegression(max_iter=200)\n",
    "reg_model.fit(X_train_reg1, train_df_s['recommended'])\n",
    "\n",
    "train_AUC = roc_auc_score(train_df_s['recommended'], reg_model.predict(X_train_reg1))\n",
    "val_AUC = roc_auc_score(val_df_s['recommended'], reg_model.predict(X_val_reg1))\n",
    "\n",
    "print(\"Training AUC: {}\".format(train_AUC))\n",
    "print(\"Validation AUC: {}\".format(val_AUC))"
   ]
  },
  {
   "cell_type": "code",
   "execution_count": 28,
   "metadata": {},
   "outputs": [
    {
     "data": {
      "text/html": [
       "<div>\n",
       "<style scoped>\n",
       "    .dataframe tbody tr th:only-of-type {\n",
       "        vertical-align: middle;\n",
       "    }\n",
       "\n",
       "    .dataframe tbody tr th {\n",
       "        vertical-align: top;\n",
       "    }\n",
       "\n",
       "    .dataframe thead th {\n",
       "        text-align: right;\n",
       "    }\n",
       "</style>\n",
       "<table border=\"1\" class=\"dataframe\">\n",
       "  <thead>\n",
       "    <tr style=\"text-align: right;\">\n",
       "      <th></th>\n",
       "      <th>feature</th>\n",
       "      <th>regression_coefficient</th>\n",
       "    </tr>\n",
       "  </thead>\n",
       "  <tbody>\n",
       "    <tr>\n",
       "      <th>0</th>\n",
       "      <td>text_reviews_count</td>\n",
       "      <td>0.012054</td>\n",
       "    </tr>\n",
       "    <tr>\n",
       "      <th>1</th>\n",
       "      <td>is_ebook</td>\n",
       "      <td>0.176147</td>\n",
       "    </tr>\n",
       "    <tr>\n",
       "      <th>2</th>\n",
       "      <td>average_rating</td>\n",
       "      <td>1.981782</td>\n",
       "    </tr>\n",
       "    <tr>\n",
       "      <th>3</th>\n",
       "      <td>num_pages</td>\n",
       "      <td>-0.722584</td>\n",
       "    </tr>\n",
       "    <tr>\n",
       "      <th>4</th>\n",
       "      <td>ratings_count</td>\n",
       "      <td>3.416591</td>\n",
       "    </tr>\n",
       "    <tr>\n",
       "      <th>5</th>\n",
       "      <td>is_translated</td>\n",
       "      <td>-0.233676</td>\n",
       "    </tr>\n",
       "    <tr>\n",
       "      <th>6</th>\n",
       "      <td>is_in_series</td>\n",
       "      <td>-0.198069</td>\n",
       "    </tr>\n",
       "    <tr>\n",
       "      <th>7</th>\n",
       "      <td>series_length</td>\n",
       "      <td>0.245437</td>\n",
       "    </tr>\n",
       "    <tr>\n",
       "      <th>8</th>\n",
       "      <td>is_paperback</td>\n",
       "      <td>-0.036842</td>\n",
       "    </tr>\n",
       "    <tr>\n",
       "      <th>9</th>\n",
       "      <td>is_hardcover</td>\n",
       "      <td>-0.010300</td>\n",
       "    </tr>\n",
       "    <tr>\n",
       "      <th>10</th>\n",
       "      <td>is_audio</td>\n",
       "      <td>0.385930</td>\n",
       "    </tr>\n",
       "    <tr>\n",
       "      <th>11</th>\n",
       "      <td>from_penguin</td>\n",
       "      <td>-0.104146</td>\n",
       "    </tr>\n",
       "    <tr>\n",
       "      <th>12</th>\n",
       "      <td>from_harpercollins</td>\n",
       "      <td>-0.065745</td>\n",
       "    </tr>\n",
       "    <tr>\n",
       "      <th>13</th>\n",
       "      <td>from_university_press</td>\n",
       "      <td>0.107290</td>\n",
       "    </tr>\n",
       "    <tr>\n",
       "      <th>14</th>\n",
       "      <td>from_vintage</td>\n",
       "      <td>-0.208338</td>\n",
       "    </tr>\n",
       "    <tr>\n",
       "      <th>15</th>\n",
       "      <td>from_createspace</td>\n",
       "      <td>-0.311240</td>\n",
       "    </tr>\n",
       "    <tr>\n",
       "      <th>16</th>\n",
       "      <td>author_a</td>\n",
       "      <td>1.126712</td>\n",
       "    </tr>\n",
       "    <tr>\n",
       "      <th>17</th>\n",
       "      <td>author_b</td>\n",
       "      <td>0.314354</td>\n",
       "    </tr>\n",
       "    <tr>\n",
       "      <th>18</th>\n",
       "      <td>author_c</td>\n",
       "      <td>0.572876</td>\n",
       "    </tr>\n",
       "    <tr>\n",
       "      <th>19</th>\n",
       "      <td>author_d</td>\n",
       "      <td>0.581537</td>\n",
       "    </tr>\n",
       "    <tr>\n",
       "      <th>20</th>\n",
       "      <td>author_e</td>\n",
       "      <td>0.148654</td>\n",
       "    </tr>\n",
       "    <tr>\n",
       "      <th>21</th>\n",
       "      <td>author_f</td>\n",
       "      <td>0.570027</td>\n",
       "    </tr>\n",
       "    <tr>\n",
       "      <th>22</th>\n",
       "      <td>s1</td>\n",
       "      <td>-14.424893</td>\n",
       "    </tr>\n",
       "    <tr>\n",
       "      <th>23</th>\n",
       "      <td>s2</td>\n",
       "      <td>1.650864</td>\n",
       "    </tr>\n",
       "    <tr>\n",
       "      <th>24</th>\n",
       "      <td>s3</td>\n",
       "      <td>5.784426</td>\n",
       "    </tr>\n",
       "    <tr>\n",
       "      <th>25</th>\n",
       "      <td>s4</td>\n",
       "      <td>-0.821879</td>\n",
       "    </tr>\n",
       "    <tr>\n",
       "      <th>26</th>\n",
       "      <td>shelved_count</td>\n",
       "      <td>-5.964234</td>\n",
       "    </tr>\n",
       "    <tr>\n",
       "      <th>27</th>\n",
       "      <td>read_count</td>\n",
       "      <td>1.031871</td>\n",
       "    </tr>\n",
       "    <tr>\n",
       "      <th>28</th>\n",
       "      <td>rated_count</td>\n",
       "      <td>1.794797</td>\n",
       "    </tr>\n",
       "    <tr>\n",
       "      <th>29</th>\n",
       "      <td>recommended_count</td>\n",
       "      <td>4.132369</td>\n",
       "    </tr>\n",
       "  </tbody>\n",
       "</table>\n",
       "</div>"
      ],
      "text/plain": [
       "                  feature  regression_coefficient\n",
       "0      text_reviews_count                0.012054\n",
       "1                is_ebook                0.176147\n",
       "2          average_rating                1.981782\n",
       "3               num_pages               -0.722584\n",
       "4           ratings_count                3.416591\n",
       "5           is_translated               -0.233676\n",
       "6            is_in_series               -0.198069\n",
       "7           series_length                0.245437\n",
       "8            is_paperback               -0.036842\n",
       "9            is_hardcover               -0.010300\n",
       "10               is_audio                0.385930\n",
       "11           from_penguin               -0.104146\n",
       "12     from_harpercollins               -0.065745\n",
       "13  from_university_press                0.107290\n",
       "14           from_vintage               -0.208338\n",
       "15       from_createspace               -0.311240\n",
       "16               author_a                1.126712\n",
       "17               author_b                0.314354\n",
       "18               author_c                0.572876\n",
       "19               author_d                0.581537\n",
       "20               author_e                0.148654\n",
       "21               author_f                0.570027\n",
       "22                     s1              -14.424893\n",
       "23                     s2                1.650864\n",
       "24                     s3                5.784426\n",
       "25                     s4               -0.821879\n",
       "26          shelved_count               -5.964234\n",
       "27             read_count                1.031871\n",
       "28            rated_count                1.794797\n",
       "29      recommended_count                4.132369"
      ]
     },
     "execution_count": 28,
     "metadata": {},
     "output_type": "execute_result"
    }
   ],
   "source": [
    "reg_df = pd.DataFrame({'feature': columns_to_keep,\n",
    "                       'regression_coefficient': reg_model.coef_[0]})\n",
    "\n",
    "reg_df.head(30)"
   ]
  },
  {
   "cell_type": "code",
   "execution_count": 29,
   "metadata": {},
   "outputs": [
    {
     "name": "stdout",
     "output_type": "stream",
     "text": [
      "Training AUC: 0.7646718514149099\n",
      "Validation AUC: 0.6272306679271902\n"
     ]
    }
   ],
   "source": [
    "from xgboost import XGBClassifier\n",
    "\n",
    "xg_cls = XGBClassifier(\n",
    "    objective='binary:logistic', learning_rate=0.1,\n",
    "    max_depth=1, n_estimators=1000)\n",
    "\n",
    "xg_cls.fit(X_train_reg1, train_df_processed['recommended'])\n",
    "train_AUC = roc_auc_score(\n",
    "    train_df_processed['recommended'], xg_cls.predict(X_train_reg1))\n",
    "val_AUC = roc_auc_score(\n",
    "    val_df_processed['recommended'], xg_cls.predict(X_val_reg1))\n",
    "\n",
    "print(\"Training AUC: {}\".format(train_AUC))\n",
    "print(\"Validation AUC: {}\".format(val_AUC))"
   ]
  },
  {
   "cell_type": "code",
   "execution_count": 30,
   "metadata": {},
   "outputs": [
    {
     "name": "stdout",
     "output_type": "stream",
     "text": [
      "Training AUC: 0.9094766807386248\n",
      "Validation AUC: 0.6251176803100694\n"
     ]
    }
   ],
   "source": [
    "from sklearn.ensemble import RandomForestClassifier\n",
    "\n",
    "ranfor_model = RandomForestClassifier(n_estimators=1000, max_depth=20)\n",
    "ranfor_model.fit(X_train_reg1, train_df_processed['recommended'])\n",
    "\n",
    "train_AUC = roc_auc_score(\n",
    "    train_df_processed['recommended'], ranfor_model.predict(X_train_reg1))\n",
    "val_AUC = roc_auc_score(\n",
    "    val_df_processed['recommended'], ranfor_model.predict(X_val_reg1))\n",
    "\n",
    "print(\"Training AUC: {}\".format(train_AUC))\n",
    "print(\"Validation AUC: {}\".format(val_AUC))"
   ]
  },
  {
   "cell_type": "markdown",
   "metadata": {},
   "source": [
    "##### Scaled S Values\n",
    "\n",
    "Next we try the models after scaling the s values using a sigmoid function"
   ]
  },
  {
   "cell_type": "code",
   "execution_count": 31,
   "metadata": {},
   "outputs": [],
   "source": [
    "def sigmoid(val):\n",
    "    \"\"\"Applies the sigmoid function to `val`.\n",
    "    \n",
    "    The sigmoid function has the form\n",
    "    f(x) = 1 / (1 + exp(-x))\n",
    "    \n",
    "    Parameters\n",
    "    ----------\n",
    "    val: float\n",
    "        The operand to the sigmoid function.\n",
    "    \n",
    "    Returns\n",
    "    -------\n",
    "    float\n",
    "        The result of applying the sigmoid\n",
    "        function to `val`.\n",
    "    \n",
    "    \"\"\"\n",
    "    return 1 / (1 + np.exp(-val))"
   ]
  },
  {
   "cell_type": "code",
   "execution_count": 32,
   "metadata": {},
   "outputs": [],
   "source": [
    "def scale_s_values(data_df):\n",
    "    \"\"\"Applies the sigmoid function to the s values in `data_df`.\n",
    "    \n",
    "    Parameters\n",
    "    ---------\n",
    "    data_df: pd.DataFrame\n",
    "        The DataFrame for which the operation is performed.\n",
    "    \n",
    "    Returns\n",
    "    -------\n",
    "    pd.DataFrame\n",
    "        The DataFrame that results from scaling the s values\n",
    "        in `data_df`.\n",
    "    \n",
    "    \"\"\"\n",
    "    for s_col in [\"s1\", \"s2\", \"s3\", \"s4\"]:\n",
    "        data_df[s_col] = data_df[s_col].apply(lambda x: sigmoid(x))\n",
    "    return data_df"
   ]
  },
  {
   "cell_type": "code",
   "execution_count": 33,
   "metadata": {},
   "outputs": [
    {
     "name": "stderr",
     "output_type": "stream",
     "text": [
      "<ipython-input-32-4768feb00e52>:17: SettingWithCopyWarning: \n",
      "A value is trying to be set on a copy of a slice from a DataFrame.\n",
      "Try using .loc[row_indexer,col_indexer] = value instead\n",
      "\n",
      "See the caveats in the documentation: https://pandas.pydata.org/pandas-docs/stable/user_guide/indexing.html#returning-a-view-versus-a-copy\n",
      "  data_df[s_col] = data_df[s_col].apply(lambda x: sigmoid(x))\n"
     ]
    }
   ],
   "source": [
    "min_max_scaler = MinMaxScaler()\n",
    "\n",
    "X_train_reg2 = scale_s_values(X_train_reg)\n",
    "X_val_reg2 = scale_s_values(X_val_reg)\n",
    "X_test_reg2 = scale_s_values(X_test_reg)"
   ]
  },
  {
   "cell_type": "code",
   "execution_count": 34,
   "metadata": {
    "scrolled": true
   },
   "outputs": [
    {
     "name": "stderr",
     "output_type": "stream",
     "text": [
      "/Library/Frameworks/Python.framework/Versions/3.8/lib/python3.8/site-packages/sklearn/linear_model/_logistic.py:762: ConvergenceWarning: lbfgs failed to converge (status=1):\n",
      "STOP: TOTAL NO. of ITERATIONS REACHED LIMIT.\n",
      "\n",
      "Increase the number of iterations (max_iter) or scale the data as shown in:\n",
      "    https://scikit-learn.org/stable/modules/preprocessing.html\n",
      "Please also refer to the documentation for alternative solver options:\n",
      "    https://scikit-learn.org/stable/modules/linear_model.html#logistic-regression\n",
      "  n_iter_i = _check_optimize_result(\n"
     ]
    },
    {
     "name": "stdout",
     "output_type": "stream",
     "text": [
      "Training AUC: 0.7589434221982165\n",
      "Validation AUC: 0.6253907107734591\n"
     ]
    }
   ],
   "source": [
    "reg_model = LogisticRegression(max_iter=1000)\n",
    "reg_model.fit(X_train_reg2, train_df_s['recommended'])\n",
    "\n",
    "train_AUC = roc_auc_score(train_df_s['recommended'], reg_model.predict(X_train_reg2))\n",
    "val_AUC = roc_auc_score(val_df_s['recommended'], reg_model.predict(X_val_reg2))\n",
    "\n",
    "print(\"Training AUC: {}\".format(train_AUC))\n",
    "print(\"Validation AUC: {}\".format(val_AUC))"
   ]
  },
  {
   "cell_type": "code",
   "execution_count": 35,
   "metadata": {},
   "outputs": [
    {
     "data": {
      "text/html": [
       "<div>\n",
       "<style scoped>\n",
       "    .dataframe tbody tr th:only-of-type {\n",
       "        vertical-align: middle;\n",
       "    }\n",
       "\n",
       "    .dataframe tbody tr th {\n",
       "        vertical-align: top;\n",
       "    }\n",
       "\n",
       "    .dataframe thead th {\n",
       "        text-align: right;\n",
       "    }\n",
       "</style>\n",
       "<table border=\"1\" class=\"dataframe\">\n",
       "  <thead>\n",
       "    <tr style=\"text-align: right;\">\n",
       "      <th></th>\n",
       "      <th>feature</th>\n",
       "      <th>regression_coefficient</th>\n",
       "    </tr>\n",
       "  </thead>\n",
       "  <tbody>\n",
       "    <tr>\n",
       "      <th>0</th>\n",
       "      <td>text_reviews_count</td>\n",
       "      <td>0.007644</td>\n",
       "    </tr>\n",
       "    <tr>\n",
       "      <th>1</th>\n",
       "      <td>is_ebook</td>\n",
       "      <td>-0.165985</td>\n",
       "    </tr>\n",
       "    <tr>\n",
       "      <th>2</th>\n",
       "      <td>average_rating</td>\n",
       "      <td>0.972058</td>\n",
       "    </tr>\n",
       "    <tr>\n",
       "      <th>3</th>\n",
       "      <td>num_pages</td>\n",
       "      <td>-0.000301</td>\n",
       "    </tr>\n",
       "    <tr>\n",
       "      <th>4</th>\n",
       "      <td>ratings_count</td>\n",
       "      <td>0.401848</td>\n",
       "    </tr>\n",
       "    <tr>\n",
       "      <th>5</th>\n",
       "      <td>is_translated</td>\n",
       "      <td>-0.411388</td>\n",
       "    </tr>\n",
       "    <tr>\n",
       "      <th>6</th>\n",
       "      <td>is_in_series</td>\n",
       "      <td>-0.210058</td>\n",
       "    </tr>\n",
       "    <tr>\n",
       "      <th>7</th>\n",
       "      <td>series_length</td>\n",
       "      <td>0.231697</td>\n",
       "    </tr>\n",
       "    <tr>\n",
       "      <th>8</th>\n",
       "      <td>is_paperback</td>\n",
       "      <td>-0.145420</td>\n",
       "    </tr>\n",
       "    <tr>\n",
       "      <th>9</th>\n",
       "      <td>is_hardcover</td>\n",
       "      <td>-0.092811</td>\n",
       "    </tr>\n",
       "    <tr>\n",
       "      <th>10</th>\n",
       "      <td>is_audio</td>\n",
       "      <td>0.056527</td>\n",
       "    </tr>\n",
       "    <tr>\n",
       "      <th>11</th>\n",
       "      <td>from_penguin</td>\n",
       "      <td>-0.103633</td>\n",
       "    </tr>\n",
       "    <tr>\n",
       "      <th>12</th>\n",
       "      <td>from_harpercollins</td>\n",
       "      <td>0.270597</td>\n",
       "    </tr>\n",
       "    <tr>\n",
       "      <th>13</th>\n",
       "      <td>from_university_press</td>\n",
       "      <td>0.033525</td>\n",
       "    </tr>\n",
       "    <tr>\n",
       "      <th>14</th>\n",
       "      <td>from_vintage</td>\n",
       "      <td>-0.342933</td>\n",
       "    </tr>\n",
       "    <tr>\n",
       "      <th>15</th>\n",
       "      <td>from_createspace</td>\n",
       "      <td>-0.681617</td>\n",
       "    </tr>\n",
       "    <tr>\n",
       "      <th>16</th>\n",
       "      <td>author_a</td>\n",
       "      <td>0.140594</td>\n",
       "    </tr>\n",
       "    <tr>\n",
       "      <th>17</th>\n",
       "      <td>author_b</td>\n",
       "      <td>0.100785</td>\n",
       "    </tr>\n",
       "    <tr>\n",
       "      <th>18</th>\n",
       "      <td>author_c</td>\n",
       "      <td>0.341993</td>\n",
       "    </tr>\n",
       "    <tr>\n",
       "      <th>19</th>\n",
       "      <td>author_d</td>\n",
       "      <td>0.226113</td>\n",
       "    </tr>\n",
       "    <tr>\n",
       "      <th>20</th>\n",
       "      <td>author_e</td>\n",
       "      <td>-0.138250</td>\n",
       "    </tr>\n",
       "    <tr>\n",
       "      <th>21</th>\n",
       "      <td>author_f</td>\n",
       "      <td>0.852902</td>\n",
       "    </tr>\n",
       "    <tr>\n",
       "      <th>22</th>\n",
       "      <td>s1</td>\n",
       "      <td>-5.837584</td>\n",
       "    </tr>\n",
       "    <tr>\n",
       "      <th>23</th>\n",
       "      <td>s2</td>\n",
       "      <td>-2.129263</td>\n",
       "    </tr>\n",
       "    <tr>\n",
       "      <th>24</th>\n",
       "      <td>s3</td>\n",
       "      <td>-1.262872</td>\n",
       "    </tr>\n",
       "    <tr>\n",
       "      <th>25</th>\n",
       "      <td>s4</td>\n",
       "      <td>1.472541</td>\n",
       "    </tr>\n",
       "    <tr>\n",
       "      <th>26</th>\n",
       "      <td>shelved_count</td>\n",
       "      <td>-1.217646</td>\n",
       "    </tr>\n",
       "    <tr>\n",
       "      <th>27</th>\n",
       "      <td>read_count</td>\n",
       "      <td>0.147525</td>\n",
       "    </tr>\n",
       "    <tr>\n",
       "      <th>28</th>\n",
       "      <td>rated_count</td>\n",
       "      <td>0.215098</td>\n",
       "    </tr>\n",
       "    <tr>\n",
       "      <th>29</th>\n",
       "      <td>recommended_count</td>\n",
       "      <td>1.113996</td>\n",
       "    </tr>\n",
       "  </tbody>\n",
       "</table>\n",
       "</div>"
      ],
      "text/plain": [
       "                  feature  regression_coefficient\n",
       "0      text_reviews_count                0.007644\n",
       "1                is_ebook               -0.165985\n",
       "2          average_rating                0.972058\n",
       "3               num_pages               -0.000301\n",
       "4           ratings_count                0.401848\n",
       "5           is_translated               -0.411388\n",
       "6            is_in_series               -0.210058\n",
       "7           series_length                0.231697\n",
       "8            is_paperback               -0.145420\n",
       "9            is_hardcover               -0.092811\n",
       "10               is_audio                0.056527\n",
       "11           from_penguin               -0.103633\n",
       "12     from_harpercollins                0.270597\n",
       "13  from_university_press                0.033525\n",
       "14           from_vintage               -0.342933\n",
       "15       from_createspace               -0.681617\n",
       "16               author_a                0.140594\n",
       "17               author_b                0.100785\n",
       "18               author_c                0.341993\n",
       "19               author_d                0.226113\n",
       "20               author_e               -0.138250\n",
       "21               author_f                0.852902\n",
       "22                     s1               -5.837584\n",
       "23                     s2               -2.129263\n",
       "24                     s3               -1.262872\n",
       "25                     s4                1.472541\n",
       "26          shelved_count               -1.217646\n",
       "27             read_count                0.147525\n",
       "28            rated_count                0.215098\n",
       "29      recommended_count                1.113996"
      ]
     },
     "execution_count": 35,
     "metadata": {},
     "output_type": "execute_result"
    }
   ],
   "source": [
    "reg_df = pd.DataFrame({'feature': columns_to_keep,\n",
    "                       'regression_coefficient': reg_model.coef_[0]})\n",
    "\n",
    "reg_df.head(30)"
   ]
  },
  {
   "cell_type": "code",
   "execution_count": 36,
   "metadata": {},
   "outputs": [
    {
     "name": "stdout",
     "output_type": "stream",
     "text": [
      "Training AUC: 0.7646718514149099\n",
      "Validation AUC: 0.6272306679271902\n"
     ]
    }
   ],
   "source": [
    "from xgboost import XGBClassifier\n",
    "\n",
    "xg_cls = XGBClassifier(\n",
    "    objective='binary:logistic', learning_rate=0.1,\n",
    "    max_depth=1, n_estimators=1000)\n",
    "\n",
    "xg_cls.fit(X_train_reg2, train_df_processed['recommended'])\n",
    "train_AUC = roc_auc_score(\n",
    "    train_df_processed['recommended'], xg_cls.predict(X_train_reg2))\n",
    "val_AUC = roc_auc_score(\n",
    "    val_df_processed['recommended'], xg_cls.predict(X_val_reg2))\n",
    "\n",
    "print(\"Training AUC: {}\".format(train_AUC))\n",
    "print(\"Validation AUC: {}\".format(val_AUC))"
   ]
  },
  {
   "cell_type": "code",
   "execution_count": 37,
   "metadata": {},
   "outputs": [
    {
     "name": "stdout",
     "output_type": "stream",
     "text": [
      "Training AUC: 0.8330892712883677\n",
      "Validation AUC: 0.6291754874352941\n"
     ]
    }
   ],
   "source": [
    "from sklearn.ensemble import RandomForestClassifier\n",
    "\n",
    "ranfor_model = RandomForestClassifier(n_estimators=1000, max_depth=15)\n",
    "ranfor_model.fit(X_train_reg2, train_df_processed['recommended'])\n",
    "\n",
    "train_AUC = roc_auc_score(\n",
    "    train_df_processed['recommended'], ranfor_model.predict(X_train_reg2))\n",
    "val_AUC = roc_auc_score(\n",
    "    val_df_processed['recommended'], ranfor_model.predict(X_val_reg2))\n",
    "\n",
    "print(\"Training AUC: {}\".format(train_AUC))\n",
    "print(\"Validation AUC: {}\".format(val_AUC))"
   ]
  },
  {
   "cell_type": "markdown",
   "metadata": {},
   "source": [
    "### Word2Vec\n",
    "\n",
    "We create vector embeddings of the words in the book descriptions. Word2Vec captures the most important words and then the vectors for each important word in the book description are averaged to get a vector for the book"
   ]
  },
  {
   "cell_type": "code",
   "execution_count": 38,
   "metadata": {},
   "outputs": [],
   "source": [
    "book_df = train_df_s[['book_id', 'cleaned_text']]\n",
    "book_df = book_df.drop_duplicates(subset=['book_id'])\n",
    "\n",
    "book_df['cleaned_text'] = book_df['cleaned_text'].apply(lambda x: \"\" if pd.isnull(x) else x)\n",
    "\n",
    "w2v = Word2Vec(list(book_df['cleaned_text']), size=200, window=10, min_count=1)"
   ]
  },
  {
   "cell_type": "code",
   "execution_count": 39,
   "metadata": {},
   "outputs": [],
   "source": [
    "def create_book_vector(book_text, vec_length):\n",
    "    \"\"\"Creates a vector for the book given by `book_text`.\n",
    "\n",
    "    The word vectors for each word in `book_text` are\n",
    "    averaged to build a vector for the book.\n",
    "\n",
    "    Parameters\n",
    "    ----------\n",
    "    book_text: str\n",
    "        The book text for which the vector is generated.\n",
    "\n",
    "    Returns\n",
    "    -------\n",
    "    vector\n",
    "        A vector for the book.\n",
    "\n",
    "    \"\"\"\n",
    "    text_vecs = [word for word in str(book_text) if word in w2v.wv.vocab]\n",
    "    if len(text_vecs) > 0:\n",
    "        return np.mean(w2v[text_vecs], axis=0)\n",
    "    return np.zeros(vec_length)"
   ]
  },
  {
   "cell_type": "code",
   "execution_count": 40,
   "metadata": {},
   "outputs": [
    {
     "name": "stderr",
     "output_type": "stream",
     "text": [
      "<ipython-input-39-4533799a3578>:20: DeprecationWarning: Call to deprecated `__getitem__` (Method will be removed in 4.0.0, use self.wv.__getitem__() instead).\n",
      "  return np.mean(w2v[text_vecs], axis=0)\n"
     ]
    }
   ],
   "source": [
    "train_df_s['book_vector'] = train_df_s['cleaned_text'].apply(lambda x: create_book_vector(x, 200))\n",
    "val_df_s['book_vector'] = val_df_s['cleaned_text'].apply(lambda x: create_book_vector(x, 200))\n",
    "test_df_s['book_vector'] = test_df_s['cleaned_text'].apply(lambda x: create_book_vector(x, 200))"
   ]
  },
  {
   "cell_type": "code",
   "execution_count": 41,
   "metadata": {},
   "outputs": [],
   "source": [
    "def create_book_vec_df(book_vecs, indices):\n",
    "    \"\"\"Creates a dataframe from `book_vecs`.\n",
    "\n",
    "    Each numpy array in `book_vecs` is converted to a\n",
    "    row in the resulting dataframe.\n",
    "\n",
    "    Parameters\n",
    "    ----------\n",
    "    book_vecs: list\n",
    "        A list of numpy arrays where each array corresponds\n",
    "        to the book vector for a book.\n",
    "    indicies: np.array\n",
    "        A numpy array of indices for the DataFrame\n",
    "\n",
    "    Returns\n",
    "    -------\n",
    "    pd.DataFrame\n",
    "        The DataFrame obtained from converting `review_vecs`\n",
    "        to a dataframe.\n",
    "\n",
    "    \"\"\"\n",
    "    book_vec_df = pd.DataFrame(np.vstack(book_vecs))\n",
    "    book_vec_df.columns = [\"word\" + str(col) for col in book_vec_df.columns]\n",
    "    book_vec_df.index = indices\n",
    "    return book_vec_df"
   ]
  },
  {
   "cell_type": "code",
   "execution_count": 42,
   "metadata": {},
   "outputs": [],
   "source": [
    "train_wv = create_book_vec_df(train_df_s['book_vector'], train_df_s.index)\n",
    "val_wv = create_book_vec_df(val_df_s['book_vector'], val_df_s.index)\n",
    "test_wv = create_book_vec_df(test_df_s['book_vector'], test_df_s.index)"
   ]
  },
  {
   "cell_type": "code",
   "execution_count": 43,
   "metadata": {},
   "outputs": [],
   "source": [
    "X_train_wv_reg = pd.concat([train_wv, X_train_reg2], axis=1)\n",
    "X_val_wv_reg = pd.concat([val_wv, X_val_reg2], axis=1)\n",
    "X_test_wv_reg = pd.concat([test_wv, X_test_reg2], axis=1)"
   ]
  },
  {
   "cell_type": "code",
   "execution_count": 44,
   "metadata": {},
   "outputs": [
    {
     "name": "stderr",
     "output_type": "stream",
     "text": [
      "/Library/Frameworks/Python.framework/Versions/3.8/lib/python3.8/site-packages/sklearn/linear_model/_logistic.py:762: ConvergenceWarning: lbfgs failed to converge (status=1):\n",
      "STOP: TOTAL NO. of ITERATIONS REACHED LIMIT.\n",
      "\n",
      "Increase the number of iterations (max_iter) or scale the data as shown in:\n",
      "    https://scikit-learn.org/stable/modules/preprocessing.html\n",
      "Please also refer to the documentation for alternative solver options:\n",
      "    https://scikit-learn.org/stable/modules/linear_model.html#logistic-regression\n",
      "  n_iter_i = _check_optimize_result(\n"
     ]
    },
    {
     "name": "stdout",
     "output_type": "stream",
     "text": [
      "Training AUC: 0.7585883831799561\n",
      "Validation AUC: 0.6259733105473987\n"
     ]
    }
   ],
   "source": [
    "reg_model = LogisticRegression(max_iter=1000)\n",
    "reg_model.fit(X_train_wv_reg, train_df_s['recommended'])\n",
    "\n",
    "train_AUC = roc_auc_score(train_df_s['recommended'], reg_model.predict(X_train_wv_reg))\n",
    "val_AUC = roc_auc_score(val_df_s['recommended'], reg_model.predict(X_val_wv_reg))\n",
    "\n",
    "print(\"Training AUC: {}\".format(train_AUC))\n",
    "print(\"Validation AUC: {}\".format(val_AUC))"
   ]
  },
  {
   "cell_type": "code",
   "execution_count": 45,
   "metadata": {},
   "outputs": [
    {
     "name": "stdout",
     "output_type": "stream",
     "text": [
      "Training AUC: 0.7931655735517011\n",
      "Validation AUC: 0.6251816633278595\n"
     ]
    }
   ],
   "source": [
    "xg_cls = XGBClassifier(\n",
    "    objective='binary:logistic', learning_rate=0.1,\n",
    "    max_depth=2, n_estimators=2000)\n",
    "\n",
    "xg_cls.fit(X_train_wv_reg, train_df_processed['recommended'])\n",
    "train_AUC = roc_auc_score(\n",
    "    train_df_processed['recommended'], xg_cls.predict(X_train_wv_reg))\n",
    "val_AUC = roc_auc_score(\n",
    "    val_df_processed['recommended'], xg_cls.predict(X_val_wv_reg))\n",
    "\n",
    "print(\"Training AUC: {}\".format(train_AUC))\n",
    "print(\"Validation AUC: {}\".format(val_AUC))"
   ]
  },
  {
   "cell_type": "code",
   "execution_count": 46,
   "metadata": {},
   "outputs": [
    {
     "name": "stdout",
     "output_type": "stream",
     "text": [
      "Training AUC: 0.8292951634251359\n",
      "Validation AUC: 0.6291268112318548\n"
     ]
    }
   ],
   "source": [
    "from sklearn.ensemble import RandomForestClassifier\n",
    "\n",
    "ranfor_model = RandomForestClassifier(n_estimators=1000, max_depth=15)\n",
    "ranfor_model.fit(X_train_wv_reg, train_df_processed['recommended'])\n",
    "\n",
    "train_AUC = roc_auc_score(\n",
    "    train_df_processed['recommended'], ranfor_model.predict(X_train_wv_reg))\n",
    "val_AUC = roc_auc_score(\n",
    "    val_df_processed['recommended'], ranfor_model.predict(X_val_wv_reg))\n",
    "\n",
    "print(\"Training AUC: {}\".format(train_AUC))\n",
    "print(\"Validation AUC: {}\".format(val_AUC))"
   ]
  }
 ],
 "metadata": {
  "kernelspec": {
   "display_name": "csc2515-env-3.8",
   "language": "python",
   "name": "csc2515-env-3.8"
  },
  "language_info": {
   "codemirror_mode": {
    "name": "ipython",
    "version": 3
   },
   "file_extension": ".py",
   "mimetype": "text/x-python",
   "name": "python",
   "nbconvert_exporter": "python",
   "pygments_lexer": "ipython3",
   "version": "3.8.0"
  }
 },
 "nbformat": 4,
 "nbformat_minor": 4
}
