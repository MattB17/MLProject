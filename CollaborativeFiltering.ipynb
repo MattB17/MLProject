{
 "cells": [
  {
   "cell_type": "markdown",
   "metadata": {},
   "source": [
    "# Collaborative Filtering Baseline Model\n",
    "\n",
    "In this notebook we build a collaborative filtering model to serve as a baseline\n",
    "\n",
    "### Imports"
   ]
  },
  {
   "cell_type": "code",
   "execution_count": 56,
   "metadata": {},
   "outputs": [],
   "source": [
    "import json\n",
    "import os\n",
    "import random\n",
    "import numpy as np\n",
    "import pandas as pd\n",
    "\n",
    "random.seed(42)\n",
    "np.random.seed(42)"
   ]
  },
  {
   "cell_type": "markdown",
   "metadata": {},
   "source": [
    "### Load Training Data"
   ]
  },
  {
   "cell_type": "code",
   "execution_count": 57,
   "metadata": {},
   "outputs": [],
   "source": [
    "OUTPUT_DATA_DIR = \"./output_data/\"\n",
    "\n",
    "train_df = pd.read_csv(OUTPUT_DATA_DIR+\"interactions_training.csv\")"
   ]
  },
  {
   "cell_type": "code",
   "execution_count": 58,
   "metadata": {},
   "outputs": [],
   "source": [
    "pd.set_option('display.max_columns', None)"
   ]
  },
  {
   "cell_type": "markdown",
   "metadata": {},
   "source": [
    "### Load Validation Data"
   ]
  },
  {
   "cell_type": "code",
   "execution_count": 59,
   "metadata": {},
   "outputs": [],
   "source": [
    "val_df = pd.read_csv(OUTPUT_DATA_DIR+\"interactions_validation.csv\")"
   ]
  },
  {
   "cell_type": "markdown",
   "metadata": {},
   "source": [
    "### Collaborative Filtering - Item to Item Similarity\n",
    "\n",
    "The predicted rating will be the average of the average rating for the most similar books.\n",
    "\n",
    "We will be using kNN and so the predicted rating for a book will be the average rating for the `k` closest books"
   ]
  },
  {
   "cell_type": "code",
   "execution_count": 60,
   "metadata": {},
   "outputs": [],
   "source": [
    "train_df['book_id'] = train_df['book_id'].astype(\"category\")\n",
    "train_df['user_id'] = train_df['user_id'].astype(\"category\")"
   ]
  },
  {
   "cell_type": "code",
   "execution_count": 61,
   "metadata": {},
   "outputs": [],
   "source": [
    "import scipy.sparse as sp\n",
    "\n",
    "item_matrix = train_df.pivot(index='book_id', columns='user_id', values='rating').fillna(0)\n",
    "item_train_matrix = sp.csr_matrix(item_matrix.values)"
   ]
  },
  {
   "cell_type": "markdown",
   "metadata": {},
   "source": [
    "We now fit a few KNN models for various values of `k`. Note that there are way more users than books and so we will keep `k` relatively small. We will try `k = [1, 2, 5, 10]` initially."
   ]
  },
  {
   "cell_type": "code",
   "execution_count": 62,
   "metadata": {},
   "outputs": [],
   "source": [
    "from sklearn.neighbors import NearestNeighbors\n",
    "\n",
    "train_item_avg = train_df.groupby(train_df['book_id'], as_index=False)['rating'].mean()\n",
    "train_item_avg.columns = ['book_id', 'book_average']\n",
    "train_item_avg = train_item_avg.set_index('book_id')"
   ]
  },
  {
   "cell_type": "code",
   "execution_count": 63,
   "metadata": {},
   "outputs": [],
   "source": [
    "def build_knn_model(train_matrix, k):\n",
    "    \"\"\"Builds a kNN model on `train_matrix` with `k` neighbours.\n",
    "    \n",
    "    Parameters\n",
    "    ----------\n",
    "    train_matrix: sp.csr_matrix\n",
    "        The sparse matrix used to build the kNN model.\n",
    "    k: int\n",
    "        The number of neighbours to use in the kNN model.\n",
    "    \n",
    "    Returns\n",
    "    -------\n",
    "    NearestNeighbors\n",
    "        A NearestNeighbors model fit to `train_matrix`.\n",
    "    \n",
    "    \"\"\"\n",
    "    model_knn = NearestNeighbors(metric='cosine', algorithm='brute', n_neighbors=k)\n",
    "    model_knn.fit(train_matrix)\n",
    "    return model_knn"
   ]
  },
  {
   "cell_type": "code",
   "execution_count": 64,
   "metadata": {},
   "outputs": [],
   "source": [
    "def get_item_preds_from_knn(knn_model, train_matrix, items, item_avgs):\n",
    "    \"\"\"Gets the kNN predictions for the items in `items`.\n",
    "    \n",
    "    This assumes that every item in items was fit on the\n",
    "    knn_model. This is just a precomputation step to get\n",
    "    the predictions for items in the training set.\n",
    "    \n",
    "    Parameters\n",
    "    ----------\n",
    "    knn_model: NearestNeighbors\n",
    "        A NearestNeighbors model that has been fit.\n",
    "    train_matrix: sp.csr_matrix\n",
    "        The sparse matrix representing the training data.\n",
    "    items: np.array\n",
    "        An array of item indices for items in `knn_model`.\n",
    "    item_avgs: pd.DataFrame\n",
    "        A pandas dataframe containing the average rating for\n",
    "        each item in `items`.\n",
    "    \n",
    "    Returns\n",
    "    -------\n",
    "    pd.DataFrame\n",
    "        A DataFrame containing the predicted rating for each item\n",
    "        in `items`.\n",
    "    \n",
    "    \"\"\"\n",
    "    item_neighbors = np.asarray(knn_model.kneighbors(train_matrix, return_distance=False))\n",
    "    knn_avgs = np.zeros(len(item_neighbors))   # this is more efficient than appending multiple times (no resizing)\n",
    "    for i in range(len(item_neighbors)):\n",
    "        knn_avgs[i] = item_avgs['book_average'][items[item_neighbors[i]]].mean()    # average of average ratings for neighbors\n",
    "    return pd.concat([pd.DataFrame(items, columns=['book_id']),\n",
    "                      pd.DataFrame(knn_avgs, columns=['book_rating'])],\n",
    "                    axis=1)"
   ]
  },
  {
   "cell_type": "code",
   "execution_count": 77,
   "metadata": {},
   "outputs": [],
   "source": [
    "def predict_ratings(X, item_preds, default_val, merge_col):\n",
    "    \"\"\"Predicts the item ratings for the items in `X`.\n",
    "    \n",
    "    Parameters\n",
    "    ----------\n",
    "    X: pd.DataFrame\n",
    "        The DataFrame of features.\n",
    "    item_preds: pd.DataFrame\n",
    "        The DataFrame of predicted ratings for the items.\n",
    "    default_val: float\n",
    "        A default rating used for unseen items.\n",
    "    merge_col: str\n",
    "        The column to merge on.\n",
    "    \n",
    "    Returns\n",
    "    -------\n",
    "    pd.DataFrame\n",
    "        A DataFrame containing the predicted item ratings for\n",
    "        the records in `X`.\n",
    "    \n",
    "    \"\"\"\n",
    "    id_col = \"{}_id\".format(merge_col)\n",
    "    rating_col = \"{}_rating\".format(merge_col)\n",
    "    df_item = pd.merge(X, item_preds, how='left', on=[id_col])\n",
    "    df_item[rating_col] = df_item[rating_col].fillna(default_val)\n",
    "    df_item.index = X.index\n",
    "    return df_item[rating_col].apply(lambda x: 1 if x > 3 else 0)"
   ]
  },
  {
   "cell_type": "code",
   "execution_count": 81,
   "metadata": {},
   "outputs": [],
   "source": [
    "def get_item_knn_train_validation_preds(train_df, val_df, train_matrix, k, items, item_avgs):\n",
    "    \"\"\"Gets predictions on `train_df` and `val_df` from a kNN model.\n",
    "    \n",
    "    Parameters\n",
    "    ----------\n",
    "    train_df: pd.DataFrame\n",
    "        A DataFrame of the training data.\n",
    "    val_df: pd.DataFrame\n",
    "        A DataFrame of the validation data.\n",
    "    train_matrix: sp.csr_matrix\n",
    "        The sparse matrix used to train the kNN model.\n",
    "    k: int\n",
    "        The number of neighbours in the kNN model.\n",
    "    items: np.array\n",
    "        An array of strings representing the ids of the\n",
    "        items used in training.\n",
    "    item_avgs: pd.DataFrame\n",
    "        A DataFrame containing the average rating for the\n",
    "        items in `items`.\n",
    "    \n",
    "    Returns\n",
    "    -------\n",
    "    np.array, np.array\n",
    "        Arrays of predictions on the training and validation sets, respectively.\n",
    "    \n",
    "    \"\"\"\n",
    "    knn_model = build_knn_model(train_matrix, k)\n",
    "    knn_preds = get_item_preds_from_knn(knn_model, train_matrix, items, item_avgs)\n",
    "    \n",
    "    # prediction for a new book\n",
    "    new_book_vec = np.zeros(train_matrix.shape[1])\n",
    "    new_book_neighbours = knn_model.kneighbors(new_book_vec.reshape(1, -1), return_distance=False)\n",
    "    new_book_pred = item_avgs['book_average'][items[new_book_neighbours[0]]].mean()\n",
    "    \n",
    "    train_pred = predict_ratings(train_df, knn_preds, new_book_pred, \"book\")\n",
    "    val_pred = predict_ratings(val_df, knn_preds, new_book_pred, \"book\")\n",
    "    return train_pred, val_pred"
   ]
  },
  {
   "cell_type": "code",
   "execution_count": 122,
   "metadata": {},
   "outputs": [
    {
     "name": "stdout",
     "output_type": "stream",
     "text": [
      "kNN with k = 1\n",
      "---------------\n",
      "Training AUC: 0.6773718489378283\n",
      "Validation AUC: 0.6615090992379128\n",
      "\n",
      "kNN with k = 2\n",
      "---------------\n",
      "Training AUC: 0.6394047663192072\n",
      "Validation AUC: 0.6330733011470107\n",
      "\n",
      "kNN with k = 5\n",
      "---------------\n",
      "Training AUC: 0.6450947447633038\n",
      "Validation AUC: 0.6410409395836281\n",
      "\n",
      "kNN with k = 10\n",
      "---------------\n",
      "Training AUC: 0.655245438999922\n",
      "Validation AUC: 0.6552284090631739\n",
      "\n"
     ]
    }
   ],
   "source": [
    "from sklearn.metrics import roc_auc_score\n",
    "\n",
    "k_vals = [1, 2, 5, 10]\n",
    "train_MSEs = [None for _ in range(4)]\n",
    "val_MSEs = [None for _ in range(4)]\n",
    "\n",
    "for i in range(len(k_vals)):\n",
    "    k = k_vals[i]\n",
    "    print(\"kNN with k = {}\".format(k))\n",
    "    print(\"---------------\")\n",
    "    train_preds, val_preds = get_item_knn_train_validation_preds(\n",
    "        train_df, val_df, item_train_matrix, k, item_matrix.index, train_item_avg)\n",
    "    train_MSEs[i] = roc_auc_score(train_preds, train_df['recommended'])\n",
    "    val_MSEs[i] = roc_auc_score(val_preds, val_df['recommended'])\n",
    "    print(\"Training AUC: {}\".format(train_MSEs[i]))\n",
    "    print(\"Validation AUC: {}\".format(val_MSEs[i]))\n",
    "    print()"
   ]
  },
  {
   "cell_type": "markdown",
   "metadata": {},
   "source": [
    "The different values of k don't seem to make too much difference"
   ]
  },
  {
   "cell_type": "code",
   "execution_count": 123,
   "metadata": {},
   "outputs": [],
   "source": [
    "RESULTS_DIR = './results/'\n",
    "\n",
    "if not os.path.exists(RESULTS_DIR):\n",
    "    os.makedirs(RESULTS_DIR)"
   ]
  },
  {
   "cell_type": "code",
   "execution_count": 127,
   "metadata": {},
   "outputs": [],
   "source": [
    "item_item_cf = pd.DataFrame({'k': k_vals,\n",
    "                             'trainMSE': train_MSEs,\n",
    "                             'valMSE': val_MSEs})\n",
    "item_item_cf.to_csv(RESULTS_DIR+\"itemToItemCF.csv\", index=False)"
   ]
  },
  {
   "cell_type": "markdown",
   "metadata": {},
   "source": [
    "### Collaborative Filtering - User to User Similarity\n",
    "\n",
    "The predicted rating will be the average of the average rating for the most similar users.\n",
    "\n",
    "We will be using kNN and so the predicted rating for a user will be the average rating for the `k` closest users\n",
    "\n",
    "Using the full dataset there are too many users. So we subsample instead."
   ]
  },
  {
   "cell_type": "code",
   "execution_count": 128,
   "metadata": {},
   "outputs": [],
   "source": [
    "sub_train_df = train_df.sample(frac=0.2)"
   ]
  },
  {
   "cell_type": "code",
   "execution_count": 129,
   "metadata": {},
   "outputs": [],
   "source": [
    "user_matrix = sub_train_df.pivot(index='user_id', columns='book_id', values='rating').fillna(0)\n",
    "user_train_matrix = sp.csr_matrix(user_matrix.values)"
   ]
  },
  {
   "cell_type": "markdown",
   "metadata": {},
   "source": [
    "We now fit a few KNN models for various values of `k`. Note that there are way more users than books and so we can afford a larger value of `k`. We will try `k = [1, 2, 5, 10, 20, 50]` initially."
   ]
  },
  {
   "cell_type": "code",
   "execution_count": 130,
   "metadata": {},
   "outputs": [],
   "source": [
    "train_user_avg = sub_train_df.groupby(sub_train_df['user_id'], as_index=False)['rating'].mean()\n",
    "train_user_avg.columns = ['user_id', 'user_average']\n",
    "train_user_avg = train_user_avg.set_index('user_id')"
   ]
  },
  {
   "cell_type": "code",
   "execution_count": 131,
   "metadata": {},
   "outputs": [],
   "source": [
    "def get_user_preds_from_knn(knn_model, train_matrix, users, user_avgs):\n",
    "    \"\"\"Gets the kNN predictions for the user in `users`.\n",
    "    \n",
    "    This assumes that `knn_model` was fit on every user in \n",
    "    `users`. This is just a precomputation step to get\n",
    "    the predictions for users in the training set.\n",
    "    \n",
    "    Parameters\n",
    "    ----------\n",
    "    knn_model: NearestNeighbors\n",
    "        A NearestNeighbors model that has been fit.\n",
    "    train_matrix: sp.csr_matrix\n",
    "        The sparse matrix representing the training data.\n",
    "    users: np.array\n",
    "        An array of user ids for users in `knn_model`.\n",
    "    user_avgs: pd.DataFrame\n",
    "        A pandas dataframe containing the average rating for\n",
    "        each user in `users`.\n",
    "    \n",
    "    Returns\n",
    "    -------\n",
    "    pd.DataFrame\n",
    "        A DataFrame containing the predicted rating for each user\n",
    "        in `users`.\n",
    "    \n",
    "    \"\"\"\n",
    "    user_neighbors = np.asarray(knn_model.kneighbors(train_matrix, return_distance=False))\n",
    "    knn_avgs = np.zeros(len(user_neighbors))   # this is more efficient than appending multiple times (no resizing)\n",
    "    for i in range(len(user_neighbors)):\n",
    "        knn_avgs[i] = user_avgs['user_average'][users[user_neighbors[i]]].mean()    # average of average ratings for neighbors\n",
    "    return pd.concat([pd.DataFrame(users, columns=['user_id']),\n",
    "                      pd.DataFrame(knn_avgs, columns=['user_rating'])],\n",
    "                    axis=1)"
   ]
  },
  {
   "cell_type": "code",
   "execution_count": 132,
   "metadata": {},
   "outputs": [],
   "source": [
    "def get_user_knn_train_validation_preds(train_df, val_df, train_matrix, k, users, user_avgs):\n",
    "    \"\"\"Gets predictions on `train_df` and `val_df` from a kNN model.\n",
    "    \n",
    "    Parameters\n",
    "    ----------\n",
    "    train_df: pd.DataFrame\n",
    "        A DataFrame of the training data.\n",
    "    val_df: pd.DataFrame\n",
    "        A DataFrame of the validation data.\n",
    "    train_matrix: sp.csr_matrix\n",
    "        The sparse matrix used to train the kNN model.\n",
    "    k: int\n",
    "        The number of neighbours in the kNN model.\n",
    "    users: np.array\n",
    "        An array of strings representing the ids of the\n",
    "        users used in training.\n",
    "    user_avgs: pd.DataFrame\n",
    "        A DataFrame containing the average rating for the\n",
    "        users in `users`.\n",
    "    \n",
    "    Returns\n",
    "    -------\n",
    "    np.array, np.array\n",
    "        Arrays of predictions on the training and validation sets, respectively.\n",
    "    \n",
    "    \"\"\"\n",
    "    knn_model = build_knn_model(train_matrix, k)\n",
    "    knn_preds = get_user_preds_from_knn(knn_model, train_matrix, users, user_avgs)\n",
    "    \n",
    "    # prediction for a new user\n",
    "    new_user_vec = np.zeros(train_matrix.shape[1])\n",
    "    new_user_neighbours = knn_model.kneighbors(new_user_vec.reshape(1, -1), return_distance=False)\n",
    "    new_user_pred = user_avgs['user_average'][users[new_user_neighbours[0]]].mean()\n",
    "    \n",
    "    train_pred = predict_ratings(train_df, knn_preds, new_user_pred, \"user\")\n",
    "    val_pred = predict_ratings(val_df, knn_preds, new_user_pred, \"user\")\n",
    "    return train_pred, val_pred"
   ]
  },
  {
   "cell_type": "code",
   "execution_count": null,
   "metadata": {},
   "outputs": [
    {
     "name": "stdout",
     "output_type": "stream",
     "text": [
      "kNN with k = 1\n",
      "---------------\n"
     ]
    }
   ],
   "source": [
    "k_vals = [1, 2, 5, 10]\n",
    "train_MSEs = [None for _ in range(4)]\n",
    "val_MSEs = [None for _ in range(4)]\n",
    "\n",
    "for i in range(len(k_vals)):\n",
    "    k = k_vals[i]\n",
    "    print(\"kNN with k = {}\".format(k))\n",
    "    print(\"---------------\")\n",
    "    train_preds, val_preds = get_user_knn_train_validation_preds(\n",
    "        sub_train_df, val_df, user_train_matrix, k, user_matrix.index, train_user_avg)\n",
    "    train_MSEs[i] = roc_auc_score(train_preds, sub_train_df['recommended'])\n",
    "    val_MSEs[i] = roc_auc_score(val_preds, val_df['recommended'])\n",
    "    print(\"Training AUC: {}\".format(train_MSEs[i]))\n",
    "    print(\"Validation AUC: {}\".format(val_MSEs[i]))\n",
    "    print()"
   ]
  },
  {
   "cell_type": "code",
   "execution_count": null,
   "metadata": {},
   "outputs": [],
   "source": [
    "user_user_cf = pd.DataFrame({'k': k_vals,\n",
    "                             'trainMSE': train_MSEs,\n",
    "                             'valMSE': val_MSEs})\n",
    "\n",
    "user_user_cf.to_csv(RESULTS_DIR+\"userToUserCF.csv\", index=False)"
   ]
  }
 ],
 "metadata": {
  "kernelspec": {
   "display_name": "csc2515-env-3.8",
   "language": "python",
   "name": "csc2515-env-3.8"
  }
 },
 "nbformat": 4,
 "nbformat_minor": 4
}
