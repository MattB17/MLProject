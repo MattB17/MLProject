{
 "cells": [
  {
   "cell_type": "code",
   "execution_count": 1,
   "metadata": {},
   "outputs": [],
   "source": [
    "import json\n",
    "import os\n",
    "import random\n",
    "import numpy as np\n",
    "import pandas as pd\n",
    "\n",
    "random.seed(42)\n",
    "np.random.seed(42)"
   ]
  },
  {
   "cell_type": "code",
   "execution_count": 2,
   "metadata": {},
   "outputs": [
    {
     "name": "stderr",
     "output_type": "stream",
     "text": [
      "/Library/Frameworks/Python.framework/Versions/3.8/lib/python3.8/site-packages/IPython/core/interactiveshell.py:3146: DtypeWarning: Columns (28) have mixed types.Specify dtype option on import or set low_memory=False.\n",
      "  has_raised = await self.run_ast_nodes(code_ast.body, cell_name,\n"
     ]
    }
   ],
   "source": [
    "OUTPUT_DATA_DIR = \"./output_data/\"\n",
    "\n",
    "train_df = pd.read_csv(OUTPUT_DATA_DIR+\"interactions_training.csv\")\n",
    "\n",
    "val_df = pd.read_csv(OUTPUT_DATA_DIR+\"interactions_validation.csv\")\n",
    "\n",
    "test_df = pd.read_csv(OUTPUT_DATA_DIR+\"interactions_testing.csv\")"
   ]
  },
  {
   "cell_type": "code",
   "execution_count": 3,
   "metadata": {},
   "outputs": [
    {
     "name": "stderr",
     "output_type": "stream",
     "text": [
      "[nltk_data] Downloading package stopwords to\n",
      "[nltk_data]     /Users/Matthew/nltk_data...\n",
      "[nltk_data]   Package stopwords is already up-to-date!\n"
     ]
    }
   ],
   "source": [
    "import re\n",
    "import nltk\n",
    "nltk.download('stopwords')\n",
    "from nltk.corpus import stopwords\n",
    "from nltk.stem.porter import PorterStemmer\n",
    "\n",
    "def process_book_text(book_text, exclude_text, ps):\n",
    "    \"\"\"Pre-processes the text given by `review_text`.\n",
    "\n",
    "    Parameters\n",
    "    ----------\n",
    "    book_text: str\n",
    "        The book text to be processed.\n",
    "    exclude_text: collection\n",
    "        A collection of words to be excluded.\n",
    "    ps: PorterStemmer\n",
    "        The PorterStemmer used to perform word stemming.\n",
    "\n",
    "    Returns\n",
    "    -------\n",
    "    str\n",
    "        A string representing the processed version of `review_text`.\n",
    "\n",
    "    \"\"\"\n",
    "    book = re.sub('[^a-zA-Z0-9]', ' ', book_text).lower().split()\n",
    "    book = [ps.stem(word) for word in book if not word in exclude_text]\n",
    "    return ' '.join(book)"
   ]
  },
  {
   "cell_type": "code",
   "execution_count": 4,
   "metadata": {},
   "outputs": [],
   "source": [
    "def preprocess_for_classification(data_df):\n",
    "    \"\"\"Preprocesses `data_df` to be used in classification.\n",
    "\n",
    "    Parameters\n",
    "    ----------\n",
    "    data_df: pd.DataFrame\n",
    "        The DataFrame to be processed.\n",
    "\n",
    "    Returns\n",
    "    -------\n",
    "    pd.DataFrame\n",
    "        The DataFrame obtained from `data_df` after processing.\n",
    "\n",
    "    \"\"\"\n",
    "    # flags for most popular formats\n",
    "    data_df['format'] = data_df['format'].apply(lambda x: str(x).lower())\n",
    "    data_df['is_paperback'] = data_df['format'].apply(lambda x: int(\"paper\" in x))\n",
    "    data_df['is_hardcover'] = data_df['format'].apply(lambda x: int(\"hard\" in x))\n",
    "    data_df['is_audio'] = data_df['format'].apply(lambda x: int(\"audio\" in x))\n",
    "    data_df['is_other_format'] = (data_df['is_paperback'] + data_df['is_hardcover'] +\n",
    "                                  data_df['is_audio'] + data_df['is_ebook'])\n",
    "    data_df['is_other_format'] = data_df['is_other_format'].apply(lambda x: 0 if x > 0 else 1)\n",
    "\n",
    "    #flags for most popular publishers\n",
    "    data_df['publisher'] = data_df['publisher'].apply(lambda x: str(x).lower())\n",
    "    data_df['from_penguin'] = data_df['publisher'].apply(lambda x: int(\"penguin\" in x))\n",
    "    data_df['from_harpercollins'] = data_df['publisher'].apply(lambda x: int(\"harpercollins\" in x or \"harper collins\" in x))\n",
    "    data_df['from_university_press'] = data_df['publisher'].apply(lambda x: int(\"university press\" in x))\n",
    "    data_df['from_vintage'] = data_df['publisher'].apply(lambda x: int(\"vintage\" in x))\n",
    "    data_df['from_createspace'] = data_df['publisher'].apply(lambda x: int(\"createspace\" in x or \"create space\" in x))\n",
    "    data_df['other_publisher'] = (data_df['from_penguin'] + data_df['from_harpercollins'] +\n",
    "                                  data_df['from_university_press'] + data_df['from_vintage'] + data_df['from_createspace'])\n",
    "    data_df['other_publisher'] = data_df['other_publisher'].apply(lambda x: 0 if x > 0 else 1)\n",
    "\n",
    "    # ensuring columns are not missing\n",
    "    data_df['average_rating'] = data_df['average_rating'].apply(lambda x: 0.0 if pd.isnull(x) else x)\n",
    "    train_df['text_reviews_count'] = data_df['text_reviews_count'].apply(lambda x: 0 if pd.isnull(x) else x)\n",
    "    data_df['ratings_count'] = data_df['ratings_count'].apply(lambda x: 0 if pd.isnull(x) else x)\n",
    "    median_page_count = data_df['num_pages'].median()\n",
    "\n",
    "    data_df['num_pages'] = data_df['num_pages'].apply(lambda x: median_page_count if pd.isnull(x) else x)\n",
    "\n",
    "    # flags for most popular authors\n",
    "    data_df['main_author'] = data_df['main_author'].astype(str)\n",
    "    data_df['author_a'] = data_df['main_author'].apply(lambda x: int(x == \"435477.0\"))\n",
    "    data_df['author_b'] = data_df['main_author'].apply(lambda x: int(x == \"903.0\"))\n",
    "    data_df['author_c'] = data_df['main_author'].apply(lambda x: int(x == \"947.0\"))\n",
    "    data_df['author_d'] = data_df['main_author'].apply(lambda x: int(x == \"4624490.0\"))\n",
    "    data_df['author_e'] = data_df['main_author'].apply(lambda x: int(x == \"18540.0\"))\n",
    "    data_df['author_f'] = data_df['main_author'].apply(lambda x: int(x == \"8075577.0\"))\n",
    "    data_df['author_other'] = (data_df['author_a'] + data_df['author_b'] +\n",
    "                                data_df['author_c'] + data_df['author_d'] +\n",
    "                                data_df['author_e'] + data_df['author_f'])\n",
    "    data_df['author_other'] = data_df['author_other'].apply(lambda x: 0 if x > 0 else 1)\n",
    "    return data_df"
   ]
  },
  {
   "cell_type": "code",
   "execution_count": 5,
   "metadata": {},
   "outputs": [],
   "source": [
    "def preprocess_all_book_text(data_df, id_col, text_col, exclude_text, ps):\n",
    "    \"\"\"Preprocesses the book text in `data_df` for `text_col`.\n",
    "\n",
    "    The dataframe is restricted to `id_col` and `text_col` and then the\n",
    "    unique ids are chosen. This is so that we only preprocess the text\n",
    "    for a book once. Then we join the resulting text back to `data_df`.\n",
    "\n",
    "    Parameters\n",
    "    ----------\n",
    "    data_df: pd.DataFrame\n",
    "        The DataFrame containing the data to be preprocessed.\n",
    "    id_col: str\n",
    "        The column from which unique ids are chosen.\n",
    "    text_col: str\n",
    "        The column to be pre-processed.\n",
    "    exclude_text: collection\n",
    "        A collection of words to remove\n",
    "    ps: PorterStemmer\n",
    "        The PorterStemmer used for word stemming.\n",
    "\n",
    "    Returns\n",
    "    -------\n",
    "    pd.DataFrame\n",
    "        The DataFrame obtained from `data_df` after adding a column\n",
    "        with the processed text.\n",
    "\n",
    "    \"\"\"\n",
    "    book_df = data_df[[id_col, text_col]]\n",
    "    book_df = book_df.drop_duplicates(subset=[id_col])\n",
    "    book_df['cleaned_text'] = book_df[text_col].apply(lambda x: process_book_text(x, exclude_text, ps))\n",
    "    final_df = pd.merge(data_df, book_df[[id_col, \"cleaned_text\"]], how=\"inner\", on=[id_col])\n",
    "    return final_df"
   ]
  },
  {
   "cell_type": "code",
   "execution_count": 6,
   "metadata": {},
   "outputs": [],
   "source": [
    "def run_preprocess_pipeline(data_df, exclude_text, ps):\n",
    "    \"\"\"Runs the full pre-processing pipeline on `data_df`.\n",
    "\n",
    "    Parameters\n",
    "    ----------\n",
    "    data_df: pd.DataFrame\n",
    "\n",
    "    \"\"\"\n",
    "    processed_df = preprocess_for_classification(data_df)\n",
    "    return preprocess_all_book_text(processed_df, \"book_id\", \"title_description\", exclude_text, ps)"
   ]
  },
  {
   "cell_type": "code",
   "execution_count": 7,
   "metadata": {},
   "outputs": [],
   "source": [
    "exclude_english = set(stopwords.words('english'))\n",
    "ps = PorterStemmer()\n",
    "train_df_processed = run_preprocess_pipeline(train_df, exclude_english, ps)\n",
    "val_df_processed = run_preprocess_pipeline(val_df, exclude_english, ps)\n",
    "test_df_processed = run_preprocess_pipeline(test_df, exclude_english, ps)"
   ]
  },
  {
   "cell_type": "code",
   "execution_count": null,
   "metadata": {},
   "outputs": [],
   "source": [
    "book_texts = train_df_processed[['book_id', 'cleaned_text']]\n",
    "book_texts = book_texts.drop_duplicates(subset=['book_id'])\n",
    "\n",
    "full_text = \" \".join(list(book_texts['cleaned_text'])) + \" \""
   ]
  },
  {
   "cell_type": "code",
   "execution_count": null,
   "metadata": {},
   "outputs": [],
   "source": [
    "from wordcloud import WordCloud\n",
    "import seaborn as sns\n",
    "import matplotlib.pyplot as plt\n",
    "\n",
    "sns.set_style('whitegrid')\n",
    "plt.style.use('seaborn-darkgrid')\n",
    "%matplotlib inline\n",
    "sns.set(font_scale=1.5)\n",
    "\n",
    "word_cloud = WordCloud(width=800, height=800,\n",
    "                       background_color='white',\n",
    "                       min_font_size=10).generate(full_text)\n",
    "\n",
    "plt.figure(figsize=(8,8), facecolor=None)\n",
    "plt.imshow(word_cloud)\n",
    "plt.axis(\"off\")\n",
    "plt.tight_layout(pad=0)\n",
    "\n",
    "plt.show()"
   ]
  },
  {
   "cell_type": "code",
   "execution_count": null,
   "metadata": {},
   "outputs": [],
   "source": [
    "print(len(train_df_processed) + len(val_df_processed) + len(test_df_processed))"
   ]
  },
  {
   "cell_type": "code",
   "execution_count": null,
   "metadata": {},
   "outputs": [],
   "source": [
    "import json\n",
    "\n",
    "interactions_file = os.path.join(\"data\", \"goodreads_interactions_poetry.json\")\n",
    "\n",
    "users = []\n",
    "with open(interactions_file, 'r') as data_file:\n",
    "    for row in data_file:\n",
    "        users.append(json.loads(row)['user_id'])\n",
    "\n",
    "np_users = np.array(users)\n",
    "del users"
   ]
  },
  {
   "cell_type": "code",
   "execution_count": null,
   "metadata": {},
   "outputs": [],
   "source": [
    "print(len(np.unique(np_users)))"
   ]
  },
  {
   "cell_type": "code",
   "execution_count": null,
   "metadata": {},
   "outputs": [],
   "source": [
    "pd.set_option('display.max_columns', None)"
   ]
  },
  {
   "cell_type": "code",
   "execution_count": null,
   "metadata": {},
   "outputs": [],
   "source": [
    "from sklearn.utils import shuffle\n",
    "\n",
    "def shuffle_dataset(data_df):\n",
    "    \"\"\"Randomly shuffles `df`.\n",
    "\n",
    "    Parameters\n",
    "    ----------\n",
    "    df: pd.DataFrame\n",
    "        The DataFrame to be shuffled.\n",
    "\n",
    "    Returns\n",
    "    -------\n",
    "    pd.DataFrame\n",
    "        A shuffled dataframe obtained from `df`.\n",
    "\n",
    "    \"\"\"\n",
    "    data_df = shuffle(data_df)\n",
    "    data_df.reset_index(inplace=True, drop=True)\n",
    "    return data_df"
   ]
  },
  {
   "cell_type": "code",
   "execution_count": null,
   "metadata": {},
   "outputs": [],
   "source": [
    "train_df_processed = shuffle_dataset(train_df_processed)\n",
    "val_df_processed = shuffle_dataset(val_df_processed)\n",
    "test_df_processed = shuffle_dataset(test_df_processed)"
   ]
  },
  {
   "cell_type": "code",
   "execution_count": null,
   "metadata": {},
   "outputs": [],
   "source": [
    "train_df_processed.to_csv(OUTPUT_DATA_DIR+\"text_processed_training.csv\", index=False)\n",
    "val_df_processed.to_csv(OUTPUT_DATA_DIR+\"text_processed_validation.csv\", index=False)\n",
    "test_df_processed.to_csv(OUTPUT_DATA_DIR+\"text_processed_testing.csv\", index=False)"
   ]
  }
 ],
 "metadata": {
  "kernelspec": {
   "display_name": "csc2515-env-3.8",
   "language": "python",
   "name": "csc2515-env-3.8"
  },
  "language_info": {
   "codemirror_mode": {
    "name": "ipython",
    "version": 3
   },
   "file_extension": ".py",
   "mimetype": "text/x-python",
   "name": "python",
   "nbconvert_exporter": "python",
   "pygments_lexer": "ipython3",
   "version": "3.8.0"
  }
 },
 "nbformat": 4,
 "nbformat_minor": 4
}
