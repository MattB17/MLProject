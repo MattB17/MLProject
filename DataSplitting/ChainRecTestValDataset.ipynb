{
 "cells": [
  {
   "cell_type": "markdown",
   "metadata": {},
   "source": [
    "# ChainRec Test-Validation Split\n",
    "\n",
    "In this notebook we create a csv file which contains the interactions that are in the test and validation sets. The source code of chainRec was modified to load this file to ensure that it splits the data in the same way each time."
   ]
  },
  {
   "cell_type": "code",
   "execution_count": 1,
   "metadata": {},
   "outputs": [],
   "source": [
    "import json\n",
    "import os\n",
    "import random\n",
    "import numpy as np\n",
    "import pandas as pd\n",
    "from gensim.models import Word2Vec\n",
    "import scipy.sparse as sp\n",
    "\n",
    "random.seed(42)\n",
    "np.random.seed(42)"
   ]
  },
  {
   "cell_type": "markdown",
   "metadata": {},
   "source": [
    "### Loading Data"
   ]
  },
  {
   "cell_type": "code",
   "execution_count": 6,
   "metadata": {},
   "outputs": [
    {
     "name": "stderr",
     "output_type": "stream",
     "text": [
      "/Library/Frameworks/Python.framework/Versions/3.8/lib/python3.8/site-packages/IPython/core/interactiveshell.py:3146: DtypeWarning: Columns (28) have mixed types.Specify dtype option on import or set low_memory=False.\n",
      "  has_raised = await self.run_ast_nodes(code_ast.body, cell_name,\n"
     ]
    }
   ],
   "source": [
    "OUTPUT_DATA_DIR = \"../output_data/\"\n",
    "\n",
    "val_df = pd.read_csv(OUTPUT_DATA_DIR+\"interactions_validation.csv\")\n",
    "test_df = pd.read_csv(OUTPUT_DATA_DIR+\"interactions_testing.csv\")"
   ]
  },
  {
   "cell_type": "markdown",
   "metadata": {},
   "source": [
    "### Loading Mappings\n",
    "\n",
    "chainRec expects the user IDs and item IDs to be an increasing sequence starting from 0. So we load mapping files to convert user IDs and book IDs to a number and then create the file."
   ]
  },
  {
   "cell_type": "code",
   "execution_count": 4,
   "metadata": {},
   "outputs": [],
   "source": [
    "def load_mapping(mapping_file):\n",
    "    \"\"\"Loads the mapping from `mapping_file`.\n",
    "    \n",
    "    Parameters\n",
    "    ----------\n",
    "    mapping_file: str\n",
    "        The name of the mapping file to import.\n",
    "    \n",
    "    Returns\n",
    "    -------\n",
    "    pd.DataFrame\n",
    "        The DataFrame created from the mapping.\n",
    "    \n",
    "    \"\"\"\n",
    "    return pd.read_csv(os.path.join(\"../mappings\", \"{}.csv\".format(mapping_file)))"
   ]
  },
  {
   "cell_type": "code",
   "execution_count": 5,
   "metadata": {},
   "outputs": [],
   "source": [
    "user_map = load_mapping(\"user_map\")\n",
    "book_map = load_mapping(\"book_map\")"
   ]
  },
  {
   "cell_type": "code",
   "execution_count": 7,
   "metadata": {},
   "outputs": [],
   "source": [
    "val_df['book_id'] = val_df['book_id'].apply(lambda x: str(x))\n",
    "test_df['book_id'] = test_df['book_id'].apply(lambda x: str(x))\n",
    "book_map['book_id'] = book_map['book_id'].apply(lambda x: str(x))"
   ]
  },
  {
   "cell_type": "markdown",
   "metadata": {},
   "source": [
    "### Creating chainRec File"
   ]
  },
  {
   "cell_type": "code",
   "execution_count": 8,
   "metadata": {},
   "outputs": [],
   "source": [
    "val_df = pd.merge(val_df, user_map, how=\"left\", on=[\"user_id\"])\n",
    "val_df = pd.merge(val_df, book_map, how=\"left\", on=[\"book_id\"])\n",
    "\n",
    "test_df = pd.merge(test_df, user_map, how=\"left\", on=[\"user_id\"])\n",
    "test_df = pd.merge(test_df, book_map, how=\"left\", on=[\"book_id\"])"
   ]
  },
  {
   "cell_type": "code",
   "execution_count": 12,
   "metadata": {},
   "outputs": [],
   "source": [
    "val_df['max_stage_vali'] = val_df['read'] + val_df['rated'] + val_df['recommended']\n",
    "test_df['max_stage_test'] = test_df['read'] + test_df['rated'] + test_df['recommended']"
   ]
  },
  {
   "cell_type": "code",
   "execution_count": 13,
   "metadata": {},
   "outputs": [],
   "source": [
    "val_df = val_df[['user_number', 'book_number', 'max_stage_vali']]\n",
    "val_df.columns = ['user_id', 'item_id_vali', 'max_stage_vali']\n",
    "\n",
    "test_df = test_df[['user_number', 'book_number', 'max_stage_test']]\n",
    "test_df.columns = ['user_id', 'item_id_test', 'max_stage_test']"
   ]
  },
  {
   "cell_type": "code",
   "execution_count": 16,
   "metadata": {},
   "outputs": [],
   "source": [
    "val_test_df = pd.merge(val_df, test_df, how='inner', on=['user_id'])\n",
    "val_test_df = val_test_df[['user_id', 'item_id_vali', 'max_stage_vali', 'item_id_test', 'max_stage_test']]"
   ]
  },
  {
   "cell_type": "markdown",
   "metadata": {},
   "source": [
    "### Saving File"
   ]
  },
  {
   "cell_type": "code",
   "execution_count": 18,
   "metadata": {},
   "outputs": [],
   "source": [
    "val_test_df.to_csv(OUTPUT_DATA_DIR+\"goodreads.test.csv\", index=False)"
   ]
  }
 ],
 "metadata": {
  "kernelspec": {
   "display_name": "csc2515-env-3.8",
   "language": "python",
   "name": "csc2515-env-3.8"
  },
  "language_info": {
   "codemirror_mode": {
    "name": "ipython",
    "version": 3
   },
   "file_extension": ".py",
   "mimetype": "text/x-python",
   "name": "python",
   "nbconvert_exporter": "python",
   "pygments_lexer": "ipython3",
   "version": "3.8.0"
  }
 },
 "nbformat": 4,
 "nbformat_minor": 4
}
