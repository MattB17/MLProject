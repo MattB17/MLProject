{
 "cells": [
  {
   "cell_type": "code",
   "execution_count": 1,
   "metadata": {},
   "outputs": [],
   "source": [
    "import json\n",
    "import os\n",
    "import random\n",
    "import numpy as np\n",
    "import pandas as pd\n",
    "from gensim.models import Word2Vec\n",
    "import scipy.sparse as sp\n",
    "\n",
    "random.seed(42)\n",
    "np.random.seed(42)"
   ]
  },
  {
   "cell_type": "code",
   "execution_count": 6,
   "metadata": {},
   "outputs": [
    {
     "name": "stderr",
     "output_type": "stream",
     "text": [
      "/Library/Frameworks/Python.framework/Versions/3.8/lib/python3.8/site-packages/IPython/core/interactiveshell.py:3146: DtypeWarning: Columns (28) have mixed types.Specify dtype option on import or set low_memory=False.\n",
      "  has_raised = await self.run_ast_nodes(code_ast.body, cell_name,\n"
     ]
    }
   ],
   "source": [
    "OUTPUT_DATA_DIR = \"./output_data/\"\n",
    "\n",
    "val_df = pd.read_csv(OUTPUT_DATA_DIR+\"interactions_validation.csv\")\n",
    "test_df = pd.read_csv(OUTPUT_DATA_DIR+\"interactions_testing.csv\")"
   ]
  },
  {
   "cell_type": "code",
   "execution_count": 4,
   "metadata": {},
   "outputs": [],
   "source": [
    "def load_mapping(mapping_file):\n",
    "    \"\"\"Loads the mapping from `mapping_file`.\n",
    "    \n",
    "    Parameters\n",
    "    ----------\n",
    "    mapping_file: str\n",
    "        The name of the mapping file to import.\n",
    "    \n",
    "    Returns\n",
    "    -------\n",
    "    pd.DataFrame\n",
    "        The DataFrame created from the mapping.\n",
    "    \n",
    "    \"\"\"\n",
    "    return pd.read_csv(os.path.join(\"mappings\", \"{}.csv\".format(mapping_file)))"
   ]
  },
  {
   "cell_type": "code",
   "execution_count": 5,
   "metadata": {},
   "outputs": [],
   "source": [
    "user_map = load_mapping(\"user_map\")\n",
    "book_map = load_mapping(\"book_map\")"
   ]
  },
  {
   "cell_type": "code",
   "execution_count": 7,
   "metadata": {},
   "outputs": [],
   "source": [
    "val_df['book_id'] = val_df['book_id'].apply(lambda x: str(x))\n",
    "test_df['book_id'] = test_df['book_id'].apply(lambda x: str(x))\n",
    "book_map['book_id'] = book_map['book_id'].apply(lambda x: str(x))"
   ]
  },
  {
   "cell_type": "code",
   "execution_count": 8,
   "metadata": {},
   "outputs": [],
   "source": [
    "val_df = pd.merge(val_df, user_map, how=\"left\", on=[\"user_id\"])\n",
    "val_df = pd.merge(val_df, book_map, how=\"left\", on=[\"book_id\"])\n",
    "\n",
    "test_df = pd.merge(test_df, user_map, how=\"left\", on=[\"user_id\"])\n",
    "test_df = pd.merge(test_df, book_map, how=\"left\", on=[\"book_id\"])"
   ]
  },
  {
   "cell_type": "code",
   "execution_count": 10,
   "metadata": {},
   "outputs": [],
   "source": [
    "pd.set_option('display.max_columns', None)"
   ]
  },
  {
   "cell_type": "code",
   "execution_count": 12,
   "metadata": {},
   "outputs": [],
   "source": [
    "val_df['max_stage_vali'] = val_df['read'] + val_df['rated'] + val_df['recommended']\n",
    "test_df['max_stage_test'] = test_df['read'] + test_df['rated'] + test_df['recommended']"
   ]
  },
  {
   "cell_type": "code",
   "execution_count": 13,
   "metadata": {},
   "outputs": [],
   "source": [
    "val_df = val_df[['user_number', 'book_number', 'max_stage_vali']]\n",
    "val_df.columns = ['user_id', 'item_id_vali', 'max_stage_vali']\n",
    "\n",
    "test_df = test_df[['user_number', 'book_number', 'max_stage_test']]\n",
    "test_df.columns = ['user_id', 'item_id_test', 'max_stage_test']"
   ]
  },
  {
   "cell_type": "code",
   "execution_count": 16,
   "metadata": {},
   "outputs": [],
   "source": [
    "val_test_df = pd.merge(val_df, test_df, how='inner', on=['user_id'])\n",
    "val_test_df = val_test_df[['user_id', 'item_id_vali', 'max_stage_vali', 'item_id_test', 'max_stage_test']]"
   ]
  },
  {
   "cell_type": "code",
   "execution_count": 18,
   "metadata": {},
   "outputs": [],
   "source": [
    "val_test_df.to_csv(OUTPUT_DATA_DIR+\"goodreads.test.csv\", index=False)"
   ]
  },
  {
   "cell_type": "code",
   "execution_count": 19,
   "metadata": {},
   "outputs": [
    {
     "data": {
      "text/html": [
       "<div>\n",
       "<style scoped>\n",
       "    .dataframe tbody tr th:only-of-type {\n",
       "        vertical-align: middle;\n",
       "    }\n",
       "\n",
       "    .dataframe tbody tr th {\n",
       "        vertical-align: top;\n",
       "    }\n",
       "\n",
       "    .dataframe thead th {\n",
       "        text-align: right;\n",
       "    }\n",
       "</style>\n",
       "<table border=\"1\" class=\"dataframe\">\n",
       "  <thead>\n",
       "    <tr style=\"text-align: right;\">\n",
       "      <th></th>\n",
       "      <th>user_id</th>\n",
       "      <th>item_id_vali</th>\n",
       "      <th>max_stage_vali</th>\n",
       "      <th>item_id_test</th>\n",
       "      <th>max_stage_test</th>\n",
       "    </tr>\n",
       "  </thead>\n",
       "  <tbody>\n",
       "    <tr>\n",
       "      <th>0</th>\n",
       "      <td>96915</td>\n",
       "      <td>7</td>\n",
       "      <td>3</td>\n",
       "      <td>60</td>\n",
       "      <td>3</td>\n",
       "    </tr>\n",
       "    <tr>\n",
       "      <th>1</th>\n",
       "      <td>30739</td>\n",
       "      <td>12</td>\n",
       "      <td>3</td>\n",
       "      <td>873</td>\n",
       "      <td>3</td>\n",
       "    </tr>\n",
       "    <tr>\n",
       "      <th>2</th>\n",
       "      <td>20160</td>\n",
       "      <td>26</td>\n",
       "      <td>0</td>\n",
       "      <td>2</td>\n",
       "      <td>3</td>\n",
       "    </tr>\n",
       "    <tr>\n",
       "      <th>3</th>\n",
       "      <td>15499</td>\n",
       "      <td>30</td>\n",
       "      <td>3</td>\n",
       "      <td>1212</td>\n",
       "      <td>0</td>\n",
       "    </tr>\n",
       "    <tr>\n",
       "      <th>4</th>\n",
       "      <td>79298</td>\n",
       "      <td>42</td>\n",
       "      <td>3</td>\n",
       "      <td>1163</td>\n",
       "      <td>0</td>\n",
       "    </tr>\n",
       "    <tr>\n",
       "      <th>...</th>\n",
       "      <td>...</td>\n",
       "      <td>...</td>\n",
       "      <td>...</td>\n",
       "      <td>...</td>\n",
       "      <td>...</td>\n",
       "    </tr>\n",
       "    <tr>\n",
       "      <th>34625</th>\n",
       "      <td>64651</td>\n",
       "      <td>1158</td>\n",
       "      <td>3</td>\n",
       "      <td>539</td>\n",
       "      <td>3</td>\n",
       "    </tr>\n",
       "    <tr>\n",
       "      <th>34626</th>\n",
       "      <td>81665</td>\n",
       "      <td>61</td>\n",
       "      <td>3</td>\n",
       "      <td>1691</td>\n",
       "      <td>3</td>\n",
       "    </tr>\n",
       "    <tr>\n",
       "      <th>34627</th>\n",
       "      <td>96990</td>\n",
       "      <td>73</td>\n",
       "      <td>3</td>\n",
       "      <td>106</td>\n",
       "      <td>3</td>\n",
       "    </tr>\n",
       "    <tr>\n",
       "      <th>34628</th>\n",
       "      <td>65900</td>\n",
       "      <td>10</td>\n",
       "      <td>3</td>\n",
       "      <td>305</td>\n",
       "      <td>2</td>\n",
       "    </tr>\n",
       "    <tr>\n",
       "      <th>34629</th>\n",
       "      <td>52647</td>\n",
       "      <td>1554</td>\n",
       "      <td>3</td>\n",
       "      <td>363</td>\n",
       "      <td>2</td>\n",
       "    </tr>\n",
       "  </tbody>\n",
       "</table>\n",
       "<p>34630 rows × 5 columns</p>\n",
       "</div>"
      ],
      "text/plain": [
       "       user_id  item_id_vali  max_stage_vali  item_id_test  max_stage_test\n",
       "0        96915             7               3            60               3\n",
       "1        30739            12               3           873               3\n",
       "2        20160            26               0             2               3\n",
       "3        15499            30               3          1212               0\n",
       "4        79298            42               3          1163               0\n",
       "...        ...           ...             ...           ...             ...\n",
       "34625    64651          1158               3           539               3\n",
       "34626    81665            61               3          1691               3\n",
       "34627    96990            73               3           106               3\n",
       "34628    65900            10               3           305               2\n",
       "34629    52647          1554               3           363               2\n",
       "\n",
       "[34630 rows x 5 columns]"
      ]
     },
     "execution_count": 19,
     "metadata": {},
     "output_type": "execute_result"
    }
   ],
   "source": [
    "val_test_df"
   ]
  },
  {
   "cell_type": "code",
   "execution_count": null,
   "metadata": {},
   "outputs": [],
   "source": []
  }
 ],
 "metadata": {
  "kernelspec": {
   "display_name": "csc2515-env-3.8",
   "language": "python",
   "name": "csc2515-env-3.8"
  },
  "language_info": {
   "codemirror_mode": {
    "name": "ipython",
    "version": 3
   },
   "file_extension": ".py",
   "mimetype": "text/x-python",
   "name": "python",
   "nbconvert_exporter": "python",
   "pygments_lexer": "ipython3",
   "version": "3.8.0"
  }
 },
 "nbformat": 4,
 "nbformat_minor": 4
}
