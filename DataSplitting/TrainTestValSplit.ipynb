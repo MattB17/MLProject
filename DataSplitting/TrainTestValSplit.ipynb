{
 "cells": [
  {
   "cell_type": "markdown",
   "metadata": {},
   "source": [
    "# Train-Test-Validation Split\n",
    "\n",
    "In this notebook, we split data into train, test, and validation sets. The split is done based on the split performed by chainRec"
   ]
  },
  {
   "cell_type": "code",
   "execution_count": 1,
   "metadata": {},
   "outputs": [],
   "source": [
    "import json\n",
    "import os\n",
    "import random\n",
    "import numpy as np\n",
    "import pandas as pd\n",
    "from sklearn.utils import shuffle\n",
    "\n",
    "random.seed(42)\n",
    "np.random.seed(42)"
   ]
  },
  {
   "cell_type": "markdown",
   "metadata": {},
   "source": [
    "### Loading Data"
   ]
  },
  {
   "cell_type": "code",
   "execution_count": 2,
   "metadata": {},
   "outputs": [],
   "source": [
    "OUTPUT_DATA_DIR = \"../output_data/\"\n",
    "\n",
    "if not os.path.exists(OUTPUT_DATA_DIR):\n",
    "    os.makedirs(OUTPUT_DATA_DIR)"
   ]
  },
  {
   "cell_type": "code",
   "execution_count": 3,
   "metadata": {},
   "outputs": [
    {
     "name": "stderr",
     "output_type": "stream",
     "text": [
      "/Library/Frameworks/Python.framework/Versions/3.8/lib/python3.8/site-packages/IPython/core/interactiveshell.py:3146: DtypeWarning: Columns (28) have mixed types.Specify dtype option on import or set low_memory=False.\n",
      "  has_raised = await self.run_ast_nodes(code_ast.body, cell_name,\n"
     ]
    }
   ],
   "source": [
    "train_df = pd.read_csv(OUTPUT_DATA_DIR+\"interactions_training.csv\")\n",
    "val_df = pd.read_csv(OUTPUT_DATA_DIR+\"interactions_validation.csv\")\n",
    "test_df = pd.read_csv(OUTPUT_DATA_DIR+\"interactions_testing.csv\")\n",
    "\n",
    "full_interactions = pd.concat([train_df, val_df, test_df], axis=0)"
   ]
  },
  {
   "cell_type": "markdown",
   "metadata": {},
   "source": [
    "### Loading Mappings\n",
    "\n",
    "We map user IDs and book IDs to numbers to be consistent with the chainRec mapping"
   ]
  },
  {
   "cell_type": "code",
   "execution_count": 4,
   "metadata": {},
   "outputs": [],
   "source": [
    "def load_mapping(mapping_file):\n",
    "    \"\"\"Loads the mapping from `mapping_file`.\n",
    "    \n",
    "    Parameters\n",
    "    ----------\n",
    "    mapping_file: str\n",
    "        The name of the mapping file to import.\n",
    "    \n",
    "    Returns\n",
    "    -------\n",
    "    pd.DataFrame\n",
    "        The DataFrame created from the mapping.\n",
    "    \n",
    "    \"\"\"\n",
    "    return pd.read_csv(os.path.join(\"../mappings\", \"{}.csv\".format(mapping_file)))"
   ]
  },
  {
   "cell_type": "code",
   "execution_count": 5,
   "metadata": {},
   "outputs": [],
   "source": [
    "user_map = load_mapping(\"user_map\")\n",
    "book_map = load_mapping(\"book_map\")"
   ]
  },
  {
   "cell_type": "code",
   "execution_count": 6,
   "metadata": {},
   "outputs": [],
   "source": [
    "full_interactions['book_id'] = full_interactions['book_id'].apply(lambda x: str(x))\n",
    "book_map['book_id'] = book_map['book_id'].apply(lambda x: str(x))"
   ]
  },
  {
   "cell_type": "code",
   "execution_count": 7,
   "metadata": {},
   "outputs": [],
   "source": [
    "full_interactions = pd.merge(full_interactions, user_map, how=\"left\", on=[\"user_id\"])\n",
    "full_interactions = pd.merge(full_interactions, book_map, how=\"left\", on=[\"book_id\"])"
   ]
  },
  {
   "cell_type": "code",
   "execution_count": 9,
   "metadata": {},
   "outputs": [],
   "source": [
    "def create_user_book_id(data_df):\n",
    "    \"\"\"Creates a user_book_id in `data_df` for joining.\n",
    "    \n",
    "    Parameters\n",
    "    ----------\n",
    "    data_df: pd.DataFrame\n",
    "        The DataFrame for which the ID field is created.\n",
    "    \n",
    "    Returns\n",
    "    -------\n",
    "    pd.DataFrame\n",
    "        The DataFrame obtained from `data_df` after adding\n",
    "        a user_book_id field.\n",
    "    \n",
    "    \"\"\"\n",
    "    data_df['user_number'] = data_df['user_number'].apply(lambda x: str(x))\n",
    "    data_df['book_number'] = data_df['book_number'].apply(lambda x: str(x))\n",
    "    data_df['user_book_id'] = data_df['user_number'] + \"-\" + data_df['book_number']\n",
    "    return data_df.drop(columns=['user_number', 'book_number'])"
   ]
  },
  {
   "cell_type": "code",
   "execution_count": 10,
   "metadata": {},
   "outputs": [],
   "source": [
    "full_interactions = create_user_book_id(full_interactions)"
   ]
  },
  {
   "cell_type": "code",
   "execution_count": 11,
   "metadata": {},
   "outputs": [],
   "source": [
    "train_set = create_user_book_id(load_mapping(\"goodreads_train\"))\n",
    "val_set = create_user_book_id(load_mapping(\"goodreads_val\"))\n",
    "test_set = create_user_book_id(load_mapping(\"goodreads_test\"))"
   ]
  },
  {
   "cell_type": "markdown",
   "metadata": {},
   "source": [
    "### Splitting Data"
   ]
  },
  {
   "cell_type": "code",
   "execution_count": 12,
   "metadata": {},
   "outputs": [],
   "source": [
    "train_set['is_train'] = 1\n",
    "val_set['is_val'] = 1\n",
    "test_set['is_test'] = 1"
   ]
  },
  {
   "cell_type": "code",
   "execution_count": 14,
   "metadata": {},
   "outputs": [],
   "source": [
    "inter_train = pd.merge(full_interactions, train_set, how='left', on=['user_book_id'])\n",
    "inter_train_val = pd.merge(inter_train, val_set, how='left', on=['user_book_id'])\n",
    "inter_all = pd.merge(inter_train_val, test_set, how='left', on=['user_book_id'])"
   ]
  },
  {
   "cell_type": "code",
   "execution_count": 15,
   "metadata": {},
   "outputs": [],
   "source": [
    "train_df = inter_all[inter_all['is_train'] == 1]\n",
    "val_df = inter_all[inter_all['is_val'] == 1]\n",
    "test_df = inter_all[inter_all['is_test'] == 1]"
   ]
  },
  {
   "cell_type": "code",
   "execution_count": 16,
   "metadata": {},
   "outputs": [],
   "source": [
    "drop_cols = ['user_book_id', 'is_train','is_val', 'is_test']\n",
    "train_df = train_df.drop(columns=drop_cols)\n",
    "val_df = val_df.drop(columns=drop_cols)\n",
    "test_df = test_df.drop(columns=drop_cols)"
   ]
  },
  {
   "cell_type": "code",
   "execution_count": 40,
   "metadata": {},
   "outputs": [],
   "source": [
    "train_chain = train_df[['user_id', 'shelved', 'read', 'rated', 'recommended']]\n",
    "train_chain_users = train_chain.groupby(train_chain['user_id'])[['shelved', 'read', 'rated', 'recommended']].sum()"
   ]
  },
  {
   "cell_type": "code",
   "execution_count": 41,
   "metadata": {},
   "outputs": [],
   "source": [
    "train_chain_users['shelved_count'] = train_chain_users['shelved']\n",
    "train_chain_users['read_count'] = train_chain_users['read']\n",
    "train_chain_users['rated_count'] = train_chain_users['rated']\n",
    "train_chain_users['recommended_count'] = train_chain_users['recommended']\n",
    "train_chain_users = train_chain_users[['read_count', 'rated_count', 'recommended_count', 'shelved_count']]"
   ]
  },
  {
   "cell_type": "code",
   "execution_count": 42,
   "metadata": {},
   "outputs": [],
   "source": [
    "train_chain_users = train_chain_users.reset_index()"
   ]
  },
  {
   "cell_type": "code",
   "execution_count": 43,
   "metadata": {},
   "outputs": [
    {
     "data": {
      "text/html": [
       "<div>\n",
       "<style scoped>\n",
       "    .dataframe tbody tr th:only-of-type {\n",
       "        vertical-align: middle;\n",
       "    }\n",
       "\n",
       "    .dataframe tbody tr th {\n",
       "        vertical-align: top;\n",
       "    }\n",
       "\n",
       "    .dataframe thead th {\n",
       "        text-align: right;\n",
       "    }\n",
       "</style>\n",
       "<table border=\"1\" class=\"dataframe\">\n",
       "  <thead>\n",
       "    <tr style=\"text-align: right;\">\n",
       "      <th></th>\n",
       "      <th>read_count</th>\n",
       "      <th>rated_count</th>\n",
       "      <th>recommended_count</th>\n",
       "      <th>shelved_count</th>\n",
       "    </tr>\n",
       "  </thead>\n",
       "  <tbody>\n",
       "    <tr>\n",
       "      <th>count</th>\n",
       "      <td>108389.000000</td>\n",
       "      <td>108389.000000</td>\n",
       "      <td>108389.000000</td>\n",
       "      <td>108389.000000</td>\n",
       "    </tr>\n",
       "    <tr>\n",
       "      <th>mean</th>\n",
       "      <td>1.583509</td>\n",
       "      <td>1.545775</td>\n",
       "      <td>1.351383</td>\n",
       "      <td>2.377040</td>\n",
       "    </tr>\n",
       "    <tr>\n",
       "      <th>std</th>\n",
       "      <td>2.309948</td>\n",
       "      <td>2.251070</td>\n",
       "      <td>1.851384</td>\n",
       "      <td>5.053172</td>\n",
       "    </tr>\n",
       "    <tr>\n",
       "      <th>min</th>\n",
       "      <td>0.000000</td>\n",
       "      <td>0.000000</td>\n",
       "      <td>0.000000</td>\n",
       "      <td>1.000000</td>\n",
       "    </tr>\n",
       "    <tr>\n",
       "      <th>25%</th>\n",
       "      <td>1.000000</td>\n",
       "      <td>1.000000</td>\n",
       "      <td>1.000000</td>\n",
       "      <td>1.000000</td>\n",
       "    </tr>\n",
       "    <tr>\n",
       "      <th>50%</th>\n",
       "      <td>1.000000</td>\n",
       "      <td>1.000000</td>\n",
       "      <td>1.000000</td>\n",
       "      <td>1.000000</td>\n",
       "    </tr>\n",
       "    <tr>\n",
       "      <th>75%</th>\n",
       "      <td>2.000000</td>\n",
       "      <td>2.000000</td>\n",
       "      <td>1.000000</td>\n",
       "      <td>2.000000</td>\n",
       "    </tr>\n",
       "    <tr>\n",
       "      <th>max</th>\n",
       "      <td>133.000000</td>\n",
       "      <td>133.000000</td>\n",
       "      <td>133.000000</td>\n",
       "      <td>296.000000</td>\n",
       "    </tr>\n",
       "  </tbody>\n",
       "</table>\n",
       "</div>"
      ],
      "text/plain": [
       "          read_count    rated_count  recommended_count  shelved_count\n",
       "count  108389.000000  108389.000000      108389.000000  108389.000000\n",
       "mean        1.583509       1.545775           1.351383       2.377040\n",
       "std         2.309948       2.251070           1.851384       5.053172\n",
       "min         0.000000       0.000000           0.000000       1.000000\n",
       "25%         1.000000       1.000000           1.000000       1.000000\n",
       "50%         1.000000       1.000000           1.000000       1.000000\n",
       "75%         2.000000       2.000000           1.000000       2.000000\n",
       "max       133.000000     133.000000         133.000000     296.000000"
      ]
     },
     "execution_count": 43,
     "metadata": {},
     "output_type": "execute_result"
    }
   ],
   "source": [
    "train_chain_users.describe()"
   ]
  },
  {
   "cell_type": "code",
   "execution_count": 44,
   "metadata": {},
   "outputs": [],
   "source": [
    "def merge_user_stats(data_df, user_stats_df, is_train):\n",
    "    \"\"\"Add the user statistics to `data_df`.\n",
    "    \n",
    "    Stats are added to `data_df` counting how many other books\n",
    "    the user has shelved, read, rated, and recommended.\n",
    "    \n",
    "    Parameters\n",
    "    ----------\n",
    "    data_df: pd.DataFrame\n",
    "        The DataFrame being augmented with user stats.\n",
    "    user_stats_df: pd.DataFrame\n",
    "        The DataFrame containing per user stats. For each user\n",
    "        in the training data, `user_stats_df` contains counts\n",
    "        of the number of books shelved, read, rated, and\n",
    "        recommended based on the training data.\n",
    "    is_train: bool\n",
    "        Indicates if `data_df` is the training data. For training\n",
    "        data, the counts are decremented by 1 as the counts are\n",
    "        meant to represent the number of other books the user has\n",
    "        interacted with.\n",
    "    \n",
    "    Returns\n",
    "    -------\n",
    "    pd.DataFrame\n",
    "        The DataFrame obtained from `data_df` after augmenting it\n",
    "        with user stats.\n",
    "    \n",
    "    \"\"\"\n",
    "    comb_df = pd.merge(data_df, user_stats_df, how='left', on=['user_id'])\n",
    "    if is_train:\n",
    "        for level in ['shelved', 'read', 'rated', 'recommended']:\n",
    "            count_var = \"{}_count\".format(level)\n",
    "            comb_df[count_var] = comb_df[count_var] - comb_df[level]\n",
    "    return comb_df"
   ]
  },
  {
   "cell_type": "code",
   "execution_count": 45,
   "metadata": {},
   "outputs": [],
   "source": [
    "train_df_aug = merge_user_stats(train_df, train_chain_users, True)\n",
    "val_df_aug = merge_user_stats(val_df, train_chain_users, False)\n",
    "test_df_aug = merge_user_stats(test_df, train_chain_users, False)"
   ]
  },
  {
   "cell_type": "markdown",
   "metadata": {},
   "source": [
    "### Saving Data"
   ]
  },
  {
   "cell_type": "code",
   "execution_count": 53,
   "metadata": {},
   "outputs": [],
   "source": [
    "def save_interaction_data_to_csv(interaction_df, suffix):\n",
    "    \"\"\"Saves the data in `interaction_df` to csv.\n",
    "    \n",
    "    Parameters\n",
    "    ----------\n",
    "    interaction_df: pd.DataFrame\n",
    "        The DataFrame being saved to csv.\n",
    "    suffix: str\n",
    "        A suffix added to the saved file to identify the\n",
    "        particular interactions data.\n",
    "    \n",
    "    Returns\n",
    "    -------\n",
    "    None\n",
    "    \n",
    "    \"\"\"\n",
    "    file_path = \"{0}interactions_{1}.csv\".format(OUTPUT_DATA_DIR, suffix)\n",
    "    interaction_df.to_csv(file_path, index=False)"
   ]
  },
  {
   "cell_type": "code",
   "execution_count": 54,
   "metadata": {},
   "outputs": [],
   "source": [
    "save_interaction_data_to_csv(train_df_aug, \"training\")\n",
    "save_interaction_data_to_csv(test_df_aug, \"testing\")\n",
    "save_interaction_data_to_csv(val_df_aug, \"validation\")"
   ]
  }
 ],
 "metadata": {
  "kernelspec": {
   "display_name": "csc2515-env-3.8",
   "language": "python",
   "name": "csc2515-env-3.8"
  },
  "language_info": {
   "codemirror_mode": {
    "name": "ipython",
    "version": 3
   },
   "file_extension": ".py",
   "mimetype": "text/x-python",
   "name": "python",
   "nbconvert_exporter": "python",
   "pygments_lexer": "ipython3",
   "version": "3.8.0"
  }
 },
 "nbformat": 4,
 "nbformat_minor": 4
}
