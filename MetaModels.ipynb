{
 "cells": [
  {
   "cell_type": "code",
   "execution_count": 1,
   "metadata": {},
   "outputs": [],
   "source": [
    "import json\n",
    "import os\n",
    "import random\n",
    "import numpy as np\n",
    "import pandas as pd\n",
    "from gensim.models import Word2Vec\n",
    "import scipy.sparse as sp\n",
    "\n",
    "random.seed(42)\n",
    "np.random.seed(42)"
   ]
  },
  {
   "cell_type": "markdown",
   "metadata": {},
   "source": [
    "### Loading S-Values\n",
    "\n",
    "We load the S-Values from the ChainRec model."
   ]
  },
  {
   "cell_type": "code",
   "execution_count": 2,
   "metadata": {},
   "outputs": [],
   "source": [
    "MAPPING_DIR = './mappings/'\n",
    "\n",
    "s_values_df = pd.read_csv(MAPPING_DIR+\"goodreads_s_values.csv\")"
   ]
  },
  {
   "cell_type": "code",
   "execution_count": 3,
   "metadata": {},
   "outputs": [],
   "source": [
    "cols_to_keep = ['user_number', 'item_number', 's1', 's2', 's3', 's4']\n",
    "\n",
    "s_values_df = s_values_df[cols_to_keep]"
   ]
  },
  {
   "cell_type": "code",
   "execution_count": 4,
   "metadata": {},
   "outputs": [],
   "source": [
    "s_values_df['user_number'] = s_values_df['user_number'].apply(lambda x: str(x))\n",
    "s_values_df['item_number'] = s_values_df['item_number'].apply(lambda x: str(x))\n",
    "s_values_df['user_item_id'] = s_values_df['user_number'] + \"-\" + s_values_df['item_number']"
   ]
  },
  {
   "cell_type": "code",
   "execution_count": 5,
   "metadata": {},
   "outputs": [
    {
     "name": "stderr",
     "output_type": "stream",
     "text": [
      "/Library/Frameworks/Python.framework/Versions/3.8/lib/python3.8/site-packages/IPython/core/interactiveshell.py:3146: DtypeWarning: Columns (29) have mixed types.Specify dtype option on import or set low_memory=False.\n",
      "  has_raised = await self.run_ast_nodes(code_ast.body, cell_name,\n"
     ]
    }
   ],
   "source": [
    "OUTPUT_DATA_DIR = \"./output_data/\"\n",
    "\n",
    "train_df_processed = pd.read_csv(OUTPUT_DATA_DIR+\"text_processed_training.csv\")\n",
    "val_df_processed = pd.read_csv(OUTPUT_DATA_DIR+\"text_processed_validation.csv\")\n",
    "test_df_processed = pd.read_csv(OUTPUT_DATA_DIR+\"text_processed_testing.csv\")"
   ]
  },
  {
   "cell_type": "code",
   "execution_count": 6,
   "metadata": {},
   "outputs": [
    {
     "name": "stdout",
     "output_type": "stream",
     "text": [
      "257645\n",
      "257645\n",
      "257645\n"
     ]
    }
   ],
   "source": [
    "print(len(train_df_processed))\n",
    "print(len(val_df_processed))\n",
    "print(len(test_df_processed))"
   ]
  },
  {
   "cell_type": "code",
   "execution_count": 14,
   "metadata": {},
   "outputs": [],
   "source": [
    "def load_mapping(mapping_file):\n",
    "    \"\"\"Loads the mapping from `mapping_file`.\n",
    "    \n",
    "    Parameters\n",
    "    ----------\n",
    "    mapping_file: str\n",
    "        The name of the mapping file to import.\n",
    "    \n",
    "    Returns\n",
    "    -------\n",
    "    pd.DataFrame\n",
    "        The DataFrame created from the mapping.\n",
    "    \n",
    "    \"\"\"\n",
    "    return pd.read_csv(os.path.join(\"mappings\", \"{}.csv\".format(mapping_file)))"
   ]
  },
  {
   "cell_type": "code",
   "execution_count": 15,
   "metadata": {},
   "outputs": [],
   "source": [
    "user_map = load_mapping(\"user_map\")\n",
    "book_map = load_mapping(\"book_map\")"
   ]
  },
  {
   "cell_type": "code",
   "execution_count": 16,
   "metadata": {},
   "outputs": [],
   "source": [
    "book_map['book_id'] = book_map['book_id'].apply(lambda x: str(x))"
   ]
  },
  {
   "cell_type": "code",
   "execution_count": 17,
   "metadata": {},
   "outputs": [],
   "source": [
    "def create_user_item_id(data_df, u_map, i_map):\n",
    "    data_df['book_id'] = data_df['book_id'].apply(lambda x: str(x))\n",
    "    data_df = pd.merge(data_df, u_map, how=\"left\", on=[\"user_id\"])\n",
    "    data_df = pd.merge(data_df, i_map, how=\"left\", on=[\"book_id\"])\n",
    "    data_df['user_number'] = data_df['user_number'].apply(lambda x: str(x))\n",
    "    data_df['book_number'] = data_df['book_number'].apply(lambda x: str(x))\n",
    "    data_df['user_item_id'] = data_df['user_number'] + \"-\" + data_df['book_number']\n",
    "    return data_df.drop(columns=['user_number', 'book_number'])"
   ]
  },
  {
   "cell_type": "code",
   "execution_count": 18,
   "metadata": {},
   "outputs": [],
   "source": [
    "train_df = create_user_item_id(train_df_processed, user_map, book_map)\n",
    "val_df = create_user_item_id(val_df_processed, user_map, book_map)\n",
    "test_df = create_user_item_id(test_df_processed, user_map, book_map)"
   ]
  },
  {
   "cell_type": "code",
   "execution_count": 21,
   "metadata": {},
   "outputs": [],
   "source": [
    "s_values_df.drop(columns=['user_number', 'item_number'], inplace=True)"
   ]
  },
  {
   "cell_type": "code",
   "execution_count": 26,
   "metadata": {},
   "outputs": [],
   "source": [
    "train_df_s = pd.merge(train_df, s_values_df, how='left', on=['user_item_id'])\n",
    "val_df_s = pd.merge(val_df, s_values_df, how='left', on=['user_item_id'])\n",
    "test_df_s = pd.merge(test_df, s_values_df, how='left', on=['user_item_id'])"
   ]
  },
  {
   "cell_type": "code",
   "execution_count": 28,
   "metadata": {},
   "outputs": [],
   "source": [
    "train_df_s.drop(columns=['user_item_id'], inplace=True)\n",
    "val_df_s.drop(columns=['user_item_id'], inplace=True)\n",
    "test_df_s.drop(columns=['user_item_id'], inplace=True)"
   ]
  },
  {
   "cell_type": "code",
   "execution_count": 29,
   "metadata": {},
   "outputs": [],
   "source": [
    "train_df_s.to_csv(OUTPUT_DATA_DIR+\"training_s_vals.csv\", index=False)\n",
    "val_df_s.to_csv(OUTPUT_DATA_DIR+\"validation_s_vals.csv\", index=False)\n",
    "test_df_s.to_csv(OUTPUT_DATA_DIR+\"testing_s_vals.csv\", index=False)"
   ]
  },
  {
   "cell_type": "code",
   "execution_count": 68,
   "metadata": {},
   "outputs": [],
   "source": [
    "columns_to_keep = ['text_reviews_count', 'is_ebook', 'average_rating', 'num_pages',\n",
    "                   'ratings_count', 'is_translated', 'is_in_series',\n",
    "                   'series_length', 'is_paperback', 'is_hardcover', 'is_audio', 'is_other_format',\n",
    "                   'from_penguin', 'from_harpercollins', 'from_university_press', 'from_vintage',\n",
    "                   'from_createspace', 'other_publisher', 'author_a', 'author_b', 'author_c',\n",
    "                   'author_d', 'author_e', 'author_f', 'author_other', 's1', 's2', 's3', 's4']\n",
    "X_train_reg = train_df_s[columns_to_keep]\n",
    "X_val_reg = val_df_s[columns_to_keep]\n",
    "X_test_reg = test_df_s[columns_to_keep]"
   ]
  },
  {
   "cell_type": "code",
   "execution_count": 69,
   "metadata": {},
   "outputs": [],
   "source": [
    "def log_transform_columns(data_df, cols):\n",
    "    \"\"\"Applies a log transform to `cols` in `data_df`.\n",
    "\n",
    "    Parameters\n",
    "    ----------\n",
    "    data_df: pd.DataFrame\n",
    "        The DataFrame in which the columns will be transformed.\n",
    "    cols: collection\n",
    "        The columns in `data_df` to be log scaled.\n",
    "\n",
    "    Returns\n",
    "    -------\n",
    "    pd.DataFrame\n",
    "        The DataFrame obtained from `data_df` after log scaling\n",
    "        the columns `cols`.\n",
    "\n",
    "    \"\"\"\n",
    "    for col in cols:\n",
    "        data_df[col] = data_df[col].apply(lambda x: np.log(x) if x > 0 else 0)\n",
    "    return data_df"
   ]
  },
  {
   "cell_type": "code",
   "execution_count": 70,
   "metadata": {},
   "outputs": [
    {
     "name": "stderr",
     "output_type": "stream",
     "text": [
      "<ipython-input-69-49ee2668773d>:19: SettingWithCopyWarning: \n",
      "A value is trying to be set on a copy of a slice from a DataFrame.\n",
      "Try using .loc[row_indexer,col_indexer] = value instead\n",
      "\n",
      "See the caveats in the documentation: https://pandas.pydata.org/pandas-docs/stable/user_guide/indexing.html#returning-a-view-versus-a-copy\n",
      "  data_df[col] = data_df[col].apply(lambda x: np.log(x) if x > 0 else 0)\n"
     ]
    }
   ],
   "source": [
    "log_transform_cols = ['text_reviews_count', 'ratings_count']\n",
    "X_train_reg = log_transform_columns(X_train_reg, log_transform_cols)\n",
    "X_val_reg = log_transform_columns(X_val_reg, log_transform_cols)\n",
    "X_test_reg = log_transform_columns(X_test_reg, log_transform_cols)"
   ]
  },
  {
   "cell_type": "code",
   "execution_count": 71,
   "metadata": {},
   "outputs": [],
   "source": [
    "from sklearn.preprocessing import MinMaxScaler\n",
    "\n",
    "min_max_scaler = MinMaxScaler()\n",
    "\n",
    "X_train_reg = min_max_scaler.fit_transform(X_train_reg)\n",
    "X_val_reg = min_max_scaler.transform(X_val_reg)\n",
    "X_test_reg = min_max_scaler.transform(X_test_reg)"
   ]
  },
  {
   "cell_type": "code",
   "execution_count": 34,
   "metadata": {},
   "outputs": [],
   "source": [
    "book_df = train_df_s[['book_id', 'cleaned_text']]\n",
    "book_df = book_df.drop_duplicates(subset=['book_id'])\n",
    "\n",
    "book_df['cleaned_text'] = book_df['cleaned_text'].apply(lambda x: \"\" if pd.isnull(x) else x)\n",
    "\n",
    "w2v = Word2Vec(list(book_df['cleaned_text']), size=200, window=10, min_count=1)"
   ]
  },
  {
   "cell_type": "code",
   "execution_count": 37,
   "metadata": {},
   "outputs": [],
   "source": [
    "def create_book_vector(book_text, vec_length):\n",
    "    \"\"\"Creates a vector for the book given by `book_text`.\n",
    "\n",
    "    The word vectors for each word in `book_text` are\n",
    "    averaged to build a vector for the book.\n",
    "\n",
    "    Parameters\n",
    "    ----------\n",
    "    book_text: str\n",
    "        The book text for which the vector is generated.\n",
    "\n",
    "    Returns\n",
    "    -------\n",
    "    vector\n",
    "        A vector for the book.\n",
    "\n",
    "    \"\"\"\n",
    "    text_vecs = [word for word in str(book_text) if word in w2v.wv.vocab]\n",
    "    if len(text_vecs) > 0:\n",
    "        return np.mean(w2v[text_vecs], axis=0)\n",
    "    return np.zeros(vec_length)"
   ]
  },
  {
   "cell_type": "code",
   "execution_count": 38,
   "metadata": {},
   "outputs": [
    {
     "name": "stderr",
     "output_type": "stream",
     "text": [
      "<ipython-input-37-4533799a3578>:20: DeprecationWarning: Call to deprecated `__getitem__` (Method will be removed in 4.0.0, use self.wv.__getitem__() instead).\n",
      "  return np.mean(w2v[text_vecs], axis=0)\n"
     ]
    }
   ],
   "source": [
    "train_df_s['book_vector'] = train_df_s['cleaned_text'].apply(lambda x: create_book_vector(x, 200))\n",
    "val_df_s['book_vector'] = val_df_s['cleaned_text'].apply(lambda x: create_book_vector(x, 200))\n",
    "test_df_s['book_vector'] = test_df_s['cleaned_text'].apply(lambda x: create_book_vector(x, 200))"
   ]
  },
  {
   "cell_type": "code",
   "execution_count": 39,
   "metadata": {},
   "outputs": [],
   "source": [
    "def create_book_vec_df(book_vecs, indices):\n",
    "    \"\"\"Creates a dataframe from `book_vecs`.\n",
    "\n",
    "    Each numpy array in `book_vecs` is converted to a\n",
    "    row in the resulting dataframe.\n",
    "\n",
    "    Parameters\n",
    "    ----------\n",
    "    book_vecs: list\n",
    "        A list of numpy arrays where each array corresponds\n",
    "        to the book vector for a book.\n",
    "    indicies: np.array\n",
    "        A numpy array of indices for the DataFrame\n",
    "\n",
    "    Returns\n",
    "    -------\n",
    "    pd.DataFrame\n",
    "        The DataFrame obtained from converting `review_vecs`\n",
    "        to a dataframe.\n",
    "\n",
    "    \"\"\"\n",
    "    book_vec_df = pd.DataFrame(np.vstack(book_vecs))\n",
    "    book_vec_df.columns = [\"word\" + str(col) for col in book_vec_df.columns]\n",
    "    book_vec_df.index = indices\n",
    "    return book_vec_df"
   ]
  },
  {
   "cell_type": "code",
   "execution_count": 40,
   "metadata": {},
   "outputs": [],
   "source": [
    "train_wv = create_book_vec_df(train_df_s['book_vector'], train_df_s.index)\n",
    "val_wv = create_book_vec_df(val_df_s['book_vector'], val_df_s.index)\n",
    "test_wv = create_book_vec_df(test_df_s['book_vector'], test_df_s.index)"
   ]
  },
  {
   "cell_type": "code",
   "execution_count": 74,
   "metadata": {},
   "outputs": [],
   "source": [
    "X_train_reg_df = pd.DataFrame(np.vstack(X_train_reg))\n",
    "X_train_reg_df.index = train_df_s.index\n",
    "\n",
    "X_val_reg_df = pd.DataFrame(np.vstack(X_val_reg))\n",
    "X_val_reg_df.index = val_df_s.index\n",
    "\n",
    "X_test_reg_df = pd.DataFrame(np.vstack(X_test_reg))\n",
    "X_test_reg_df.index = test_df_s.index\n",
    "\n",
    "X_train_wv_reg = sp.csr_matrix(pd.concat([train_wv, X_train_reg_df], axis=1))\n",
    "X_val_wv_reg = sp.csr_matrix(pd.concat([val_wv, X_val_reg_df], axis=1))\n",
    "X_test_wv_reg = sp.csr_matrix(pd.concat([test_wv, X_test_reg_df], axis=1))"
   ]
  },
  {
   "cell_type": "code",
   "execution_count": null,
   "metadata": {},
   "outputs": [
    {
     "name": "stdout",
     "output_type": "stream",
     "text": [
      "C = 0.1\n",
      "------\n",
      "Training AUC: 0.6771265588685002\n",
      "Validation AUC: 0.6771265588685002\n",
      "\n",
      "C = 0.3\n",
      "------\n"
     ]
    }
   ],
   "source": [
    "from sklearn.linear_model import LogisticRegression\n",
    "from sklearn.metrics import roc_auc_score\n",
    "\n",
    "C_values = [0.1, 0.3, 0.5, 0.7, 0.9, 1.0]\n",
    "\n",
    "for c in C_values:\n",
    "    print(\"C = {}\".format(c))\n",
    "    print(\"------\")\n",
    "    reg_model = LogisticRegression(penalty='l1', C=c, max_iter=1000, solver='saga')\n",
    "    reg_model.fit(X_train_wv_reg, train_df_s['recommended'])\n",
    "    \n",
    "    train_AUC = roc_auc_score(train_df_s['recommended'], reg_model.predict(X_train_wv_reg))\n",
    "    val_AUC = roc_auc_score(val_df_s['recommended'], reg_model.predict(X_val_wv_reg))\n",
    "    \n",
    "    print(\"Training AUC: {}\".format(train_AUC))\n",
    "    print(\"Validation AUC: {}\".format(val_AUC))\n",
    "    print()"
   ]
  },
  {
   "cell_type": "code",
   "execution_count": null,
   "metadata": {},
   "outputs": [],
   "source": []
  }
 ],
 "metadata": {
  "kernelspec": {
   "display_name": "csc2515-env-3.8",
   "language": "python",
   "name": "csc2515-env-3.8"
  },
  "language_info": {
   "codemirror_mode": {
    "name": "ipython",
    "version": 3
   },
   "file_extension": ".py",
   "mimetype": "text/x-python",
   "name": "python",
   "nbconvert_exporter": "python",
   "pygments_lexer": "ipython3",
   "version": "3.8.0"
  }
 },
 "nbformat": 4,
 "nbformat_minor": 4
}
