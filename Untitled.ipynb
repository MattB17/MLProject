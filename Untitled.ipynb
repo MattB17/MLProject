{
 "cells": [
  {
   "cell_type": "code",
   "execution_count": 1,
   "metadata": {},
   "outputs": [],
   "source": [
    "import json\n",
    "import os\n",
    "import numpy as np\n",
    "import pandas as pd\n",
    "import seaborn as sns\n",
    "import matplotlib.pyplot as plt\n",
    "\n",
    "sns.set_style('whitegrid')\n",
    "plt.style.use('seaborn-darkgrid')\n",
    "%matplotlib inline"
   ]
  },
  {
   "cell_type": "code",
   "execution_count": 11,
   "metadata": {},
   "outputs": [],
   "source": [
    "def load_and_sample_dataset(data_path, sample_percentage):\n",
    "    \"\"\"Used to load `sample_percentage`% of the data at `data_path`.\n",
    "    \n",
    "    Parameters\n",
    "    ----------\n",
    "    data_path: str\n",
    "        A string representing the path to the data\n",
    "    sample_percentage: float\n",
    "        A number between 0 and 100 representing the fraction\n",
    "        of the data to sample.\n",
    "    \n",
    "    Returns\n",
    "    -------\n",
    "    pd.DataFrame\n",
    "        A pandas dataframe object loaded from `data_path` after\n",
    "        loading `sample_percentage`% of the data.\n",
    "    \n",
    "    \"\"\"\n",
    "    data = []\n",
    "    idx = 0\n",
    "    modulus = 100 // sample_percentage\n",
    "    with open(data_path, 'r') as data_file:\n",
    "        for row in data_file:\n",
    "            if idx % modulus == 0:\n",
    "                data.append(json.loads(row))\n",
    "            idx += 1\n",
    "    return pd.DataFrame(data)"
   ]
  },
  {
   "cell_type": "code",
   "execution_count": 12,
   "metadata": {},
   "outputs": [],
   "source": [
    "def construct_data_path(dataset_name):\n",
    "    \"\"\"Constructs the path to `dataset_name`.\n",
    "    \n",
    "    Parameters\n",
    "    ----------\n",
    "    dataset_name: str\n",
    "        The name of the dataset.\n",
    "    \n",
    "    Returns\n",
    "    -------\n",
    "    str\n",
    "        A path to the dataset.\n",
    "    \n",
    "    \"\"\"\n",
    "    return os.path.join('data', '{}.json'.format(dataset_name))"
   ]
  },
  {
   "cell_type": "code",
   "execution_count": 13,
   "metadata": {},
   "outputs": [],
   "source": [
    "interactions_df = load_and_sample_dataset(construct_data_path('goodreads_interactions_poetry'), 10)"
   ]
  },
  {
   "cell_type": "code",
   "execution_count": 15,
   "metadata": {},
   "outputs": [],
   "source": [
    "books_df = load_and_sample_dataset(construct_data_path('goodreads_books_poetry'), 100)"
   ]
  },
  {
   "cell_type": "code",
   "execution_count": 17,
   "metadata": {},
   "outputs": [],
   "source": [
    "reviews_df = load_and_sample_dataset(construct_data_path('goodreads_reviews_poetry'), 100)"
   ]
  },
  {
   "cell_type": "code",
   "execution_count": null,
   "metadata": {},
   "outputs": [],
   "source": []
  }
 ],
 "metadata": {
  "kernelspec": {
   "display_name": "csc2515-env-3.8",
   "language": "python",
   "name": "csc2515-env-3.8"
  },
  "language_info": {
   "codemirror_mode": {
    "name": "ipython",
    "version": 3
   },
   "file_extension": ".py",
   "mimetype": "text/x-python",
   "name": "python",
   "nbconvert_exporter": "python",
   "pygments_lexer": "ipython3",
   "version": "3.8.0"
  }
 },
 "nbformat": 4,
 "nbformat_minor": 4
}
