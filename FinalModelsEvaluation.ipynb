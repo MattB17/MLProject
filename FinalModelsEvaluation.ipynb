{
 "cells": [
  {
   "cell_type": "markdown",
   "metadata": {},
   "source": [
    "# Final Models\n",
    "\n",
    "In this notebook we train our final models on the combination of training and validation data and then evaluate them on the testing data."
   ]
  },
  {
   "cell_type": "code",
   "execution_count": 1,
   "metadata": {},
   "outputs": [],
   "source": [
    "import os\n",
    "import random\n",
    "import pandas as pd\n",
    "import numpy as np\n",
    "from gensim.models import Word2Vec\n",
    "from sklearn.linear_model import LogisticRegression\n",
    "from sklearn.pipeline import make_pipeline\n",
    "from sklearn.preprocessing import MinMaxScaler\n",
    "from sklearn.metrics import auc, roc_auc_score, classification_report\n",
    "from sklearn.ensemble import RandomForestClassifier\n",
    "from xgboost import XGBClassifier\n",
    "\n",
    "random.seed(42)\n",
    "np.random.seed(42)"
   ]
  },
  {
   "cell_type": "markdown",
   "metadata": {},
   "source": [
    "### Loading Data"
   ]
  },
  {
   "cell_type": "code",
   "execution_count": 3,
   "metadata": {},
   "outputs": [
    {
     "name": "stderr",
     "output_type": "stream",
     "text": [
      "/Library/Frameworks/Python.framework/Versions/3.8/lib/python3.8/site-packages/IPython/core/interactiveshell.py:3146: DtypeWarning: Columns (28) have mixed types.Specify dtype option on import or set low_memory=False.\n",
      "  has_raised = await self.run_ast_nodes(code_ast.body, cell_name,\n"
     ]
    }
   ],
   "source": [
    "OUTPUT_DATA_DIR = \"./output_data/\"\n",
    "\n",
    "train_df_processed = pd.read_csv(OUTPUT_DATA_DIR+\"text_processed_training.csv\")\n",
    "val_df_processed = pd.read_csv(OUTPUT_DATA_DIR+\"text_processed_validation.csv\")\n",
    "test_df = pd.read_csv(OUTPUT_DATA_DIR+\"text_processed_testing.csv\")\n",
    "\n",
    "train_df = pd.concat([train_df_processed, val_df_processed], axis=0)"
   ]
  },
  {
   "cell_type": "markdown",
   "metadata": {},
   "source": [
    "### Baseline Models\n",
    "\n",
    "We first fit two baseline models: Logistic Regression and Random Forest. These are fit only to the user and book level features, without using any text features or the features from chainRec"
   ]
  },
  {
   "cell_type": "code",
   "execution_count": 9,
   "metadata": {},
   "outputs": [],
   "source": [
    "columns_to_keep = ['text_reviews_count', 'is_ebook', 'average_rating', 'num_pages',\n",
    "                   'ratings_count', 'is_translated', 'is_in_series', 'series_length',\n",
    "                   'is_paperback', 'is_hardcover', 'is_audio', 'from_penguin',\n",
    "                   'from_harpercollins', 'from_university_press', 'from_vintage',\n",
    "                   'from_createspace', 'author_a', 'author_b', 'author_c', 'publication_year',\n",
    "                   'author_d', 'author_e', 'author_f', 'book_shelved_count', 'title_len',\n",
    "                   'shelved_count', 'read_count', 'rated_count', 'recommended_count']\n",
    "\n",
    "y_train = train_df['recommended']\n",
    "y_test = test_df['recommended']\n",
    "\n",
    "X_train = train_df[columns_to_keep]\n",
    "X_test = test_df[columns_to_keep]"
   ]
  },
  {
   "cell_type": "markdown",
   "metadata": {},
   "source": [
    "##### Logistic Regression"
   ]
  },
  {
   "cell_type": "code",
   "execution_count": 10,
   "metadata": {},
   "outputs": [],
   "source": [
    "min_max_scaler = MinMaxScaler()\n",
    "\n",
    "X_train_reg = min_max_scaler.fit_transform(X_train)\n",
    "X_test_reg = min_max_scaler.transform(X_test)"
   ]
  },
  {
   "cell_type": "code",
   "execution_count": 6,
   "metadata": {},
   "outputs": [],
   "source": [
    "def print_classification_stats(train_preds, train_actual, test_preds, test_actual):\n",
    "    \"\"\"Prints the classification statistics for train and test data.\n",
    "    \n",
    "    Parameters\n",
    "    ----------\n",
    "    train_preds: np.array\n",
    "        An array of predictions on the training set.\n",
    "    train_actual: np.array\n",
    "        An array of the target values for the training set.\n",
    "    test_preds: np.array\n",
    "        An array of predictions on the test set.\n",
    "    test_actual: np.array\n",
    "        An array of the target values for the test set.\n",
    "    \n",
    "    Returns\n",
    "    -------\n",
    "    None\n",
    "    \n",
    "    \"\"\"\n",
    "    print(\"Training\")\n",
    "    print(\"--------\")\n",
    "    print(classification_report(train_actual, train_preds))\n",
    "    print(\"AUC: {}\".format(roc_auc_score(train_actual, train_preds)))\n",
    "    print()\n",
    "    \n",
    "    print(\"Testing\")\n",
    "    print(\"--------\")\n",
    "    print(classification_report(test_actual, test_preds))\n",
    "    print(\"AUC: {}\".format(roc_auc_score(test_actual, test_preds)))\n",
    "    print()"
   ]
  },
  {
   "cell_type": "code",
   "execution_count": 11,
   "metadata": {},
   "outputs": [
    {
     "name": "stdout",
     "output_type": "stream",
     "text": [
      "Training\n",
      "--------\n",
      "              precision    recall  f1-score   support\n",
      "\n",
      "           0       0.70      0.60      0.64    128756\n",
      "           1       0.71      0.80      0.75    163519\n",
      "\n",
      "    accuracy                           0.71    292275\n",
      "   macro avg       0.71      0.70      0.70    292275\n",
      "weighted avg       0.71      0.71      0.70    292275\n",
      "\n",
      "AUC: 0.6957666147229499\n",
      "\n",
      "Testing\n",
      "--------\n",
      "              precision    recall  f1-score   support\n",
      "\n",
      "           0       0.68      0.47      0.56     17725\n",
      "           1       0.58      0.77      0.66     16905\n",
      "\n",
      "    accuracy                           0.62     34630\n",
      "   macro avg       0.63      0.62      0.61     34630\n",
      "weighted avg       0.63      0.62      0.61     34630\n",
      "\n",
      "AUC: 0.6216057041569311\n",
      "\n"
     ]
    }
   ],
   "source": [
    "reg_model = LogisticRegression(max_iter=10000)\n",
    "reg_model.fit(X_train_reg, y_train)\n",
    "\n",
    "reg_train_preds = reg_model.predict(X_train_reg)\n",
    "reg_test_preds = reg_model.predict(X_test_reg)\n",
    "\n",
    "print_classification_stats(reg_train_preds, y_train, reg_test_preds, y_test)"
   ]
  },
  {
   "cell_type": "code",
   "execution_count": 13,
   "metadata": {},
   "outputs": [
    {
     "data": {
      "text/html": [
       "<div>\n",
       "<style scoped>\n",
       "    .dataframe tbody tr th:only-of-type {\n",
       "        vertical-align: middle;\n",
       "    }\n",
       "\n",
       "    .dataframe tbody tr th {\n",
       "        vertical-align: top;\n",
       "    }\n",
       "\n",
       "    .dataframe thead th {\n",
       "        text-align: right;\n",
       "    }\n",
       "</style>\n",
       "<table border=\"1\" class=\"dataframe\">\n",
       "  <thead>\n",
       "    <tr style=\"text-align: right;\">\n",
       "      <th></th>\n",
       "      <th>feature</th>\n",
       "      <th>regression_coefficient</th>\n",
       "    </tr>\n",
       "  </thead>\n",
       "  <tbody>\n",
       "    <tr>\n",
       "      <th>0</th>\n",
       "      <td>text_reviews_count</td>\n",
       "      <td>2.293108</td>\n",
       "    </tr>\n",
       "    <tr>\n",
       "      <th>1</th>\n",
       "      <td>is_ebook</td>\n",
       "      <td>0.192240</td>\n",
       "    </tr>\n",
       "    <tr>\n",
       "      <th>2</th>\n",
       "      <td>average_rating</td>\n",
       "      <td>1.368347</td>\n",
       "    </tr>\n",
       "    <tr>\n",
       "      <th>3</th>\n",
       "      <td>num_pages</td>\n",
       "      <td>0.183483</td>\n",
       "    </tr>\n",
       "    <tr>\n",
       "      <th>4</th>\n",
       "      <td>ratings_count</td>\n",
       "      <td>-0.588185</td>\n",
       "    </tr>\n",
       "    <tr>\n",
       "      <th>5</th>\n",
       "      <td>is_translated</td>\n",
       "      <td>-0.090949</td>\n",
       "    </tr>\n",
       "    <tr>\n",
       "      <th>6</th>\n",
       "      <td>is_in_series</td>\n",
       "      <td>-0.033236</td>\n",
       "    </tr>\n",
       "    <tr>\n",
       "      <th>7</th>\n",
       "      <td>series_length</td>\n",
       "      <td>0.210957</td>\n",
       "    </tr>\n",
       "    <tr>\n",
       "      <th>8</th>\n",
       "      <td>is_paperback</td>\n",
       "      <td>-0.094825</td>\n",
       "    </tr>\n",
       "    <tr>\n",
       "      <th>9</th>\n",
       "      <td>is_hardcover</td>\n",
       "      <td>-0.069245</td>\n",
       "    </tr>\n",
       "    <tr>\n",
       "      <th>10</th>\n",
       "      <td>is_audio</td>\n",
       "      <td>0.750129</td>\n",
       "    </tr>\n",
       "    <tr>\n",
       "      <th>11</th>\n",
       "      <td>from_penguin</td>\n",
       "      <td>-0.069749</td>\n",
       "    </tr>\n",
       "    <tr>\n",
       "      <th>12</th>\n",
       "      <td>from_harpercollins</td>\n",
       "      <td>0.101467</td>\n",
       "    </tr>\n",
       "    <tr>\n",
       "      <th>13</th>\n",
       "      <td>from_university_press</td>\n",
       "      <td>0.110545</td>\n",
       "    </tr>\n",
       "    <tr>\n",
       "      <th>14</th>\n",
       "      <td>from_vintage</td>\n",
       "      <td>-0.216766</td>\n",
       "    </tr>\n",
       "    <tr>\n",
       "      <th>15</th>\n",
       "      <td>from_createspace</td>\n",
       "      <td>-0.859015</td>\n",
       "    </tr>\n",
       "    <tr>\n",
       "      <th>16</th>\n",
       "      <td>author_a</td>\n",
       "      <td>1.117998</td>\n",
       "    </tr>\n",
       "    <tr>\n",
       "      <th>17</th>\n",
       "      <td>author_b</td>\n",
       "      <td>0.261052</td>\n",
       "    </tr>\n",
       "    <tr>\n",
       "      <th>18</th>\n",
       "      <td>author_c</td>\n",
       "      <td>0.872739</td>\n",
       "    </tr>\n",
       "    <tr>\n",
       "      <th>19</th>\n",
       "      <td>publication_year</td>\n",
       "      <td>-4.310999</td>\n",
       "    </tr>\n",
       "    <tr>\n",
       "      <th>20</th>\n",
       "      <td>author_d</td>\n",
       "      <td>1.128595</td>\n",
       "    </tr>\n",
       "    <tr>\n",
       "      <th>21</th>\n",
       "      <td>author_e</td>\n",
       "      <td>0.160921</td>\n",
       "    </tr>\n",
       "    <tr>\n",
       "      <th>22</th>\n",
       "      <td>author_f</td>\n",
       "      <td>0.084002</td>\n",
       "    </tr>\n",
       "    <tr>\n",
       "      <th>23</th>\n",
       "      <td>book_shelved_count</td>\n",
       "      <td>0.713234</td>\n",
       "    </tr>\n",
       "    <tr>\n",
       "      <th>24</th>\n",
       "      <td>title_len</td>\n",
       "      <td>0.008036</td>\n",
       "    </tr>\n",
       "    <tr>\n",
       "      <th>25</th>\n",
       "      <td>shelved_count</td>\n",
       "      <td>-19.758596</td>\n",
       "    </tr>\n",
       "    <tr>\n",
       "      <th>26</th>\n",
       "      <td>read_count</td>\n",
       "      <td>-0.519325</td>\n",
       "    </tr>\n",
       "    <tr>\n",
       "      <th>27</th>\n",
       "      <td>rated_count</td>\n",
       "      <td>1.234003</td>\n",
       "    </tr>\n",
       "    <tr>\n",
       "      <th>28</th>\n",
       "      <td>recommended_count</td>\n",
       "      <td>15.427115</td>\n",
       "    </tr>\n",
       "  </tbody>\n",
       "</table>\n",
       "</div>"
      ],
      "text/plain": [
       "                  feature  regression_coefficient\n",
       "0      text_reviews_count                2.293108\n",
       "1                is_ebook                0.192240\n",
       "2          average_rating                1.368347\n",
       "3               num_pages                0.183483\n",
       "4           ratings_count               -0.588185\n",
       "5           is_translated               -0.090949\n",
       "6            is_in_series               -0.033236\n",
       "7           series_length                0.210957\n",
       "8            is_paperback               -0.094825\n",
       "9            is_hardcover               -0.069245\n",
       "10               is_audio                0.750129\n",
       "11           from_penguin               -0.069749\n",
       "12     from_harpercollins                0.101467\n",
       "13  from_university_press                0.110545\n",
       "14           from_vintage               -0.216766\n",
       "15       from_createspace               -0.859015\n",
       "16               author_a                1.117998\n",
       "17               author_b                0.261052\n",
       "18               author_c                0.872739\n",
       "19       publication_year               -4.310999\n",
       "20               author_d                1.128595\n",
       "21               author_e                0.160921\n",
       "22               author_f                0.084002\n",
       "23     book_shelved_count                0.713234\n",
       "24              title_len                0.008036\n",
       "25          shelved_count              -19.758596\n",
       "26             read_count               -0.519325\n",
       "27            rated_count                1.234003\n",
       "28      recommended_count               15.427115"
      ]
     },
     "execution_count": 13,
     "metadata": {},
     "output_type": "execute_result"
    }
   ],
   "source": [
    "reg_df = pd.DataFrame({'feature': columns_to_keep,\n",
    "                       'regression_coefficient': reg_model.coef_[0]})\n",
    "\n",
    "reg_df.head(len(columns_to_keep))"
   ]
  },
  {
   "cell_type": "markdown",
   "metadata": {},
   "source": [
    "##### Random Forest"
   ]
  },
  {
   "cell_type": "code",
   "execution_count": 12,
   "metadata": {},
   "outputs": [
    {
     "name": "stdout",
     "output_type": "stream",
     "text": [
      "Training\n",
      "--------\n",
      "              precision    recall  f1-score   support\n",
      "\n",
      "           0       0.75      0.78      0.76    128756\n",
      "           1       0.82      0.80      0.81    163519\n",
      "\n",
      "    accuracy                           0.79    292275\n",
      "   macro avg       0.79      0.79      0.79    292275\n",
      "weighted avg       0.79      0.79      0.79    292275\n",
      "\n",
      "AUC: 0.7876575727462174\n",
      "\n",
      "Testing\n",
      "--------\n",
      "              precision    recall  f1-score   support\n",
      "\n",
      "           0       0.66      0.70      0.68     17725\n",
      "           1       0.66      0.62      0.64     16905\n",
      "\n",
      "    accuracy                           0.66     34630\n",
      "   macro avg       0.66      0.66      0.66     34630\n",
      "weighted avg       0.66      0.66      0.66     34630\n",
      "\n",
      "AUC: 0.6593787651811812\n",
      "\n"
     ]
    }
   ],
   "source": [
    "rf_model = RandomForestClassifier(n_estimators=1000, max_depth=15)\n",
    "rf_model.fit(X_train, y_train)\n",
    "\n",
    "rf_train_preds = rf_model.predict(X_train)\n",
    "rf_test_preds = rf_model.predict(X_test)\n",
    "\n",
    "print_classification_stats(rf_train_preds, y_train, rf_test_preds, y_test)"
   ]
  },
  {
   "cell_type": "code",
   "execution_count": 14,
   "metadata": {},
   "outputs": [],
   "source": [
    "MAPPING_DIR = './mappings/'\n",
    "cols_to_keep = ['user_number', 'item_number', 's1', 's2', 's3', 's4']\n",
    "\n",
    "s_values_df = pd.read_csv(MAPPING_DIR+\"goodreads_s_values_uniform.csv\")[cols_to_keep]"
   ]
  },
  {
   "cell_type": "code",
   "execution_count": 15,
   "metadata": {},
   "outputs": [],
   "source": [
    "s_values_df['user_number'] = s_values_df['user_number'].apply(lambda x: str(x))\n",
    "s_values_df['item_number'] = s_values_df['item_number'].apply(lambda x: str(x))\n",
    "s_values_df['user_item_id'] = s_values_df['user_number'] + \"-\" + s_values_df['item_number']"
   ]
  },
  {
   "cell_type": "code",
   "execution_count": 16,
   "metadata": {},
   "outputs": [],
   "source": [
    "user_map = pd.read_csv(MAPPING_DIR+\"user_map.csv\")\n",
    "book_map = pd.read_csv(MAPPING_DIR+\"book_map.csv\")"
   ]
  },
  {
   "cell_type": "code",
   "execution_count": 17,
   "metadata": {},
   "outputs": [],
   "source": [
    "book_map['book_id'] = book_map['book_id'].apply(lambda x: str(x))"
   ]
  },
  {
   "cell_type": "code",
   "execution_count": 18,
   "metadata": {},
   "outputs": [],
   "source": [
    "def create_user_item_id(data_df, u_map, i_map):\n",
    "    \"\"\"Creates a user-item ID for the records in `data_df`.\n",
    "\n",
    "    The user-item ID is created from `u_map` and `i_map`.\n",
    "    Both mappings, map text user IDs to numeric user IDs\n",
    "    and these numeric user IDs are combined to form the\n",
    "    user-item ID.\n",
    "\n",
    "    Parameters\n",
    "    ----------\n",
    "    data_df: pd.DataFrame\n",
    "        The DataFrame for which the user-item ID is created.\n",
    "    u_map: pd.DataFrame\n",
    "        A DataFrame containing a mapping from a text user ID to\n",
    "        a numeric user ID.\n",
    "    i_map: pd.DataFrame\n",
    "        A DataFrame containing a mapping from a text item ID to\n",
    "        a numeric item ID.\n",
    "\n",
    "    Returns\n",
    "    -------\n",
    "    pd.DataFrame\n",
    "        The DataFrame obtained from `data_df` after adding a\n",
    "        user-item ID field based on `u_map` and `i_map`.\n",
    "\n",
    "    \"\"\"\n",
    "    data_df['book_id'] = data_df['book_id'].apply(lambda x: str(x))\n",
    "    data_df = pd.merge(data_df, u_map, how=\"left\", on=[\"user_id\"])\n",
    "    data_df = pd.merge(data_df, i_map, how=\"left\", on=[\"book_id\"])\n",
    "    data_df['user_number'] = data_df['user_number'].apply(lambda x: str(x))\n",
    "    data_df['book_number'] = data_df['book_number'].apply(lambda x: str(x))\n",
    "    data_df['user_item_id'] = data_df['user_number'] + \"-\" + data_df['book_number']\n",
    "    return data_df.drop(columns=['user_number', 'book_number'])"
   ]
  },
  {
   "cell_type": "code",
   "execution_count": 20,
   "metadata": {},
   "outputs": [],
   "source": [
    "train_df = create_user_item_id(train_df, user_map, book_map)\n",
    "test_df = create_user_item_id(test_df, user_map, book_map)"
   ]
  },
  {
   "cell_type": "code",
   "execution_count": 21,
   "metadata": {},
   "outputs": [],
   "source": [
    "s_values_df.drop(columns=['user_number', 'item_number'], inplace=True)\n",
    "\n",
    "train_df_s = pd.merge(train_df, s_values_df, how='left', on=['user_item_id'])\n",
    "test_df_s = pd.merge(test_df, s_values_df, how='left', on=['user_item_id'])\n",
    "\n",
    "train_df_s.drop(columns=['user_item_id'], inplace=True)\n",
    "test_df_s.drop(columns=['user_item_id'], inplace=True)"
   ]
  },
  {
   "cell_type": "code",
   "execution_count": 22,
   "metadata": {},
   "outputs": [],
   "source": [
    "feature_columns = ['text_reviews_count', 'is_ebook', 'average_rating', 'num_pages',\n",
    "                   'ratings_count', 'is_translated', 'is_in_series', 'series_length',\n",
    "                   'is_paperback', 'is_hardcover', 'is_audio', 'from_penguin',\n",
    "                   'from_harpercollins', 'from_university_press', 'from_vintage',\n",
    "                   'from_createspace', 'publication_year', 'author_a', 'author_b',\n",
    "                   'author_c', 'author_d', 'author_e', 'author_f',\n",
    "                   'book_shelved_count', 'shelved_count', 'read_count', 'rated_count',\n",
    "                   'recommended_count', 'title_len', 's1', 's2', 's3', 's4']\n",
    "X_train = train_df_s[feature_columns]\n",
    "X_test = test_df_s[feature_columns]"
   ]
  },
  {
   "cell_type": "code",
   "execution_count": 23,
   "metadata": {},
   "outputs": [],
   "source": [
    "def log_transform_columns(data_df, cols):\n",
    "    \"\"\"Applies a log transform to `cols` in `data_df`.\n",
    "\n",
    "    Parameters\n",
    "    ----------\n",
    "    data_df: pd.DataFrame\n",
    "        The DataFrame in which the columns will be transformed.\n",
    "    cols: collection\n",
    "        The columns in `data_df` to be log scaled.\n",
    "\n",
    "    Returns\n",
    "    -------\n",
    "    pd.DataFrame\n",
    "        The DataFrame obtained from `data_df` after log scaling\n",
    "        the columns `cols`.\n",
    "\n",
    "    \"\"\"\n",
    "    for col in cols:\n",
    "        data_df[col] = data_df[col].apply(lambda x: np.log(x) if x > 0 else 0)\n",
    "    return data_df"
   ]
  },
  {
   "cell_type": "code",
   "execution_count": 24,
   "metadata": {},
   "outputs": [
    {
     "name": "stderr",
     "output_type": "stream",
     "text": [
      "<ipython-input-23-49ee2668773d>:19: SettingWithCopyWarning: \n",
      "A value is trying to be set on a copy of a slice from a DataFrame.\n",
      "Try using .loc[row_indexer,col_indexer] = value instead\n",
      "\n",
      "See the caveats in the documentation: https://pandas.pydata.org/pandas-docs/stable/user_guide/indexing.html#returning-a-view-versus-a-copy\n",
      "  data_df[col] = data_df[col].apply(lambda x: np.log(x) if x > 0 else 0)\n"
     ]
    }
   ],
   "source": [
    "log_transform_cols = ['text_reviews_count', 'ratings_count', 'shelved_count', \n",
    "                      'read_count', 'rated_count', 'recommended_count', 'book_shelved_count']\n",
    "X_train = log_transform_columns(X_train, log_transform_cols)\n",
    "X_test = log_transform_columns(X_test, log_transform_cols)"
   ]
  },
  {
   "cell_type": "code",
   "execution_count": 25,
   "metadata": {},
   "outputs": [],
   "source": [
    "def sigmoid(val):\n",
    "    \"\"\"Applies the sigmoid function to `val`.\n",
    "\n",
    "    The sigmoid function has the form\n",
    "    f(x) = 1 / (1 + exp(-x))\n",
    "\n",
    "    Parameters\n",
    "    ----------\n",
    "    val: float\n",
    "        The operand to the sigmoid function.\n",
    "\n",
    "    Returns\n",
    "    -------\n",
    "    float\n",
    "        The result of applying the sigmoid\n",
    "        function to `val`.\n",
    "\n",
    "    \"\"\"\n",
    "    return 1 / (1 + np.exp(-val))"
   ]
  },
  {
   "cell_type": "code",
   "execution_count": 26,
   "metadata": {},
   "outputs": [],
   "source": [
    "def scale_s_values(data_df):\n",
    "    \"\"\"Applies the sigmoid function to the s values in `data_df`.\n",
    "\n",
    "    Parameters\n",
    "    ---------\n",
    "    data_df: pd.DataFrame\n",
    "        The DataFrame for which the operation is performed.\n",
    "\n",
    "    Returns\n",
    "    -------\n",
    "    pd.DataFrame\n",
    "        The DataFrame that results from scaling the s values\n",
    "        in `data_df`.\n",
    "\n",
    "    \"\"\"\n",
    "    for s_col in [\"s1\", \"s2\", \"s3\", \"s4\"]:\n",
    "        data_df[s_col] = data_df[s_col].apply(lambda x: sigmoid(x))\n",
    "    return data_df"
   ]
  },
  {
   "cell_type": "code",
   "execution_count": 27,
   "metadata": {},
   "outputs": [
    {
     "name": "stderr",
     "output_type": "stream",
     "text": [
      "<ipython-input-26-6ebd382f64d0>:17: SettingWithCopyWarning: \n",
      "A value is trying to be set on a copy of a slice from a DataFrame.\n",
      "Try using .loc[row_indexer,col_indexer] = value instead\n",
      "\n",
      "See the caveats in the documentation: https://pandas.pydata.org/pandas-docs/stable/user_guide/indexing.html#returning-a-view-versus-a-copy\n",
      "  data_df[s_col] = data_df[s_col].apply(lambda x: sigmoid(x))\n"
     ]
    }
   ],
   "source": [
    "X_train = scale_s_values(X_train)\n",
    "X_test = scale_s_values(X_test)"
   ]
  },
  {
   "cell_type": "code",
   "execution_count": 28,
   "metadata": {},
   "outputs": [],
   "source": [
    "min_max_scaler = MinMaxScaler()\n",
    "\n",
    "X_train_reg = min_max_scaler.fit_transform(X_train)\n",
    "X_test_reg = min_max_scaler.transform(X_test)"
   ]
  },
  {
   "cell_type": "code",
   "execution_count": 29,
   "metadata": {},
   "outputs": [],
   "source": [
    "book_df = pd.concat([train_df_s, test_df_s], axis=0)[['book_id', 'cleaned_text']]\n",
    "book_df = book_df.drop_duplicates(subset=['book_id'])\n",
    "\n",
    "book_df['cleaned_text'] = book_df['cleaned_text'].apply(lambda x: \"\" if pd.isnull(x) else x)\n",
    "\n",
    "w2v = Word2Vec(list(book_df['cleaned_text']), size=200, window=10, min_count=1)"
   ]
  },
  {
   "cell_type": "code",
   "execution_count": 30,
   "metadata": {},
   "outputs": [],
   "source": [
    "def create_book_vector(book_text, vec_length):\n",
    "    \"\"\"Creates a vector for the book given by `book_text`.\n",
    "\n",
    "    The word vectors for each word in `book_text` are\n",
    "    averaged to build a vector for the book.\n",
    "\n",
    "    Parameters\n",
    "    ----------\n",
    "    book_text: str\n",
    "        The book text for which the vector is generated.\n",
    "\n",
    "    Returns\n",
    "    -------\n",
    "    vector\n",
    "        A vector for the book.\n",
    "\n",
    "    \"\"\"\n",
    "    text_vecs = [word for word in str(book_text) if word in w2v.wv.vocab]\n",
    "    if len(text_vecs) > 0:\n",
    "        return np.mean(w2v[text_vecs], axis=0)\n",
    "    return np.zeros(vec_length)"
   ]
  },
  {
   "cell_type": "code",
   "execution_count": 31,
   "metadata": {},
   "outputs": [
    {
     "name": "stderr",
     "output_type": "stream",
     "text": [
      "<ipython-input-30-4533799a3578>:20: DeprecationWarning: Call to deprecated `__getitem__` (Method will be removed in 4.0.0, use self.wv.__getitem__() instead).\n",
      "  return np.mean(w2v[text_vecs], axis=0)\n"
     ]
    }
   ],
   "source": [
    "book_df['book_vector'] = book_df['cleaned_text'].apply(lambda x: create_book_vector(x, 200))"
   ]
  },
  {
   "cell_type": "code",
   "execution_count": 32,
   "metadata": {},
   "outputs": [],
   "source": [
    "train_df_s = pd.merge(train_df_s, book_df, how='left', on=['book_id'])\n",
    "test_df_s = pd.merge(test_df_s, book_df, how='left', on=['book_id'])"
   ]
  },
  {
   "cell_type": "code",
   "execution_count": 35,
   "metadata": {},
   "outputs": [],
   "source": [
    "def create_book_vec_df(book_vecs, indices):\n",
    "    \"\"\"Creates a dataframe from `book_vecs`.\n",
    "\n",
    "    Each numpy array in `book_vecs` is converted to a\n",
    "    row in the resulting dataframe.\n",
    "\n",
    "    Parameters\n",
    "    ----------\n",
    "    book_vecs: list\n",
    "        A list of numpy arrays where each array corresponds\n",
    "        to the book vector for a book.\n",
    "    indicies: np.array\n",
    "        A numpy array of indices for the DataFrame\n",
    "\n",
    "    Returns\n",
    "    -------\n",
    "    pd.DataFrame\n",
    "        The DataFrame obtained from converting `review_vecs`\n",
    "        to a dataframe.\n",
    "\n",
    "    \"\"\"\n",
    "    book_vec_df = pd.DataFrame(np.vstack(book_vecs))\n",
    "    book_vec_df.columns = [\"word\" + str(col) for col in book_vec_df.columns]\n",
    "    book_vec_df.index = indices\n",
    "    return book_vec_df"
   ]
  },
  {
   "cell_type": "code",
   "execution_count": 36,
   "metadata": {},
   "outputs": [],
   "source": [
    "train_wv = create_book_vec_df(train_df_s['book_vector'], train_df_s.index)\n",
    "test_wv = create_book_vec_df(test_df_s['book_vector'], test_df_s.index)"
   ]
  },
  {
   "cell_type": "code",
   "execution_count": 37,
   "metadata": {},
   "outputs": [],
   "source": [
    "X_train_wv_reg = pd.concat([train_wv, pd.DataFrame(np.vstack(X_train_reg))], axis=1)\n",
    "X_test_wv_reg = pd.concat([test_wv, pd.DataFrame(np.vstack(X_test_reg))], axis=1)"
   ]
  },
  {
   "cell_type": "code",
   "execution_count": 38,
   "metadata": {},
   "outputs": [
    {
     "name": "stdout",
     "output_type": "stream",
     "text": [
      "Training\n",
      "--------\n",
      "              precision    recall  f1-score   support\n",
      "\n",
      "           0       0.76      0.63      0.69    128756\n",
      "           1       0.74      0.84      0.79    163519\n",
      "\n",
      "    accuracy                           0.75    292275\n",
      "   macro avg       0.75      0.74      0.74    292275\n",
      "weighted avg       0.75      0.75      0.74    292275\n",
      "\n",
      "AUC: 0.7359693904578151\n",
      "\n",
      "Testing\n",
      "--------\n",
      "              precision    recall  f1-score   support\n",
      "\n",
      "           0       0.71      0.45      0.55     17725\n",
      "           1       0.58      0.81      0.68     16905\n",
      "\n",
      "    accuracy                           0.62     34630\n",
      "   macro avg       0.65      0.63      0.61     34630\n",
      "weighted avg       0.65      0.62      0.61     34630\n",
      "\n",
      "AUC: 0.6277156131355467\n",
      "\n"
     ]
    }
   ],
   "source": [
    "reg_model = LogisticRegression(max_iter=10000)\n",
    "reg_model.fit(X_train_wv_reg, y_train)\n",
    "\n",
    "reg_train_preds = reg_model.predict(X_train_wv_reg)\n",
    "reg_test_preds = reg_model.predict(X_test_wv_reg)\n",
    "\n",
    "print_classification_stats(reg_train_preds, y_train, reg_test_preds, y_test)"
   ]
  },
  {
   "cell_type": "code",
   "execution_count": 45,
   "metadata": {},
   "outputs": [
    {
     "name": "stdout",
     "output_type": "stream",
     "text": [
      "0.8091688849452825\n"
     ]
    }
   ],
   "source": [
    "print(recall_score(y_test, reg_test_preds))"
   ]
  },
  {
   "cell_type": "code",
   "execution_count": 40,
   "metadata": {},
   "outputs": [],
   "source": [
    "X_train_wv = pd.concat([train_wv, X_train], axis=1)\n",
    "X_test_wv = pd.concat([test_wv, X_test], axis=1)"
   ]
  },
  {
   "cell_type": "code",
   "execution_count": 41,
   "metadata": {},
   "outputs": [
    {
     "name": "stdout",
     "output_type": "stream",
     "text": [
      "Training\n",
      "--------\n",
      "              precision    recall  f1-score   support\n",
      "\n",
      "           0       0.77      0.67      0.72    128756\n",
      "           1       0.77      0.84      0.80    163519\n",
      "\n",
      "    accuracy                           0.77    292275\n",
      "   macro avg       0.77      0.76      0.76    292275\n",
      "weighted avg       0.77      0.77      0.76    292275\n",
      "\n",
      "AUC: 0.7564293658845201\n",
      "\n",
      "Testing\n",
      "--------\n",
      "              precision    recall  f1-score   support\n",
      "\n",
      "           0       0.70      0.50      0.59     17725\n",
      "           1       0.60      0.78      0.68     16905\n",
      "\n",
      "    accuracy                           0.64     34630\n",
      "   macro avg       0.65      0.64      0.63     34630\n",
      "weighted avg       0.65      0.64      0.63     34630\n",
      "\n",
      "AUC: 0.6400839003658128\n",
      "\n"
     ]
    }
   ],
   "source": [
    "xgb_model = XGBClassifier(\n",
    "    objective='binary:logistic', learning_rate=0.1,\n",
    "    n_estimators=2000, max_depth=2)\n",
    "xgb_model.fit(X_train_wv, y_train)\n",
    "\n",
    "xgb_train_preds = xgb_model.predict(X_train_wv)\n",
    "xgb_test_preds = xgb_model.predict(X_test_wv)\n",
    "\n",
    "print_classification_stats(xgb_train_preds, y_train, xgb_test_preds, y_test)"
   ]
  },
  {
   "cell_type": "code",
   "execution_count": 46,
   "metadata": {},
   "outputs": [
    {
     "name": "stdout",
     "output_type": "stream",
     "text": [
      "0.7792369121561669\n"
     ]
    }
   ],
   "source": [
    "print(recall_score(y_test, xgb_test_preds))"
   ]
  },
  {
   "cell_type": "code",
   "execution_count": 47,
   "metadata": {},
   "outputs": [
    {
     "name": "stdout",
     "output_type": "stream",
     "text": [
      "0.6207039337474121\n"
     ]
    }
   ],
   "source": [
    "print(recall_score(y_test, rf_test_preds))"
   ]
  },
  {
   "cell_type": "code",
   "execution_count": 55,
   "metadata": {},
   "outputs": [],
   "source": [
    "s_cols = ['s1', 's2', 's3', 's4']\n",
    "\n",
    "X_train_xgb = X_train_wv.drop(columns=s_cols)\n",
    "X_test_xgb = X_test_wv.drop(columns=s_cols)\n",
    "\n",
    "X_train_s = X_train_wv[s_cols]\n",
    "X_test_s = X_test_wv[s_cols]"
   ]
  },
  {
   "cell_type": "code",
   "execution_count": 57,
   "metadata": {},
   "outputs": [],
   "source": [
    "xgb_model = XGBClassifier(\n",
    "    objective='binary:logistic', learning_rate=0.1,\n",
    "    n_estimators=2000, max_depth=2)\n",
    "xgb_model.fit(X_train_xgb, y_train)\n",
    "\n",
    "xgb_train_preds = xgb_model.predict(X_train_xgb)\n",
    "xgb_test_preds = xgb_model.predict(X_test_xgb)"
   ]
  },
  {
   "cell_type": "code",
   "execution_count": 58,
   "metadata": {},
   "outputs": [],
   "source": [
    "X_train_meta = pd.concat([X_train_s, pd.DataFrame(xgb_train_preds, columns=['xgb_preds'])], axis=1)\n",
    "X_test_meta = pd.concat([X_test_s, pd.DataFrame(xgb_test_preds, columns=['xgb_preds'])], axis=1)"
   ]
  },
  {
   "cell_type": "code",
   "execution_count": 60,
   "metadata": {},
   "outputs": [],
   "source": [
    "min_max_scaler = MinMaxScaler()\n",
    "\n",
    "X_train_meta = min_max_scaler.fit_transform(X_train_meta)\n",
    "X_test_meta = min_max_scaler.fit_transform(X_test_meta)"
   ]
  },
  {
   "cell_type": "code",
   "execution_count": 61,
   "metadata": {},
   "outputs": [
    {
     "name": "stdout",
     "output_type": "stream",
     "text": [
      "Training\n",
      "--------\n",
      "              precision    recall  f1-score   support\n",
      "\n",
      "           0       0.76      0.67      0.71    128756\n",
      "           1       0.76      0.83      0.79    163519\n",
      "\n",
      "    accuracy                           0.76    292275\n",
      "   macro avg       0.76      0.75      0.75    292275\n",
      "weighted avg       0.76      0.76      0.76    292275\n",
      "\n",
      "AUC: 0.7497048746534598\n",
      "\n",
      "Testing\n",
      "--------\n",
      "              precision    recall  f1-score   support\n",
      "\n",
      "           0       0.69      0.57      0.62     17725\n",
      "           1       0.62      0.74      0.67     16905\n",
      "\n",
      "    accuracy                           0.65     34630\n",
      "   macro avg       0.66      0.65      0.65     34630\n",
      "weighted avg       0.66      0.65      0.65     34630\n",
      "\n",
      "AUC: 0.6519841193360891\n",
      "\n"
     ]
    }
   ],
   "source": [
    "reg_model = LogisticRegression(max_iter=10000)\n",
    "reg_model.fit(X_train_meta, y_train)\n",
    "\n",
    "reg_train_preds = reg_model.predict(X_train_meta)\n",
    "reg_test_preds = reg_model.predict(X_test_meta)\n",
    "\n",
    "print_classification_stats(reg_train_preds, y_train, reg_test_preds, y_test)"
   ]
  },
  {
   "cell_type": "code",
   "execution_count": 63,
   "metadata": {},
   "outputs": [
    {
     "data": {
      "text/html": [
       "<div>\n",
       "<style scoped>\n",
       "    .dataframe tbody tr th:only-of-type {\n",
       "        vertical-align: middle;\n",
       "    }\n",
       "\n",
       "    .dataframe tbody tr th {\n",
       "        vertical-align: top;\n",
       "    }\n",
       "\n",
       "    .dataframe thead th {\n",
       "        text-align: right;\n",
       "    }\n",
       "</style>\n",
       "<table border=\"1\" class=\"dataframe\">\n",
       "  <thead>\n",
       "    <tr style=\"text-align: right;\">\n",
       "      <th></th>\n",
       "      <th>feature</th>\n",
       "      <th>regression_coefficient</th>\n",
       "    </tr>\n",
       "  </thead>\n",
       "  <tbody>\n",
       "    <tr>\n",
       "      <th>0</th>\n",
       "      <td>s1</td>\n",
       "      <td>7.055931</td>\n",
       "    </tr>\n",
       "    <tr>\n",
       "      <th>1</th>\n",
       "      <td>s2</td>\n",
       "      <td>-7.423238</td>\n",
       "    </tr>\n",
       "    <tr>\n",
       "      <th>2</th>\n",
       "      <td>s3</td>\n",
       "      <td>-9.975437</td>\n",
       "    </tr>\n",
       "    <tr>\n",
       "      <th>3</th>\n",
       "      <td>s4</td>\n",
       "      <td>9.692845</td>\n",
       "    </tr>\n",
       "    <tr>\n",
       "      <th>4</th>\n",
       "      <td>xgb_preds</td>\n",
       "      <td>2.134022</td>\n",
       "    </tr>\n",
       "  </tbody>\n",
       "</table>\n",
       "</div>"
      ],
      "text/plain": [
       "     feature  regression_coefficient\n",
       "0         s1                7.055931\n",
       "1         s2               -7.423238\n",
       "2         s3               -9.975437\n",
       "3         s4                9.692845\n",
       "4  xgb_preds                2.134022"
      ]
     },
     "execution_count": 63,
     "metadata": {},
     "output_type": "execute_result"
    }
   ],
   "source": [
    "feature_cols = ['s1', 's2', 's3', 's4', 'xgb_preds']\n",
    "\n",
    "reg_df = pd.DataFrame({'feature': feature_cols,\n",
    "                       'regression_coefficient': reg_model.coef_[0]})\n",
    "\n",
    "reg_df.head(len(feature_cols))"
   ]
  },
  {
   "cell_type": "code",
   "execution_count": 64,
   "metadata": {},
   "outputs": [
    {
     "name": "stdout",
     "output_type": "stream",
     "text": [
      "0.7351671103223898\n"
     ]
    }
   ],
   "source": [
    "print(recall_score(y_test, reg_test_preds))"
   ]
  },
  {
   "cell_type": "code",
   "execution_count": null,
   "metadata": {},
   "outputs": [],
   "source": []
  }
 ],
 "metadata": {
  "kernelspec": {
   "display_name": "csc2515-env-3.8",
   "language": "python",
   "name": "csc2515-env-3.8"
  },
  "language_info": {
   "codemirror_mode": {
    "name": "ipython",
    "version": 3
   },
   "file_extension": ".py",
   "mimetype": "text/x-python",
   "name": "python",
   "nbconvert_exporter": "python",
   "pygments_lexer": "ipython3",
   "version": "3.8.0"
  }
 },
 "nbformat": 4,
 "nbformat_minor": 4
}
